{
 "cells": [
  {
   "cell_type": "code",
   "execution_count": 1,
   "id": "c28ad50a",
   "metadata": {},
   "outputs": [
    {
     "name": "stderr",
     "output_type": "stream",
     "text": [
      "Using Spark's default log4j profile: org/apache/spark/log4j-defaults.properties\n",
      "Setting default log level to \"WARN\".\n",
      "To adjust logging level use sc.setLogLevel(newLevel). For SparkR, use setLogLevel(newLevel).\n",
      "23/11/16 10:43:40 WARN NativeCodeLoader: Unable to load native-hadoop library for your platform... using builtin-java classes where applicable\n"
     ]
    },
    {
     "data": {
      "text/html": [
       "\n",
       "            <div>\n",
       "                <p><b>SparkSession - in-memory</b></p>\n",
       "                \n",
       "        <div>\n",
       "            <p><b>SparkContext</b></p>\n",
       "\n",
       "            <p><a href=\"http://0.0.0.0:4040\">Spark UI</a></p>\n",
       "\n",
       "            <dl>\n",
       "              <dt>Version</dt>\n",
       "                <dd><code>v3.2.4</code></dd>\n",
       "              <dt>Master</dt>\n",
       "                <dd><code>local</code></dd>\n",
       "              <dt>AppName</dt>\n",
       "                <dd><code>spark-dataframe</code></dd>\n",
       "            </dl>\n",
       "        </div>\n",
       "        \n",
       "            </div>\n",
       "        "
      ],
      "text/plain": [
       "<pyspark.sql.session.SparkSession at 0x7f6e2c0ee310>"
      ]
     },
     "execution_count": 1,
     "metadata": {},
     "output_type": "execute_result"
    }
   ],
   "source": [
    "from pyspark.sql import SparkSession\n",
    "spark = SparkSession.builder.master(\"local\").appName(\"spark-dataframe\").getOrCreate()\n",
    "spark"
   ]
  },
  {
   "cell_type": "markdown",
   "id": "1d2c44cf",
   "metadata": {},
   "source": [
    "# Spark DataFrame 생성\n",
    "- csv를 불러와서 생성"
   ]
  },
  {
   "cell_type": "code",
   "execution_count": 2,
   "id": "5abc1e78",
   "metadata": {},
   "outputs": [
    {
     "name": "stderr",
     "output_type": "stream",
     "text": [
      "                                                                                \r"
     ]
    },
    {
     "data": {
      "text/plain": [
       "[('PassengerId', 'int'),\n",
       " ('Survived', 'int'),\n",
       " ('Pclass', 'int'),\n",
       " ('Name', 'string'),\n",
       " ('Sex', 'string'),\n",
       " ('Age', 'double'),\n",
       " ('SibSp', 'int'),\n",
       " ('Parch', 'int'),\n",
       " ('Ticket', 'string'),\n",
       " ('Fare', 'double'),\n",
       " ('Cabin', 'string'),\n",
       " ('Embarked', 'string')]"
      ]
     },
     "execution_count": 2,
     "metadata": {},
     "output_type": "execute_result"
    }
   ],
   "source": [
    "filepath = \"/home/ubuntu/working/spark-examples/data/titanic_train.csv\"\n",
    "\n",
    "# inferSchema 사용\n",
    "titanic_sdf = spark.read.csv(filepath, inferSchema=True, header=True)\n",
    "titanic_sdf.dtypes"
   ]
  },
  {
   "cell_type": "code",
   "execution_count": 4,
   "id": "64461bd4",
   "metadata": {},
   "outputs": [
    {
     "name": "stdout",
     "output_type": "stream",
     "text": [
      "root\n",
      " |-- PassengerId: integer (nullable = true)\n",
      " |-- Survived: integer (nullable = true)\n",
      " |-- Pclass: integer (nullable = true)\n",
      " |-- Name: string (nullable = true)\n",
      " |-- Sex: string (nullable = true)\n",
      " |-- Age: double (nullable = true)\n",
      " |-- SibSp: integer (nullable = true)\n",
      " |-- Parch: integer (nullable = true)\n",
      " |-- Ticket: string (nullable = true)\n",
      " |-- Fare: double (nullable = true)\n",
      " |-- Cabin: string (nullable = true)\n",
      " |-- Embarked: string (nullable = true)\n",
      "\n"
     ]
    }
   ],
   "source": [
    "titanic_sdf.printSchema()"
   ]
  },
  {
   "cell_type": "code",
   "execution_count": 5,
   "id": "02a4e4f1",
   "metadata": {},
   "outputs": [
    {
     "name": "stdout",
     "output_type": "stream",
     "text": [
      "+-----------+--------+------+--------------------+------+----+-----+-----+----------------+-------+-----+--------+\n",
      "|PassengerId|Survived|Pclass|                Name|   Sex| Age|SibSp|Parch|          Ticket|   Fare|Cabin|Embarked|\n",
      "+-----------+--------+------+--------------------+------+----+-----+-----+----------------+-------+-----+--------+\n",
      "|          1|       0|     3|Braund, Mr. Owen ...|  male|22.0|    1|    0|       A/5 21171|   7.25| null|       S|\n",
      "|          2|       1|     1|Cumings, Mrs. Joh...|female|38.0|    1|    0|        PC 17599|71.2833|  C85|       C|\n",
      "|          3|       1|     3|Heikkinen, Miss. ...|female|26.0|    0|    0|STON/O2. 3101282|  7.925| null|       S|\n",
      "|          4|       1|     1|Futrelle, Mrs. Ja...|female|35.0|    1|    0|          113803|   53.1| C123|       S|\n",
      "|          5|       0|     3|Allen, Mr. Willia...|  male|35.0|    0|    0|          373450|   8.05| null|       S|\n",
      "|          6|       0|     3|    Moran, Mr. James|  male|null|    0|    0|          330877| 8.4583| null|       Q|\n",
      "|          7|       0|     1|McCarthy, Mr. Tim...|  male|54.0|    0|    0|           17463|51.8625|  E46|       S|\n",
      "|          8|       0|     3|Palsson, Master. ...|  male| 2.0|    3|    1|          349909| 21.075| null|       S|\n",
      "|          9|       1|     3|Johnson, Mrs. Osc...|female|27.0|    0|    2|          347742|11.1333| null|       S|\n",
      "|         10|       1|     2|Nasser, Mrs. Nich...|female|14.0|    1|    0|          237736|30.0708| null|       C|\n",
      "|         11|       1|     3|Sandstrom, Miss. ...|female| 4.0|    1|    1|         PP 9549|   16.7|   G6|       S|\n",
      "|         12|       1|     1|Bonnell, Miss. El...|female|58.0|    0|    0|          113783|  26.55| C103|       S|\n",
      "|         13|       0|     3|Saundercock, Mr. ...|  male|20.0|    0|    0|       A/5. 2151|   8.05| null|       S|\n",
      "|         14|       0|     3|Andersson, Mr. An...|  male|39.0|    1|    5|          347082| 31.275| null|       S|\n",
      "|         15|       0|     3|Vestrom, Miss. Hu...|female|14.0|    0|    0|          350406| 7.8542| null|       S|\n",
      "|         16|       1|     2|Hewlett, Mrs. (Ma...|female|55.0|    0|    0|          248706|   16.0| null|       S|\n",
      "|         17|       0|     3|Rice, Master. Eugene|  male| 2.0|    4|    1|          382652| 29.125| null|       Q|\n",
      "|         18|       1|     2|Williams, Mr. Cha...|  male|null|    0|    0|          244373|   13.0| null|       S|\n",
      "|         19|       0|     3|Vander Planke, Mr...|female|31.0|    1|    0|          345763|   18.0| null|       S|\n",
      "|         20|       1|     3|Masselmani, Mrs. ...|female|null|    0|    0|            2649|  7.225| null|       C|\n",
      "+-----------+--------+------+--------------------+------+----+-----+-----+----------------+-------+-----+--------+\n",
      "only showing top 20 rows\n",
      "\n"
     ]
    }
   ],
   "source": [
    "titanic_sdf.show()"
   ]
  },
  {
   "cell_type": "markdown",
   "id": "682c2bc6",
   "metadata": {},
   "source": [
    "# Pandas Dataframe 생성"
   ]
  },
  {
   "cell_type": "code",
   "execution_count": 6,
   "id": "a595a6bc",
   "metadata": {},
   "outputs": [
    {
     "data": {
      "text/html": [
       "<div>\n",
       "<style scoped>\n",
       "    .dataframe tbody tr th:only-of-type {\n",
       "        vertical-align: middle;\n",
       "    }\n",
       "\n",
       "    .dataframe tbody tr th {\n",
       "        vertical-align: top;\n",
       "    }\n",
       "\n",
       "    .dataframe thead th {\n",
       "        text-align: right;\n",
       "    }\n",
       "</style>\n",
       "<table border=\"1\" class=\"dataframe\">\n",
       "  <thead>\n",
       "    <tr style=\"text-align: right;\">\n",
       "      <th></th>\n",
       "      <th>PassengerId</th>\n",
       "      <th>Survived</th>\n",
       "      <th>Pclass</th>\n",
       "      <th>Name</th>\n",
       "      <th>Sex</th>\n",
       "      <th>Age</th>\n",
       "      <th>SibSp</th>\n",
       "      <th>Parch</th>\n",
       "      <th>Ticket</th>\n",
       "      <th>Fare</th>\n",
       "      <th>Cabin</th>\n",
       "      <th>Embarked</th>\n",
       "    </tr>\n",
       "  </thead>\n",
       "  <tbody>\n",
       "    <tr>\n",
       "      <th>0</th>\n",
       "      <td>1</td>\n",
       "      <td>0</td>\n",
       "      <td>3</td>\n",
       "      <td>Braund, Mr. Owen Harris</td>\n",
       "      <td>male</td>\n",
       "      <td>22.0</td>\n",
       "      <td>1</td>\n",
       "      <td>0</td>\n",
       "      <td>A/5 21171</td>\n",
       "      <td>7.2500</td>\n",
       "      <td>NaN</td>\n",
       "      <td>S</td>\n",
       "    </tr>\n",
       "    <tr>\n",
       "      <th>1</th>\n",
       "      <td>2</td>\n",
       "      <td>1</td>\n",
       "      <td>1</td>\n",
       "      <td>Cumings, Mrs. John Bradley (Florence Briggs Th...</td>\n",
       "      <td>female</td>\n",
       "      <td>38.0</td>\n",
       "      <td>1</td>\n",
       "      <td>0</td>\n",
       "      <td>PC 17599</td>\n",
       "      <td>71.2833</td>\n",
       "      <td>C85</td>\n",
       "      <td>C</td>\n",
       "    </tr>\n",
       "    <tr>\n",
       "      <th>2</th>\n",
       "      <td>3</td>\n",
       "      <td>1</td>\n",
       "      <td>3</td>\n",
       "      <td>Heikkinen, Miss. Laina</td>\n",
       "      <td>female</td>\n",
       "      <td>26.0</td>\n",
       "      <td>0</td>\n",
       "      <td>0</td>\n",
       "      <td>STON/O2. 3101282</td>\n",
       "      <td>7.9250</td>\n",
       "      <td>NaN</td>\n",
       "      <td>S</td>\n",
       "    </tr>\n",
       "    <tr>\n",
       "      <th>3</th>\n",
       "      <td>4</td>\n",
       "      <td>1</td>\n",
       "      <td>1</td>\n",
       "      <td>Futrelle, Mrs. Jacques Heath (Lily May Peel)</td>\n",
       "      <td>female</td>\n",
       "      <td>35.0</td>\n",
       "      <td>1</td>\n",
       "      <td>0</td>\n",
       "      <td>113803</td>\n",
       "      <td>53.1000</td>\n",
       "      <td>C123</td>\n",
       "      <td>S</td>\n",
       "    </tr>\n",
       "    <tr>\n",
       "      <th>4</th>\n",
       "      <td>5</td>\n",
       "      <td>0</td>\n",
       "      <td>3</td>\n",
       "      <td>Allen, Mr. William Henry</td>\n",
       "      <td>male</td>\n",
       "      <td>35.0</td>\n",
       "      <td>0</td>\n",
       "      <td>0</td>\n",
       "      <td>373450</td>\n",
       "      <td>8.0500</td>\n",
       "      <td>NaN</td>\n",
       "      <td>S</td>\n",
       "    </tr>\n",
       "  </tbody>\n",
       "</table>\n",
       "</div>"
      ],
      "text/plain": [
       "   PassengerId  Survived  Pclass  \\\n",
       "0            1         0       3   \n",
       "1            2         1       1   \n",
       "2            3         1       3   \n",
       "3            4         1       1   \n",
       "4            5         0       3   \n",
       "\n",
       "                                                Name     Sex   Age  SibSp  \\\n",
       "0                            Braund, Mr. Owen Harris    male  22.0      1   \n",
       "1  Cumings, Mrs. John Bradley (Florence Briggs Th...  female  38.0      1   \n",
       "2                             Heikkinen, Miss. Laina  female  26.0      0   \n",
       "3       Futrelle, Mrs. Jacques Heath (Lily May Peel)  female  35.0      1   \n",
       "4                           Allen, Mr. William Henry    male  35.0      0   \n",
       "\n",
       "   Parch            Ticket     Fare Cabin Embarked  \n",
       "0      0         A/5 21171   7.2500   NaN        S  \n",
       "1      0          PC 17599  71.2833   C85        C  \n",
       "2      0  STON/O2. 3101282   7.9250   NaN        S  \n",
       "3      0            113803  53.1000  C123        S  \n",
       "4      0            373450   8.0500   NaN        S  "
      ]
     },
     "execution_count": 6,
     "metadata": {},
     "output_type": "execute_result"
    }
   ],
   "source": [
    "import pandas as pd\n",
    "\n",
    "titanic_pdf = pd.read_csv(filepath)\n",
    "titanic_pdf.head()"
   ]
  },
  {
   "cell_type": "code",
   "execution_count": 7,
   "id": "576eef84",
   "metadata": {},
   "outputs": [
    {
     "data": {
      "text/plain": [
       "[Row(PassengerId=1, Survived=0, Pclass=3, Name='Braund, Mr. Owen Harris', Sex='male', Age=22.0, SibSp=1, Parch=0, Ticket='A/5 21171', Fare=7.25, Cabin=None, Embarked='S'),\n",
       " Row(PassengerId=2, Survived=1, Pclass=1, Name='Cumings, Mrs. John Bradley (Florence Briggs Thayer)', Sex='female', Age=38.0, SibSp=1, Parch=0, Ticket='PC 17599', Fare=71.2833, Cabin='C85', Embarked='C'),\n",
       " Row(PassengerId=3, Survived=1, Pclass=3, Name='Heikkinen, Miss. Laina', Sex='female', Age=26.0, SibSp=0, Parch=0, Ticket='STON/O2. 3101282', Fare=7.925, Cabin=None, Embarked='S'),\n",
       " Row(PassengerId=4, Survived=1, Pclass=1, Name='Futrelle, Mrs. Jacques Heath (Lily May Peel)', Sex='female', Age=35.0, SibSp=1, Parch=0, Ticket='113803', Fare=53.1, Cabin='C123', Embarked='S'),\n",
       " Row(PassengerId=5, Survived=0, Pclass=3, Name='Allen, Mr. William Henry', Sex='male', Age=35.0, SibSp=0, Parch=0, Ticket='373450', Fare=8.05, Cabin=None, Embarked='S')]"
      ]
     },
     "execution_count": 7,
     "metadata": {},
     "output_type": "execute_result"
    }
   ],
   "source": [
    "titanic_sdf.head(5)"
   ]
  },
  {
   "cell_type": "code",
   "execution_count": 8,
   "id": "75655445",
   "metadata": {},
   "outputs": [
    {
     "name": "stdout",
     "output_type": "stream",
     "text": [
      "     PassengerId  Survived  Pclass  \\\n",
      "0              1         0       3   \n",
      "1              2         1       1   \n",
      "2              3         1       3   \n",
      "3              4         1       1   \n",
      "4              5         0       3   \n",
      "..           ...       ...     ...   \n",
      "886          887         0       2   \n",
      "887          888         1       1   \n",
      "888          889         0       3   \n",
      "889          890         1       1   \n",
      "890          891         0       3   \n",
      "\n",
      "                                                  Name     Sex   Age  SibSp  \\\n",
      "0                              Braund, Mr. Owen Harris    male  22.0      1   \n",
      "1    Cumings, Mrs. John Bradley (Florence Briggs Th...  female  38.0      1   \n",
      "2                               Heikkinen, Miss. Laina  female  26.0      0   \n",
      "3         Futrelle, Mrs. Jacques Heath (Lily May Peel)  female  35.0      1   \n",
      "4                             Allen, Mr. William Henry    male  35.0      0   \n",
      "..                                                 ...     ...   ...    ...   \n",
      "886                              Montvila, Rev. Juozas    male  27.0      0   \n",
      "887                       Graham, Miss. Margaret Edith  female  19.0      0   \n",
      "888           Johnston, Miss. Catherine Helen \"Carrie\"  female   NaN      1   \n",
      "889                              Behr, Mr. Karl Howell    male  26.0      0   \n",
      "890                                Dooley, Mr. Patrick    male  32.0      0   \n",
      "\n",
      "     Parch            Ticket     Fare Cabin Embarked  \n",
      "0        0         A/5 21171   7.2500   NaN        S  \n",
      "1        0          PC 17599  71.2833   C85        C  \n",
      "2        0  STON/O2. 3101282   7.9250   NaN        S  \n",
      "3        0            113803  53.1000  C123        S  \n",
      "4        0            373450   8.0500   NaN        S  \n",
      "..     ...               ...      ...   ...      ...  \n",
      "886      0            211536  13.0000   NaN        S  \n",
      "887      0            112053  30.0000   B42        S  \n",
      "888      2        W./C. 6607  23.4500   NaN        S  \n",
      "889      0            111369  30.0000  C148        C  \n",
      "890      0            370376   7.7500   NaN        Q  \n",
      "\n",
      "[891 rows x 12 columns]\n"
     ]
    }
   ],
   "source": [
    "print(titanic_pdf)"
   ]
  },
  {
   "cell_type": "code",
   "execution_count": 9,
   "id": "0cef1f4b",
   "metadata": {},
   "outputs": [
    {
     "name": "stdout",
     "output_type": "stream",
     "text": [
      "DataFrame[PassengerId: int, Survived: int, Pclass: int, Name: string, Sex: string, Age: double, SibSp: int, Parch: int, Ticket: string, Fare: double, Cabin: string, Embarked: string]\n"
     ]
    }
   ],
   "source": [
    "print(titanic_sdf)"
   ]
  },
  {
   "cell_type": "code",
   "execution_count": 10,
   "id": "2551475b",
   "metadata": {},
   "outputs": [
    {
     "data": {
      "text/html": [
       "<div>\n",
       "<style scoped>\n",
       "    .dataframe tbody tr th:only-of-type {\n",
       "        vertical-align: middle;\n",
       "    }\n",
       "\n",
       "    .dataframe tbody tr th {\n",
       "        vertical-align: top;\n",
       "    }\n",
       "\n",
       "    .dataframe thead th {\n",
       "        text-align: right;\n",
       "    }\n",
       "</style>\n",
       "<table border=\"1\" class=\"dataframe\">\n",
       "  <thead>\n",
       "    <tr style=\"text-align: right;\">\n",
       "      <th></th>\n",
       "      <th>PassengerId</th>\n",
       "      <th>Survived</th>\n",
       "      <th>Pclass</th>\n",
       "      <th>Name</th>\n",
       "      <th>Sex</th>\n",
       "      <th>Age</th>\n",
       "      <th>SibSp</th>\n",
       "      <th>Parch</th>\n",
       "      <th>Ticket</th>\n",
       "      <th>Fare</th>\n",
       "      <th>Cabin</th>\n",
       "      <th>Embarked</th>\n",
       "    </tr>\n",
       "  </thead>\n",
       "  <tbody>\n",
       "    <tr>\n",
       "      <th>0</th>\n",
       "      <td>1</td>\n",
       "      <td>0</td>\n",
       "      <td>3</td>\n",
       "      <td>Braund, Mr. Owen Harris</td>\n",
       "      <td>male</td>\n",
       "      <td>22.0</td>\n",
       "      <td>1</td>\n",
       "      <td>0</td>\n",
       "      <td>A/5 21171</td>\n",
       "      <td>7.2500</td>\n",
       "      <td>None</td>\n",
       "      <td>S</td>\n",
       "    </tr>\n",
       "    <tr>\n",
       "      <th>1</th>\n",
       "      <td>2</td>\n",
       "      <td>1</td>\n",
       "      <td>1</td>\n",
       "      <td>Cumings, Mrs. John Bradley (Florence Briggs Th...</td>\n",
       "      <td>female</td>\n",
       "      <td>38.0</td>\n",
       "      <td>1</td>\n",
       "      <td>0</td>\n",
       "      <td>PC 17599</td>\n",
       "      <td>71.2833</td>\n",
       "      <td>C85</td>\n",
       "      <td>C</td>\n",
       "    </tr>\n",
       "    <tr>\n",
       "      <th>2</th>\n",
       "      <td>3</td>\n",
       "      <td>1</td>\n",
       "      <td>3</td>\n",
       "      <td>Heikkinen, Miss. Laina</td>\n",
       "      <td>female</td>\n",
       "      <td>26.0</td>\n",
       "      <td>0</td>\n",
       "      <td>0</td>\n",
       "      <td>STON/O2. 3101282</td>\n",
       "      <td>7.9250</td>\n",
       "      <td>None</td>\n",
       "      <td>S</td>\n",
       "    </tr>\n",
       "    <tr>\n",
       "      <th>3</th>\n",
       "      <td>4</td>\n",
       "      <td>1</td>\n",
       "      <td>1</td>\n",
       "      <td>Futrelle, Mrs. Jacques Heath (Lily May Peel)</td>\n",
       "      <td>female</td>\n",
       "      <td>35.0</td>\n",
       "      <td>1</td>\n",
       "      <td>0</td>\n",
       "      <td>113803</td>\n",
       "      <td>53.1000</td>\n",
       "      <td>C123</td>\n",
       "      <td>S</td>\n",
       "    </tr>\n",
       "    <tr>\n",
       "      <th>4</th>\n",
       "      <td>5</td>\n",
       "      <td>0</td>\n",
       "      <td>3</td>\n",
       "      <td>Allen, Mr. William Henry</td>\n",
       "      <td>male</td>\n",
       "      <td>35.0</td>\n",
       "      <td>0</td>\n",
       "      <td>0</td>\n",
       "      <td>373450</td>\n",
       "      <td>8.0500</td>\n",
       "      <td>None</td>\n",
       "      <td>S</td>\n",
       "    </tr>\n",
       "    <tr>\n",
       "      <th>...</th>\n",
       "      <td>...</td>\n",
       "      <td>...</td>\n",
       "      <td>...</td>\n",
       "      <td>...</td>\n",
       "      <td>...</td>\n",
       "      <td>...</td>\n",
       "      <td>...</td>\n",
       "      <td>...</td>\n",
       "      <td>...</td>\n",
       "      <td>...</td>\n",
       "      <td>...</td>\n",
       "      <td>...</td>\n",
       "    </tr>\n",
       "    <tr>\n",
       "      <th>886</th>\n",
       "      <td>887</td>\n",
       "      <td>0</td>\n",
       "      <td>2</td>\n",
       "      <td>Montvila, Rev. Juozas</td>\n",
       "      <td>male</td>\n",
       "      <td>27.0</td>\n",
       "      <td>0</td>\n",
       "      <td>0</td>\n",
       "      <td>211536</td>\n",
       "      <td>13.0000</td>\n",
       "      <td>None</td>\n",
       "      <td>S</td>\n",
       "    </tr>\n",
       "    <tr>\n",
       "      <th>887</th>\n",
       "      <td>888</td>\n",
       "      <td>1</td>\n",
       "      <td>1</td>\n",
       "      <td>Graham, Miss. Margaret Edith</td>\n",
       "      <td>female</td>\n",
       "      <td>19.0</td>\n",
       "      <td>0</td>\n",
       "      <td>0</td>\n",
       "      <td>112053</td>\n",
       "      <td>30.0000</td>\n",
       "      <td>B42</td>\n",
       "      <td>S</td>\n",
       "    </tr>\n",
       "    <tr>\n",
       "      <th>888</th>\n",
       "      <td>889</td>\n",
       "      <td>0</td>\n",
       "      <td>3</td>\n",
       "      <td>\"Johnston, Miss. Catherine Helen \"\"Carrie\"\"\"</td>\n",
       "      <td>female</td>\n",
       "      <td>NaN</td>\n",
       "      <td>1</td>\n",
       "      <td>2</td>\n",
       "      <td>W./C. 6607</td>\n",
       "      <td>23.4500</td>\n",
       "      <td>None</td>\n",
       "      <td>S</td>\n",
       "    </tr>\n",
       "    <tr>\n",
       "      <th>889</th>\n",
       "      <td>890</td>\n",
       "      <td>1</td>\n",
       "      <td>1</td>\n",
       "      <td>Behr, Mr. Karl Howell</td>\n",
       "      <td>male</td>\n",
       "      <td>26.0</td>\n",
       "      <td>0</td>\n",
       "      <td>0</td>\n",
       "      <td>111369</td>\n",
       "      <td>30.0000</td>\n",
       "      <td>C148</td>\n",
       "      <td>C</td>\n",
       "    </tr>\n",
       "    <tr>\n",
       "      <th>890</th>\n",
       "      <td>891</td>\n",
       "      <td>0</td>\n",
       "      <td>3</td>\n",
       "      <td>Dooley, Mr. Patrick</td>\n",
       "      <td>male</td>\n",
       "      <td>32.0</td>\n",
       "      <td>0</td>\n",
       "      <td>0</td>\n",
       "      <td>370376</td>\n",
       "      <td>7.7500</td>\n",
       "      <td>None</td>\n",
       "      <td>Q</td>\n",
       "    </tr>\n",
       "  </tbody>\n",
       "</table>\n",
       "<p>891 rows × 12 columns</p>\n",
       "</div>"
      ],
      "text/plain": [
       "     PassengerId  Survived  Pclass  \\\n",
       "0              1         0       3   \n",
       "1              2         1       1   \n",
       "2              3         1       3   \n",
       "3              4         1       1   \n",
       "4              5         0       3   \n",
       "..           ...       ...     ...   \n",
       "886          887         0       2   \n",
       "887          888         1       1   \n",
       "888          889         0       3   \n",
       "889          890         1       1   \n",
       "890          891         0       3   \n",
       "\n",
       "                                                  Name     Sex   Age  SibSp  \\\n",
       "0                              Braund, Mr. Owen Harris    male  22.0      1   \n",
       "1    Cumings, Mrs. John Bradley (Florence Briggs Th...  female  38.0      1   \n",
       "2                               Heikkinen, Miss. Laina  female  26.0      0   \n",
       "3         Futrelle, Mrs. Jacques Heath (Lily May Peel)  female  35.0      1   \n",
       "4                             Allen, Mr. William Henry    male  35.0      0   \n",
       "..                                                 ...     ...   ...    ...   \n",
       "886                              Montvila, Rev. Juozas    male  27.0      0   \n",
       "887                       Graham, Miss. Margaret Edith  female  19.0      0   \n",
       "888       \"Johnston, Miss. Catherine Helen \"\"Carrie\"\"\"  female   NaN      1   \n",
       "889                              Behr, Mr. Karl Howell    male  26.0      0   \n",
       "890                                Dooley, Mr. Patrick    male  32.0      0   \n",
       "\n",
       "     Parch            Ticket     Fare Cabin Embarked  \n",
       "0        0         A/5 21171   7.2500  None        S  \n",
       "1        0          PC 17599  71.2833   C85        C  \n",
       "2        0  STON/O2. 3101282   7.9250  None        S  \n",
       "3        0            113803  53.1000  C123        S  \n",
       "4        0            373450   8.0500  None        S  \n",
       "..     ...               ...      ...   ...      ...  \n",
       "886      0            211536  13.0000  None        S  \n",
       "887      0            112053  30.0000   B42        S  \n",
       "888      2        W./C. 6607  23.4500  None        S  \n",
       "889      0            111369  30.0000  C148        C  \n",
       "890      0            370376   7.7500  None        Q  \n",
       "\n",
       "[891 rows x 12 columns]"
      ]
     },
     "execution_count": 10,
     "metadata": {},
     "output_type": "execute_result"
    }
   ],
   "source": [
    "# Spark -> Pandas df로 변환\n",
    "# - 분산 처리 시스템으로 분석 후, 시각화 필요할 때\n",
    "\n",
    "titanic_sdf.toPandas()  # toPandas() : Action"
   ]
  },
  {
   "cell_type": "code",
   "execution_count": 11,
   "id": "85b7cbe1",
   "metadata": {},
   "outputs": [
    {
     "data": {
      "text/html": [
       "<div>\n",
       "<style scoped>\n",
       "    .dataframe tbody tr th:only-of-type {\n",
       "        vertical-align: middle;\n",
       "    }\n",
       "\n",
       "    .dataframe tbody tr th {\n",
       "        vertical-align: top;\n",
       "    }\n",
       "\n",
       "    .dataframe thead th {\n",
       "        text-align: right;\n",
       "    }\n",
       "</style>\n",
       "<table border=\"1\" class=\"dataframe\">\n",
       "  <thead>\n",
       "    <tr style=\"text-align: right;\">\n",
       "      <th></th>\n",
       "      <th>PassengerId</th>\n",
       "      <th>Survived</th>\n",
       "      <th>Pclass</th>\n",
       "      <th>Age</th>\n",
       "      <th>SibSp</th>\n",
       "      <th>Parch</th>\n",
       "      <th>Fare</th>\n",
       "    </tr>\n",
       "  </thead>\n",
       "  <tbody>\n",
       "    <tr>\n",
       "      <th>count</th>\n",
       "      <td>891.000000</td>\n",
       "      <td>891.000000</td>\n",
       "      <td>891.000000</td>\n",
       "      <td>714.000000</td>\n",
       "      <td>891.000000</td>\n",
       "      <td>891.000000</td>\n",
       "      <td>891.000000</td>\n",
       "    </tr>\n",
       "    <tr>\n",
       "      <th>mean</th>\n",
       "      <td>446.000000</td>\n",
       "      <td>0.383838</td>\n",
       "      <td>2.308642</td>\n",
       "      <td>29.699118</td>\n",
       "      <td>0.523008</td>\n",
       "      <td>0.381594</td>\n",
       "      <td>32.204208</td>\n",
       "    </tr>\n",
       "    <tr>\n",
       "      <th>std</th>\n",
       "      <td>257.353842</td>\n",
       "      <td>0.486592</td>\n",
       "      <td>0.836071</td>\n",
       "      <td>14.526497</td>\n",
       "      <td>1.102743</td>\n",
       "      <td>0.806057</td>\n",
       "      <td>49.693429</td>\n",
       "    </tr>\n",
       "    <tr>\n",
       "      <th>min</th>\n",
       "      <td>1.000000</td>\n",
       "      <td>0.000000</td>\n",
       "      <td>1.000000</td>\n",
       "      <td>0.420000</td>\n",
       "      <td>0.000000</td>\n",
       "      <td>0.000000</td>\n",
       "      <td>0.000000</td>\n",
       "    </tr>\n",
       "    <tr>\n",
       "      <th>25%</th>\n",
       "      <td>223.500000</td>\n",
       "      <td>0.000000</td>\n",
       "      <td>2.000000</td>\n",
       "      <td>20.125000</td>\n",
       "      <td>0.000000</td>\n",
       "      <td>0.000000</td>\n",
       "      <td>7.910400</td>\n",
       "    </tr>\n",
       "    <tr>\n",
       "      <th>50%</th>\n",
       "      <td>446.000000</td>\n",
       "      <td>0.000000</td>\n",
       "      <td>3.000000</td>\n",
       "      <td>28.000000</td>\n",
       "      <td>0.000000</td>\n",
       "      <td>0.000000</td>\n",
       "      <td>14.454200</td>\n",
       "    </tr>\n",
       "    <tr>\n",
       "      <th>75%</th>\n",
       "      <td>668.500000</td>\n",
       "      <td>1.000000</td>\n",
       "      <td>3.000000</td>\n",
       "      <td>38.000000</td>\n",
       "      <td>1.000000</td>\n",
       "      <td>0.000000</td>\n",
       "      <td>31.000000</td>\n",
       "    </tr>\n",
       "    <tr>\n",
       "      <th>max</th>\n",
       "      <td>891.000000</td>\n",
       "      <td>1.000000</td>\n",
       "      <td>3.000000</td>\n",
       "      <td>80.000000</td>\n",
       "      <td>8.000000</td>\n",
       "      <td>6.000000</td>\n",
       "      <td>512.329200</td>\n",
       "    </tr>\n",
       "  </tbody>\n",
       "</table>\n",
       "</div>"
      ],
      "text/plain": [
       "       PassengerId    Survived      Pclass         Age       SibSp  \\\n",
       "count   891.000000  891.000000  891.000000  714.000000  891.000000   \n",
       "mean    446.000000    0.383838    2.308642   29.699118    0.523008   \n",
       "std     257.353842    0.486592    0.836071   14.526497    1.102743   \n",
       "min       1.000000    0.000000    1.000000    0.420000    0.000000   \n",
       "25%     223.500000    0.000000    2.000000   20.125000    0.000000   \n",
       "50%     446.000000    0.000000    3.000000   28.000000    0.000000   \n",
       "75%     668.500000    1.000000    3.000000   38.000000    1.000000   \n",
       "max     891.000000    1.000000    3.000000   80.000000    8.000000   \n",
       "\n",
       "            Parch        Fare  \n",
       "count  891.000000  891.000000  \n",
       "mean     0.381594   32.204208  \n",
       "std      0.806057   49.693429  \n",
       "min      0.000000    0.000000  \n",
       "25%      0.000000    7.910400  \n",
       "50%      0.000000   14.454200  \n",
       "75%      0.000000   31.000000  \n",
       "max      6.000000  512.329200  "
      ]
     },
     "execution_count": 11,
     "metadata": {},
     "output_type": "execute_result"
    }
   ],
   "source": [
    "# describe()\n",
    "# - pandas df의 통계정보 확인. 숫자에 대해서만 통계\n",
    "titanic_pdf.describe()"
   ]
  },
  {
   "cell_type": "code",
   "execution_count": 13,
   "id": "3ba0ae7f",
   "metadata": {},
   "outputs": [
    {
     "name": "stdout",
     "output_type": "stream",
     "text": [
      "+-------+-----------------+-------------------+------------------+--------------------+------+------------------+------------------+-------------------+------------------+-----------------+-----+--------+\n",
      "|summary|      PassengerId|           Survived|            Pclass|                Name|   Sex|               Age|             SibSp|              Parch|            Ticket|             Fare|Cabin|Embarked|\n",
      "+-------+-----------------+-------------------+------------------+--------------------+------+------------------+------------------+-------------------+------------------+-----------------+-----+--------+\n",
      "|  count|              891|                891|               891|                 891|   891|               714|               891|                891|               891|              891|  204|     889|\n",
      "|   mean|            446.0| 0.3838383838383838| 2.308641975308642|                null|  null| 29.69911764705882|0.5230078563411896|0.38159371492704824|260318.54916792738| 32.2042079685746| null|    null|\n",
      "| stddev|257.3538420152301|0.48659245426485753|0.8360712409770491|                null|  null|14.526497332334035|1.1027434322934315| 0.8060572211299488|471609.26868834975|49.69342859718089| null|    null|\n",
      "|    min|                1|                  0|                 1|\"Andersson, Mr. A...|female|              0.42|                 0|                  0|            110152|              0.0|  A10|       C|\n",
      "|    max|              891|                  1|                 3|van Melkebeke, Mr...|  male|              80.0|                 8|                  6|         WE/P 5735|         512.3292|    T|       S|\n",
      "+-------+-----------------+-------------------+------------------+--------------------+------+------------------+------------------+-------------------+------------------+-----------------+-----+--------+\n",
      "\n"
     ]
    }
   ],
   "source": [
    "titanic_sdf.describe().show()"
   ]
  },
  {
   "cell_type": "code",
   "execution_count": 14,
   "id": "c52ec416",
   "metadata": {},
   "outputs": [
    {
     "data": {
      "text/html": [
       "<div>\n",
       "<style scoped>\n",
       "    .dataframe tbody tr th:only-of-type {\n",
       "        vertical-align: middle;\n",
       "    }\n",
       "\n",
       "    .dataframe tbody tr th {\n",
       "        vertical-align: top;\n",
       "    }\n",
       "\n",
       "    .dataframe thead th {\n",
       "        text-align: right;\n",
       "    }\n",
       "</style>\n",
       "<table border=\"1\" class=\"dataframe\">\n",
       "  <thead>\n",
       "    <tr style=\"text-align: right;\">\n",
       "      <th></th>\n",
       "      <th>PassengerId</th>\n",
       "      <th>Name</th>\n",
       "    </tr>\n",
       "  </thead>\n",
       "  <tbody>\n",
       "    <tr>\n",
       "      <th>0</th>\n",
       "      <td>1</td>\n",
       "      <td>Braund, Mr. Owen Harris</td>\n",
       "    </tr>\n",
       "    <tr>\n",
       "      <th>1</th>\n",
       "      <td>2</td>\n",
       "      <td>Cumings, Mrs. John Bradley (Florence Briggs Th...</td>\n",
       "    </tr>\n",
       "    <tr>\n",
       "      <th>2</th>\n",
       "      <td>3</td>\n",
       "      <td>Heikkinen, Miss. Laina</td>\n",
       "    </tr>\n",
       "    <tr>\n",
       "      <th>3</th>\n",
       "      <td>4</td>\n",
       "      <td>Futrelle, Mrs. Jacques Heath (Lily May Peel)</td>\n",
       "    </tr>\n",
       "    <tr>\n",
       "      <th>4</th>\n",
       "      <td>5</td>\n",
       "      <td>Allen, Mr. William Henry</td>\n",
       "    </tr>\n",
       "    <tr>\n",
       "      <th>...</th>\n",
       "      <td>...</td>\n",
       "      <td>...</td>\n",
       "    </tr>\n",
       "    <tr>\n",
       "      <th>886</th>\n",
       "      <td>887</td>\n",
       "      <td>Montvila, Rev. Juozas</td>\n",
       "    </tr>\n",
       "    <tr>\n",
       "      <th>887</th>\n",
       "      <td>888</td>\n",
       "      <td>Graham, Miss. Margaret Edith</td>\n",
       "    </tr>\n",
       "    <tr>\n",
       "      <th>888</th>\n",
       "      <td>889</td>\n",
       "      <td>Johnston, Miss. Catherine Helen \"Carrie\"</td>\n",
       "    </tr>\n",
       "    <tr>\n",
       "      <th>889</th>\n",
       "      <td>890</td>\n",
       "      <td>Behr, Mr. Karl Howell</td>\n",
       "    </tr>\n",
       "    <tr>\n",
       "      <th>890</th>\n",
       "      <td>891</td>\n",
       "      <td>Dooley, Mr. Patrick</td>\n",
       "    </tr>\n",
       "  </tbody>\n",
       "</table>\n",
       "<p>891 rows × 2 columns</p>\n",
       "</div>"
      ],
      "text/plain": [
       "     PassengerId                                               Name\n",
       "0              1                            Braund, Mr. Owen Harris\n",
       "1              2  Cumings, Mrs. John Bradley (Florence Briggs Th...\n",
       "2              3                             Heikkinen, Miss. Laina\n",
       "3              4       Futrelle, Mrs. Jacques Heath (Lily May Peel)\n",
       "4              5                           Allen, Mr. William Henry\n",
       "..           ...                                                ...\n",
       "886          887                              Montvila, Rev. Juozas\n",
       "887          888                       Graham, Miss. Margaret Edith\n",
       "888          889           Johnston, Miss. Catherine Helen \"Carrie\"\n",
       "889          890                              Behr, Mr. Karl Howell\n",
       "890          891                                Dooley, Mr. Patrick\n",
       "\n",
       "[891 rows x 2 columns]"
      ]
     },
     "execution_count": 14,
     "metadata": {},
     "output_type": "execute_result"
    }
   ],
   "source": [
    "# 데이터 선택\n",
    "titanic_pdf[[\"PassengerId\", \"Name\"]]"
   ]
  },
  {
   "cell_type": "code",
   "execution_count": 15,
   "id": "414a5bbb",
   "metadata": {},
   "outputs": [
    {
     "name": "stdout",
     "output_type": "stream",
     "text": [
      "+-----------+--------------------+\n",
      "|PassengerId|                Name|\n",
      "+-----------+--------------------+\n",
      "|          1|Braund, Mr. Owen ...|\n",
      "|          2|Cumings, Mrs. Joh...|\n",
      "|          3|Heikkinen, Miss. ...|\n",
      "|          4|Futrelle, Mrs. Ja...|\n",
      "|          5|Allen, Mr. Willia...|\n",
      "|          6|    Moran, Mr. James|\n",
      "|          7|McCarthy, Mr. Tim...|\n",
      "|          8|Palsson, Master. ...|\n",
      "|          9|Johnson, Mrs. Osc...|\n",
      "|         10|Nasser, Mrs. Nich...|\n",
      "|         11|Sandstrom, Miss. ...|\n",
      "|         12|Bonnell, Miss. El...|\n",
      "|         13|Saundercock, Mr. ...|\n",
      "|         14|Andersson, Mr. An...|\n",
      "|         15|Vestrom, Miss. Hu...|\n",
      "|         16|Hewlett, Mrs. (Ma...|\n",
      "|         17|Rice, Master. Eugene|\n",
      "|         18|Williams, Mr. Cha...|\n",
      "|         19|Vander Planke, Mr...|\n",
      "|         20|Masselmani, Mrs. ...|\n",
      "+-----------+--------------------+\n",
      "only showing top 20 rows\n",
      "\n"
     ]
    }
   ],
   "source": [
    "titanic_sdf.select([\"PassengerId\", \"Name\"]).show()"
   ]
  },
  {
   "cell_type": "code",
   "execution_count": 17,
   "id": "fe769b24",
   "metadata": {},
   "outputs": [
    {
     "data": {
      "text/plain": [
       "[('PassengerId', 'int'),\n",
       " ('Survived', 'int'),\n",
       " ('Pclass', 'int'),\n",
       " ('Name', 'string'),\n",
       " ('Sex', 'string'),\n",
       " ('Age', 'double'),\n",
       " ('SibSp', 'int'),\n",
       " ('Parch', 'int'),\n",
       " ('Ticket', 'string'),\n",
       " ('Fare', 'double'),\n",
       " ('Cabin', 'string'),\n",
       " ('Embarked', 'string')]"
      ]
     },
     "execution_count": 17,
     "metadata": {},
     "output_type": "execute_result"
    }
   ],
   "source": [
    "# sdf에서 문자열 컬럼 제외하고 숫자형 컬럼에 대해서만 통계 정보 확인하기\n",
    "# -> string 형식의 컬럼이 아니면 통계정보 보여주기\n",
    "titanic_sdf.dtypes"
   ]
  },
  {
   "cell_type": "code",
   "execution_count": 22,
   "id": "14e7343d",
   "metadata": {},
   "outputs": [
    {
     "data": {
      "text/plain": [
       "['PassengerId', 'Survived', 'Pclass', 'Age', 'SibSp', 'Parch', 'Fare']"
      ]
     },
     "execution_count": 22,
     "metadata": {},
     "output_type": "execute_result"
    }
   ],
   "source": [
    "num_cols = [column_name for column_name, column_type in titanic_sdf.dtypes if column_type != 'string']\n",
    "num_cols"
   ]
  },
  {
   "cell_type": "code",
   "execution_count": 23,
   "id": "36ee6c83",
   "metadata": {},
   "outputs": [
    {
     "name": "stdout",
     "output_type": "stream",
     "text": [
      "+-------+-----------------+-------------------+------------------+------------------+------------------+-------------------+-----------------+\n",
      "|summary|      PassengerId|           Survived|            Pclass|               Age|             SibSp|              Parch|             Fare|\n",
      "+-------+-----------------+-------------------+------------------+------------------+------------------+-------------------+-----------------+\n",
      "|  count|              891|                891|               891|               714|               891|                891|              891|\n",
      "|   mean|            446.0| 0.3838383838383838| 2.308641975308642| 29.69911764705882|0.5230078563411896|0.38159371492704824| 32.2042079685746|\n",
      "| stddev|257.3538420152301|0.48659245426485753|0.8360712409770491|14.526497332334035|1.1027434322934315| 0.8060572211299488|49.69342859718089|\n",
      "|    min|                1|                  0|                 1|              0.42|                 0|                  0|              0.0|\n",
      "|    max|              891|                  1|                 3|              80.0|                 8|                  6|         512.3292|\n",
      "+-------+-----------------+-------------------+------------------+------------------+------------------+-------------------+-----------------+\n",
      "\n"
     ]
    }
   ],
   "source": [
    "titanic_sdf.select(num_cols).describe().show()"
   ]
  },
  {
   "cell_type": "code",
   "execution_count": 24,
   "id": "158edffa",
   "metadata": {},
   "outputs": [
    {
     "data": {
      "text/plain": [
       "(891, 12)"
      ]
     },
     "execution_count": 24,
     "metadata": {},
     "output_type": "execute_result"
    }
   ],
   "source": [
    "# shape\n",
    "titanic_pdf.shape"
   ]
  },
  {
   "cell_type": "code",
   "execution_count": 26,
   "id": "a34ced25",
   "metadata": {},
   "outputs": [
    {
     "data": {
      "text/plain": [
       "12"
      ]
     },
     "execution_count": 26,
     "metadata": {},
     "output_type": "execute_result"
    }
   ],
   "source": [
    "len(titanic_sdf.columns) # 열의 개수"
   ]
  },
  {
   "cell_type": "code",
   "execution_count": 27,
   "id": "b147a6ab",
   "metadata": {},
   "outputs": [
    {
     "data": {
      "text/plain": [
       "891"
      ]
     },
     "execution_count": 27,
     "metadata": {},
     "output_type": "execute_result"
    }
   ],
   "source": [
    "titanic_sdf.count() # 행의 개수"
   ]
  },
  {
   "cell_type": "markdown",
   "id": "267afadd",
   "metadata": {},
   "source": [
    "# Spark DataFrame의 select() method\n",
    "- `select` method는 SQL의 SELECT절과 매우 흡사\n",
    "    - 한 개 이상의 컬럼들의 값을 **DataFrame** 형식으로 반환\n",
    "- 한 개의 컬럼명 또는 여러 개의 컬럼명을 인자로 받을 수 있음\n",
    "    - 개별 컬럼명을 문자열 형태로 또는 DataFrame의 컬럼 속성으로 지정\n",
    "- DataFrame의 컬럼 속성으로 지정할 시에는 DataFrame.컬럼명, DataFrame[컬럼명], `col(컬럼명)`으로 지정"
   ]
  },
  {
   "cell_type": "code",
   "execution_count": 28,
   "id": "12c13265",
   "metadata": {},
   "outputs": [
    {
     "data": {
      "text/plain": [
       "0                                Braund, Mr. Owen Harris\n",
       "1      Cumings, Mrs. John Bradley (Florence Briggs Th...\n",
       "2                                 Heikkinen, Miss. Laina\n",
       "3           Futrelle, Mrs. Jacques Heath (Lily May Peel)\n",
       "4                               Allen, Mr. William Henry\n",
       "                             ...                        \n",
       "886                                Montvila, Rev. Juozas\n",
       "887                         Graham, Miss. Margaret Edith\n",
       "888             Johnston, Miss. Catherine Helen \"Carrie\"\n",
       "889                                Behr, Mr. Karl Howell\n",
       "890                                  Dooley, Mr. Patrick\n",
       "Name: Name, Length: 891, dtype: object"
      ]
     },
     "execution_count": 28,
     "metadata": {},
     "output_type": "execute_result"
    }
   ],
   "source": [
    "# Pandas df에서 단일 컬럼 값 가져오기 (시리즈 확인-1차원, 열벡터)\n",
    "titanic_pdf[\"Name\"]"
   ]
  },
  {
   "cell_type": "code",
   "execution_count": 29,
   "id": "40191125",
   "metadata": {},
   "outputs": [
    {
     "data": {
      "text/html": [
       "<div>\n",
       "<style scoped>\n",
       "    .dataframe tbody tr th:only-of-type {\n",
       "        vertical-align: middle;\n",
       "    }\n",
       "\n",
       "    .dataframe tbody tr th {\n",
       "        vertical-align: top;\n",
       "    }\n",
       "\n",
       "    .dataframe thead th {\n",
       "        text-align: right;\n",
       "    }\n",
       "</style>\n",
       "<table border=\"1\" class=\"dataframe\">\n",
       "  <thead>\n",
       "    <tr style=\"text-align: right;\">\n",
       "      <th></th>\n",
       "      <th>Name</th>\n",
       "      <th>Age</th>\n",
       "    </tr>\n",
       "  </thead>\n",
       "  <tbody>\n",
       "    <tr>\n",
       "      <th>0</th>\n",
       "      <td>Braund, Mr. Owen Harris</td>\n",
       "      <td>22.0</td>\n",
       "    </tr>\n",
       "    <tr>\n",
       "      <th>1</th>\n",
       "      <td>Cumings, Mrs. John Bradley (Florence Briggs Th...</td>\n",
       "      <td>38.0</td>\n",
       "    </tr>\n",
       "    <tr>\n",
       "      <th>2</th>\n",
       "      <td>Heikkinen, Miss. Laina</td>\n",
       "      <td>26.0</td>\n",
       "    </tr>\n",
       "    <tr>\n",
       "      <th>3</th>\n",
       "      <td>Futrelle, Mrs. Jacques Heath (Lily May Peel)</td>\n",
       "      <td>35.0</td>\n",
       "    </tr>\n",
       "    <tr>\n",
       "      <th>4</th>\n",
       "      <td>Allen, Mr. William Henry</td>\n",
       "      <td>35.0</td>\n",
       "    </tr>\n",
       "    <tr>\n",
       "      <th>...</th>\n",
       "      <td>...</td>\n",
       "      <td>...</td>\n",
       "    </tr>\n",
       "    <tr>\n",
       "      <th>886</th>\n",
       "      <td>Montvila, Rev. Juozas</td>\n",
       "      <td>27.0</td>\n",
       "    </tr>\n",
       "    <tr>\n",
       "      <th>887</th>\n",
       "      <td>Graham, Miss. Margaret Edith</td>\n",
       "      <td>19.0</td>\n",
       "    </tr>\n",
       "    <tr>\n",
       "      <th>888</th>\n",
       "      <td>Johnston, Miss. Catherine Helen \"Carrie\"</td>\n",
       "      <td>NaN</td>\n",
       "    </tr>\n",
       "    <tr>\n",
       "      <th>889</th>\n",
       "      <td>Behr, Mr. Karl Howell</td>\n",
       "      <td>26.0</td>\n",
       "    </tr>\n",
       "    <tr>\n",
       "      <th>890</th>\n",
       "      <td>Dooley, Mr. Patrick</td>\n",
       "      <td>32.0</td>\n",
       "    </tr>\n",
       "  </tbody>\n",
       "</table>\n",
       "<p>891 rows × 2 columns</p>\n",
       "</div>"
      ],
      "text/plain": [
       "                                                  Name   Age\n",
       "0                              Braund, Mr. Owen Harris  22.0\n",
       "1    Cumings, Mrs. John Bradley (Florence Briggs Th...  38.0\n",
       "2                               Heikkinen, Miss. Laina  26.0\n",
       "3         Futrelle, Mrs. Jacques Heath (Lily May Peel)  35.0\n",
       "4                             Allen, Mr. William Henry  35.0\n",
       "..                                                 ...   ...\n",
       "886                              Montvila, Rev. Juozas  27.0\n",
       "887                       Graham, Miss. Margaret Edith  19.0\n",
       "888           Johnston, Miss. Catherine Helen \"Carrie\"   NaN\n",
       "889                              Behr, Mr. Karl Howell  26.0\n",
       "890                                Dooley, Mr. Patrick  32.0\n",
       "\n",
       "[891 rows x 2 columns]"
      ]
     },
     "execution_count": 29,
     "metadata": {},
     "output_type": "execute_result"
    }
   ],
   "source": [
    "# fancy indexing : 조회할 인덱스를 리스트에 넣어 놓고, 리스트로 조회하는 방식\n",
    "\n",
    "col_names = [\"Name\", \"Age\"]\n",
    "titanic_pdf[col_names]"
   ]
  },
  {
   "cell_type": "code",
   "execution_count": 30,
   "id": "f86c263d",
   "metadata": {},
   "outputs": [
    {
     "data": {
      "text/plain": [
       "DataFrame[Name: string]"
      ]
     },
     "execution_count": 30,
     "metadata": {},
     "output_type": "execute_result"
    }
   ],
   "source": [
    "# select는 Transformations\n",
    "titanic_sdf.select(\"Name\")"
   ]
  },
  {
   "cell_type": "code",
   "execution_count": 31,
   "id": "008db21e",
   "metadata": {},
   "outputs": [
    {
     "name": "stdout",
     "output_type": "stream",
     "text": [
      "+--------------------+\n",
      "|                Name|\n",
      "+--------------------+\n",
      "|Braund, Mr. Owen ...|\n",
      "|Cumings, Mrs. Joh...|\n",
      "|Heikkinen, Miss. ...|\n",
      "|Futrelle, Mrs. Ja...|\n",
      "|Allen, Mr. Willia...|\n",
      "|    Moran, Mr. James|\n",
      "|McCarthy, Mr. Tim...|\n",
      "|Palsson, Master. ...|\n",
      "|Johnson, Mrs. Osc...|\n",
      "|Nasser, Mrs. Nich...|\n",
      "|Sandstrom, Miss. ...|\n",
      "|Bonnell, Miss. El...|\n",
      "|Saundercock, Mr. ...|\n",
      "|Andersson, Mr. An...|\n",
      "|Vestrom, Miss. Hu...|\n",
      "|Hewlett, Mrs. (Ma...|\n",
      "|Rice, Master. Eugene|\n",
      "|Williams, Mr. Cha...|\n",
      "|Vander Planke, Mr...|\n",
      "|Masselmani, Mrs. ...|\n",
      "+--------------------+\n",
      "only showing top 20 rows\n",
      "\n"
     ]
    }
   ],
   "source": [
    "titanic_sdf.select(\"Name\").show() # query > SELECT name FROM titanic_sdf"
   ]
  },
  {
   "cell_type": "code",
   "execution_count": 32,
   "id": "6f5b45dd",
   "metadata": {},
   "outputs": [
    {
     "name": "stdout",
     "output_type": "stream",
     "text": [
      "+--------------------+----+\n",
      "|                Name| Age|\n",
      "+--------------------+----+\n",
      "|Braund, Mr. Owen ...|22.0|\n",
      "|Cumings, Mrs. Joh...|38.0|\n",
      "|Heikkinen, Miss. ...|26.0|\n",
      "|Futrelle, Mrs. Ja...|35.0|\n",
      "|Allen, Mr. Willia...|35.0|\n",
      "|    Moran, Mr. James|null|\n",
      "|McCarthy, Mr. Tim...|54.0|\n",
      "|Palsson, Master. ...| 2.0|\n",
      "|Johnson, Mrs. Osc...|27.0|\n",
      "|Nasser, Mrs. Nich...|14.0|\n",
      "|Sandstrom, Miss. ...| 4.0|\n",
      "|Bonnell, Miss. El...|58.0|\n",
      "|Saundercock, Mr. ...|20.0|\n",
      "|Andersson, Mr. An...|39.0|\n",
      "|Vestrom, Miss. Hu...|14.0|\n",
      "|Hewlett, Mrs. (Ma...|55.0|\n",
      "|Rice, Master. Eugene| 2.0|\n",
      "|Williams, Mr. Cha...|null|\n",
      "|Vander Planke, Mr...|31.0|\n",
      "|Masselmani, Mrs. ...|null|\n",
      "+--------------------+----+\n",
      "only showing top 20 rows\n",
      "\n"
     ]
    }
   ],
   "source": [
    "titanic_sdf.select(\"Name\", \"Age\").show() # 연산 불가능한 방식"
   ]
  },
  {
   "cell_type": "code",
   "execution_count": 33,
   "id": "dfd7fae7",
   "metadata": {},
   "outputs": [],
   "source": [
    "# 리스트 사용해서 Select\n",
    "select_columns = [\"Name\", \"Age\", \"Pclass\", \"Fare\"]"
   ]
  },
  {
   "cell_type": "code",
   "execution_count": 35,
   "id": "d50a5d98",
   "metadata": {},
   "outputs": [
    {
     "name": "stdout",
     "output_type": "stream",
     "text": [
      "['Name', 'Age', 'Pclass', 'Fare']\n",
      "Name Age Pclass Fare\n"
     ]
    }
   ],
   "source": [
    "# Fancy indexing을 spark df에서 활용 시\n",
    "# - 구 버전과 신버전을 모두 지원하는 식으로 코딩 추천\n",
    "# - - 구 버전 : select할 때 list 구조 사용 불가능. list 내 모든 컬럼의 이름이 언팩(Unpack)되어 있어야 함.\n",
    "\n",
    "# 패킹된 리스트 확인\n",
    "print(select_columns)\n",
    "\n",
    "# 리스트 언패킹 - 구 버전\n",
    "print(*select_columns)"
   ]
  },
  {
   "cell_type": "code",
   "execution_count": 36,
   "id": "0ff0dee6",
   "metadata": {},
   "outputs": [
    {
     "name": "stdout",
     "output_type": "stream",
     "text": [
      "+--------------------+----+------+-------+\n",
      "|                Name| Age|Pclass|   Fare|\n",
      "+--------------------+----+------+-------+\n",
      "|Braund, Mr. Owen ...|22.0|     3|   7.25|\n",
      "|Cumings, Mrs. Joh...|38.0|     1|71.2833|\n",
      "|Heikkinen, Miss. ...|26.0|     3|  7.925|\n",
      "|Futrelle, Mrs. Ja...|35.0|     1|   53.1|\n",
      "|Allen, Mr. Willia...|35.0|     3|   8.05|\n",
      "|    Moran, Mr. James|null|     3| 8.4583|\n",
      "|McCarthy, Mr. Tim...|54.0|     1|51.8625|\n",
      "|Palsson, Master. ...| 2.0|     3| 21.075|\n",
      "|Johnson, Mrs. Osc...|27.0|     3|11.1333|\n",
      "|Nasser, Mrs. Nich...|14.0|     2|30.0708|\n",
      "|Sandstrom, Miss. ...| 4.0|     3|   16.7|\n",
      "|Bonnell, Miss. El...|58.0|     1|  26.55|\n",
      "|Saundercock, Mr. ...|20.0|     3|   8.05|\n",
      "|Andersson, Mr. An...|39.0|     3| 31.275|\n",
      "|Vestrom, Miss. Hu...|14.0|     3| 7.8542|\n",
      "|Hewlett, Mrs. (Ma...|55.0|     2|   16.0|\n",
      "|Rice, Master. Eugene| 2.0|     3| 29.125|\n",
      "|Williams, Mr. Cha...|null|     2|   13.0|\n",
      "|Vander Planke, Mr...|31.0|     3|   18.0|\n",
      "|Masselmani, Mrs. ...|null|     3|  7.225|\n",
      "+--------------------+----+------+-------+\n",
      "only showing top 20 rows\n",
      "\n",
      "+--------------------+----+------+-------+\n",
      "|                Name| Age|Pclass|   Fare|\n",
      "+--------------------+----+------+-------+\n",
      "|Braund, Mr. Owen ...|22.0|     3|   7.25|\n",
      "|Cumings, Mrs. Joh...|38.0|     1|71.2833|\n",
      "|Heikkinen, Miss. ...|26.0|     3|  7.925|\n",
      "|Futrelle, Mrs. Ja...|35.0|     1|   53.1|\n",
      "|Allen, Mr. Willia...|35.0|     3|   8.05|\n",
      "|    Moran, Mr. James|null|     3| 8.4583|\n",
      "|McCarthy, Mr. Tim...|54.0|     1|51.8625|\n",
      "|Palsson, Master. ...| 2.0|     3| 21.075|\n",
      "|Johnson, Mrs. Osc...|27.0|     3|11.1333|\n",
      "|Nasser, Mrs. Nich...|14.0|     2|30.0708|\n",
      "|Sandstrom, Miss. ...| 4.0|     3|   16.7|\n",
      "|Bonnell, Miss. El...|58.0|     1|  26.55|\n",
      "|Saundercock, Mr. ...|20.0|     3|   8.05|\n",
      "|Andersson, Mr. An...|39.0|     3| 31.275|\n",
      "|Vestrom, Miss. Hu...|14.0|     3| 7.8542|\n",
      "|Hewlett, Mrs. (Ma...|55.0|     2|   16.0|\n",
      "|Rice, Master. Eugene| 2.0|     3| 29.125|\n",
      "|Williams, Mr. Cha...|null|     2|   13.0|\n",
      "|Vander Planke, Mr...|31.0|     3|   18.0|\n",
      "|Masselmani, Mrs. ...|null|     3|  7.225|\n",
      "+--------------------+----+------+-------+\n",
      "only showing top 20 rows\n",
      "\n"
     ]
    }
   ],
   "source": [
    "titanic_sdf.select(select_columns).show() # 신 버전\n",
    "titanic_sdf.select(*select_columns).show() # 구 버전"
   ]
  },
  {
   "cell_type": "code",
   "execution_count": 37,
   "id": "78065579",
   "metadata": {},
   "outputs": [
    {
     "data": {
      "text/plain": [
       "Column<'Name'>"
      ]
     },
     "execution_count": 37,
     "metadata": {},
     "output_type": "execute_result"
    }
   ],
   "source": [
    "titanic_sdf['Name']"
   ]
  },
  {
   "cell_type": "code",
   "execution_count": 38,
   "id": "d28eb72e",
   "metadata": {},
   "outputs": [
    {
     "data": {
      "text/plain": [
       "Column<'Name'>"
      ]
     },
     "execution_count": 38,
     "metadata": {},
     "output_type": "execute_result"
    }
   ],
   "source": [
    "titanic_sdf.Name"
   ]
  },
  {
   "cell_type": "markdown",
   "id": "a60069ec",
   "metadata": {},
   "source": [
    "# 컬럼 속성 사용"
   ]
  },
  {
   "cell_type": "code",
   "execution_count": 39,
   "id": "288dd8fa",
   "metadata": {},
   "outputs": [
    {
     "name": "stdout",
     "output_type": "stream",
     "text": [
      "+--------------------+\n",
      "|                Name|\n",
      "+--------------------+\n",
      "|Braund, Mr. Owen ...|\n",
      "|Cumings, Mrs. Joh...|\n",
      "|Heikkinen, Miss. ...|\n",
      "|Futrelle, Mrs. Ja...|\n",
      "|Allen, Mr. Willia...|\n",
      "|    Moran, Mr. James|\n",
      "|McCarthy, Mr. Tim...|\n",
      "|Palsson, Master. ...|\n",
      "|Johnson, Mrs. Osc...|\n",
      "|Nasser, Mrs. Nich...|\n",
      "|Sandstrom, Miss. ...|\n",
      "|Bonnell, Miss. El...|\n",
      "|Saundercock, Mr. ...|\n",
      "|Andersson, Mr. An...|\n",
      "|Vestrom, Miss. Hu...|\n",
      "|Hewlett, Mrs. (Ma...|\n",
      "|Rice, Master. Eugene|\n",
      "|Williams, Mr. Cha...|\n",
      "|Vander Planke, Mr...|\n",
      "|Masselmani, Mrs. ...|\n",
      "+--------------------+\n",
      "only showing top 20 rows\n",
      "\n"
     ]
    }
   ],
   "source": [
    "titanic_sdf.select(\n",
    "    titanic_sdf['Name']\n",
    ").show()"
   ]
  },
  {
   "cell_type": "code",
   "execution_count": 40,
   "id": "4e867d7d",
   "metadata": {},
   "outputs": [
    {
     "data": {
      "text/plain": [
       "Column<'(Fare * 100)'>"
      ]
     },
     "execution_count": 40,
     "metadata": {},
     "output_type": "execute_result"
    }
   ],
   "source": [
    "# 컬럼 속성 활용 시 SELECT 절에서 연산이 가능한 형태가 됨\n",
    "\n",
    "titanic_sdf['Fare'] * 100"
   ]
  },
  {
   "cell_type": "code",
   "execution_count": 44,
   "id": "6a7491c0",
   "metadata": {},
   "outputs": [
    {
     "name": "stdout",
     "output_type": "stream",
     "text": [
      "+-------+-----------------+\n",
      "|   Fare|     (Fare * 100)|\n",
      "+-------+-----------------+\n",
      "|   7.25|            725.0|\n",
      "|71.2833|          7128.33|\n",
      "|  7.925|            792.5|\n",
      "|   53.1|           5310.0|\n",
      "|   8.05|805.0000000000001|\n",
      "| 8.4583|845.8299999999999|\n",
      "|51.8625|          5186.25|\n",
      "| 21.075|           2107.5|\n",
      "|11.1333|          1113.33|\n",
      "|30.0708|          3007.08|\n",
      "|   16.7|           1670.0|\n",
      "|  26.55|           2655.0|\n",
      "|   8.05|805.0000000000001|\n",
      "| 31.275|           3127.5|\n",
      "| 7.8542|           785.42|\n",
      "|   16.0|           1600.0|\n",
      "| 29.125|           2912.5|\n",
      "|   13.0|           1300.0|\n",
      "|   18.0|           1800.0|\n",
      "|  7.225|            722.5|\n",
      "+-------+-----------------+\n",
      "only showing top 20 rows\n",
      "\n"
     ]
    }
   ],
   "source": [
    "titanic_sdf.select(\n",
    "    titanic_sdf['Fare'],\n",
    "    titanic_sdf['Fare']*100\n",
    ").show()"
   ]
  },
  {
   "cell_type": "markdown",
   "id": "09f98084",
   "metadata": {},
   "source": [
    "Spark dataframe에서 컬럼 다룰때 가장 많이 사용하는 방식\n",
    "- `col`\n",
    "- Spark SQL에서 사용되는 모든 연산이 들어있는 패키지인 pyspark.sql.functions 에서 import"
   ]
  },
  {
   "cell_type": "code",
   "execution_count": 45,
   "id": "8a9a4764",
   "metadata": {},
   "outputs": [
    {
     "data": {
      "text/plain": [
       "Column<'Fare'>"
      ]
     },
     "execution_count": 45,
     "metadata": {},
     "output_type": "execute_result"
    }
   ],
   "source": [
    "import pyspark.sql.functions as F\n",
    "\n",
    "F.col(\"Fare\")"
   ]
  },
  {
   "cell_type": "code",
   "execution_count": 46,
   "id": "6d4de4d9",
   "metadata": {},
   "outputs": [
    {
     "name": "stdout",
     "output_type": "stream",
     "text": [
      "+--------------------+-------+\n",
      "|                Name|   Fare|\n",
      "+--------------------+-------+\n",
      "|Braund, Mr. Owen ...|   7.25|\n",
      "|Cumings, Mrs. Joh...|71.2833|\n",
      "|Heikkinen, Miss. ...|  7.925|\n",
      "|Futrelle, Mrs. Ja...|   53.1|\n",
      "|Allen, Mr. Willia...|   8.05|\n",
      "|    Moran, Mr. James| 8.4583|\n",
      "|McCarthy, Mr. Tim...|51.8625|\n",
      "|Palsson, Master. ...| 21.075|\n",
      "|Johnson, Mrs. Osc...|11.1333|\n",
      "|Nasser, Mrs. Nich...|30.0708|\n",
      "|Sandstrom, Miss. ...|   16.7|\n",
      "|Bonnell, Miss. El...|  26.55|\n",
      "|Saundercock, Mr. ...|   8.05|\n",
      "|Andersson, Mr. An...| 31.275|\n",
      "|Vestrom, Miss. Hu...| 7.8542|\n",
      "|Hewlett, Mrs. (Ma...|   16.0|\n",
      "|Rice, Master. Eugene| 29.125|\n",
      "|Williams, Mr. Cha...|   13.0|\n",
      "|Vander Planke, Mr...|   18.0|\n",
      "|Masselmani, Mrs. ...|  7.225|\n",
      "+--------------------+-------+\n",
      "only showing top 20 rows\n",
      "\n"
     ]
    }
   ],
   "source": [
    "titanic_sdf.select(\n",
    "    F.col('Name'),\n",
    "    F.col('Fare')\n",
    ").show()"
   ]
  },
  {
   "cell_type": "code",
   "execution_count": 48,
   "id": "4c32cb18",
   "metadata": {},
   "outputs": [
    {
     "name": "stdout",
     "output_type": "stream",
     "text": [
      "+--------------------+--------------------+\n",
      "|                Name|            CAP NAME|\n",
      "+--------------------+--------------------+\n",
      "|Braund, Mr. Owen ...|BRAUND, MR. OWEN ...|\n",
      "|Cumings, Mrs. Joh...|CUMINGS, MRS. JOH...|\n",
      "|Heikkinen, Miss. ...|HEIKKINEN, MISS. ...|\n",
      "|Futrelle, Mrs. Ja...|FUTRELLE, MRS. JA...|\n",
      "|Allen, Mr. Willia...|ALLEN, MR. WILLIA...|\n",
      "|    Moran, Mr. James|    MORAN, MR. JAMES|\n",
      "|McCarthy, Mr. Tim...|MCCARTHY, MR. TIM...|\n",
      "|Palsson, Master. ...|PALSSON, MASTER. ...|\n",
      "|Johnson, Mrs. Osc...|JOHNSON, MRS. OSC...|\n",
      "|Nasser, Mrs. Nich...|NASSER, MRS. NICH...|\n",
      "|Sandstrom, Miss. ...|SANDSTROM, MISS. ...|\n",
      "|Bonnell, Miss. El...|BONNELL, MISS. EL...|\n",
      "|Saundercock, Mr. ...|SAUNDERCOCK, MR. ...|\n",
      "|Andersson, Mr. An...|ANDERSSON, MR. AN...|\n",
      "|Vestrom, Miss. Hu...|VESTROM, MISS. HU...|\n",
      "|Hewlett, Mrs. (Ma...|HEWLETT, MRS. (MA...|\n",
      "|Rice, Master. Eugene|RICE, MASTER. EUGENE|\n",
      "|Williams, Mr. Cha...|WILLIAMS, MR. CHA...|\n",
      "|Vander Planke, Mr...|VANDER PLANKE, MR...|\n",
      "|Masselmani, Mrs. ...|MASSELMANI, MRS. ...|\n",
      "+--------------------+--------------------+\n",
      "only showing top 20 rows\n",
      "\n"
     ]
    }
   ],
   "source": [
    "titanic_sdf.select(\n",
    "    F.col('Name'),\n",
    "    F.upper(F.col('Name')).alias('CAP NAME')\n",
    ").show()"
   ]
  },
  {
   "cell_type": "code",
   "execution_count": 50,
   "id": "3009b0bf",
   "metadata": {},
   "outputs": [
    {
     "name": "stdout",
     "output_type": "stream",
     "text": [
      "+--------------------+-----------------+\n",
      "|                Name|             FARE|\n",
      "+--------------------+-----------------+\n",
      "|Braund, Mr. Owen ...|            725.0|\n",
      "|Cumings, Mrs. Joh...|          7128.33|\n",
      "|Heikkinen, Miss. ...|            792.5|\n",
      "|Futrelle, Mrs. Ja...|           5310.0|\n",
      "|Allen, Mr. Willia...|805.0000000000001|\n",
      "|    Moran, Mr. James|845.8299999999999|\n",
      "|McCarthy, Mr. Tim...|          5186.25|\n",
      "|Palsson, Master. ...|           2107.5|\n",
      "|Johnson, Mrs. Osc...|          1113.33|\n",
      "|Nasser, Mrs. Nich...|          3007.08|\n",
      "|Sandstrom, Miss. ...|           1670.0|\n",
      "|Bonnell, Miss. El...|           2655.0|\n",
      "|Saundercock, Mr. ...|805.0000000000001|\n",
      "|Andersson, Mr. An...|           3127.5|\n",
      "|Vestrom, Miss. Hu...|           785.42|\n",
      "|Hewlett, Mrs. (Ma...|           1600.0|\n",
      "|Rice, Master. Eugene|           2912.5|\n",
      "|Williams, Mr. Cha...|           1300.0|\n",
      "|Vander Planke, Mr...|           1800.0|\n",
      "|Masselmani, Mrs. ...|            722.5|\n",
      "+--------------------+-----------------+\n",
      "only showing top 20 rows\n",
      "\n"
     ]
    }
   ],
   "source": [
    "titanic_sdf.select(\n",
    "    F.col('Name'),\n",
    "    (F.col('Fare') * 100).alias('FARE')\n",
    ").show()"
   ]
  },
  {
   "cell_type": "markdown",
   "id": "e730eda9",
   "metadata": {},
   "source": [
    "# Spark DataFrame의 filter() method \n",
    "- SQL의 WHERE절과 매우 흡사\n",
    "- 조건 컬럼은 컬럼 속성으로 지정 가능\n",
    "- 조건문 자체는 SQL과 유사한 문자열로 지정. 단, 조건 컬럼은 문자열 지정이 안됨.\n",
    "- `where` method는 filter의 alias 버전이며, where과 직관적 동일성을 간주하기 위해 생성\n",
    "- 복합 조건 and는 `&`를, or는 `|`를 사용. 개별 조건은 괄호()로 감싸기."
   ]
  },
  {
   "cell_type": "code",
   "execution_count": 51,
   "id": "69f0c65b",
   "metadata": {},
   "outputs": [
    {
     "data": {
      "text/plain": [
       "Column<'(Embarked = Q)'>"
      ]
     },
     "execution_count": 51,
     "metadata": {},
     "output_type": "execute_result"
    }
   ],
   "source": [
    "F.col('Embarked') == \"Q\""
   ]
  },
  {
   "cell_type": "code",
   "execution_count": 52,
   "id": "3e2a0471",
   "metadata": {},
   "outputs": [
    {
     "name": "stdout",
     "output_type": "stream",
     "text": [
      "+-----------+--------+------+--------------------+------+----+-----+-----+------+------+-----+--------+\n",
      "|PassengerId|Survived|Pclass|                Name|   Sex| Age|SibSp|Parch|Ticket|  Fare|Cabin|Embarked|\n",
      "+-----------+--------+------+--------------------+------+----+-----+-----+------+------+-----+--------+\n",
      "|          6|       0|     3|    Moran, Mr. James|  male|null|    0|    0|330877|8.4583| null|       Q|\n",
      "|         17|       0|     3|Rice, Master. Eugene|  male| 2.0|    4|    1|382652|29.125| null|       Q|\n",
      "|         23|       1|     3|\"McGowan, Miss. A...|female|15.0|    0|    0|330923|8.0292| null|       Q|\n",
      "|         29|       1|     3|\"O'Dwyer, Miss. E...|female|null|    0|    0|330959|7.8792| null|       Q|\n",
      "|         33|       1|     3|Glynn, Miss. Mary...|female|null|    0|    0|335677|  7.75| null|       Q|\n",
      "|         45|       1|     3|Devaney, Miss. Ma...|female|19.0|    0|    0|330958|7.8792| null|       Q|\n",
      "|         47|       0|     3|   Lennon, Mr. Denis|  male|null|    1|    0|370371|  15.5| null|       Q|\n",
      "|         48|       1|     3|O'Driscoll, Miss....|female|null|    0|    0| 14311|  7.75| null|       Q|\n",
      "|         83|       1|     3|McDermott, Miss. ...|female|null|    0|    0|330932|7.7875| null|       Q|\n",
      "|        110|       1|     3| Moran, Miss. Bertha|female|null|    1|    0|371110| 24.15| null|       Q|\n",
      "|        117|       0|     3|Connors, Mr. Patrick|  male|70.5|    0|    0|370369|  7.75| null|       Q|\n",
      "|        127|       0|     3| McMahon, Mr. Martin|  male|null|    0|    0|370372|  7.75| null|       Q|\n",
      "|        144|       0|     3| Burke, Mr. Jeremiah|  male|19.0|    0|    0|365222|  6.75| null|       Q|\n",
      "|        157|       1|     3|\"Gilnagh, Miss. K...|female|16.0|    0|    0| 35851|7.7333| null|       Q|\n",
      "|        172|       0|     3|Rice, Master. Arthur|  male| 4.0|    4|    1|382652|29.125| null|       Q|\n",
      "|        187|       1|     3|\"O'Brien, Mrs. Th...|female|null|    1|    0|370365|  15.5| null|       Q|\n",
      "|        189|       0|     3|    Bourke, Mr. John|  male|40.0|    1|    1|364849|  15.5| null|       Q|\n",
      "|        197|       0|     3| Mernagh, Mr. Robert|  male|null|    0|    0|368703|  7.75| null|       Q|\n",
      "|        199|       1|     3|\"Madigan, Miss. M...|female|null|    0|    0|370370|  7.75| null|       Q|\n",
      "|        209|       1|     3|\"Carr, Miss. Hele...|female|16.0|    0|    0|367231|  7.75| null|       Q|\n",
      "+-----------+--------+------+--------------------+------+----+-----+-----+------+------+-----+--------+\n",
      "only showing top 20 rows\n",
      "\n"
     ]
    }
   ],
   "source": [
    "titanic_sdf.filter(\n",
    "    F.col('Embarked') == 'Q'\n",
    ").show()"
   ]
  },
  {
   "cell_type": "code",
   "execution_count": 53,
   "id": "8e7f1aa1",
   "metadata": {},
   "outputs": [
    {
     "name": "stdout",
     "output_type": "stream",
     "text": [
      "+-----------+--------+------+--------------------+------+----+-----+-----+------+------+-----+--------+\n",
      "|PassengerId|Survived|Pclass|                Name|   Sex| Age|SibSp|Parch|Ticket|  Fare|Cabin|Embarked|\n",
      "+-----------+--------+------+--------------------+------+----+-----+-----+------+------+-----+--------+\n",
      "|          6|       0|     3|    Moran, Mr. James|  male|null|    0|    0|330877|8.4583| null|       Q|\n",
      "|         17|       0|     3|Rice, Master. Eugene|  male| 2.0|    4|    1|382652|29.125| null|       Q|\n",
      "|         23|       1|     3|\"McGowan, Miss. A...|female|15.0|    0|    0|330923|8.0292| null|       Q|\n",
      "|         29|       1|     3|\"O'Dwyer, Miss. E...|female|null|    0|    0|330959|7.8792| null|       Q|\n",
      "|         33|       1|     3|Glynn, Miss. Mary...|female|null|    0|    0|335677|  7.75| null|       Q|\n",
      "|         45|       1|     3|Devaney, Miss. Ma...|female|19.0|    0|    0|330958|7.8792| null|       Q|\n",
      "|         47|       0|     3|   Lennon, Mr. Denis|  male|null|    1|    0|370371|  15.5| null|       Q|\n",
      "|         48|       1|     3|O'Driscoll, Miss....|female|null|    0|    0| 14311|  7.75| null|       Q|\n",
      "|         83|       1|     3|McDermott, Miss. ...|female|null|    0|    0|330932|7.7875| null|       Q|\n",
      "|        110|       1|     3| Moran, Miss. Bertha|female|null|    1|    0|371110| 24.15| null|       Q|\n",
      "|        117|       0|     3|Connors, Mr. Patrick|  male|70.5|    0|    0|370369|  7.75| null|       Q|\n",
      "|        127|       0|     3| McMahon, Mr. Martin|  male|null|    0|    0|370372|  7.75| null|       Q|\n",
      "|        144|       0|     3| Burke, Mr. Jeremiah|  male|19.0|    0|    0|365222|  6.75| null|       Q|\n",
      "|        157|       1|     3|\"Gilnagh, Miss. K...|female|16.0|    0|    0| 35851|7.7333| null|       Q|\n",
      "|        172|       0|     3|Rice, Master. Arthur|  male| 4.0|    4|    1|382652|29.125| null|       Q|\n",
      "|        187|       1|     3|\"O'Brien, Mrs. Th...|female|null|    1|    0|370365|  15.5| null|       Q|\n",
      "|        189|       0|     3|    Bourke, Mr. John|  male|40.0|    1|    1|364849|  15.5| null|       Q|\n",
      "|        197|       0|     3| Mernagh, Mr. Robert|  male|null|    0|    0|368703|  7.75| null|       Q|\n",
      "|        199|       1|     3|\"Madigan, Miss. M...|female|null|    0|    0|370370|  7.75| null|       Q|\n",
      "|        209|       1|     3|\"Carr, Miss. Hele...|female|16.0|    0|    0|367231|  7.75| null|       Q|\n",
      "+-----------+--------+------+--------------------+------+----+-----+-----+------+------+-----+--------+\n",
      "only showing top 20 rows\n",
      "\n"
     ]
    }
   ],
   "source": [
    "titanic_sdf.where(\n",
    "    F.col('Embarked') == 'Q'\n",
    ").show()"
   ]
  },
  {
   "cell_type": "code",
   "execution_count": 55,
   "id": "09ee3a60",
   "metadata": {},
   "outputs": [
    {
     "name": "stdout",
     "output_type": "stream",
     "text": [
      "+-----------+--------+------+--------------------+------+----+-----+-----+------+----+-----+--------+\n",
      "|PassengerId|Survived|Pclass|                Name|   Sex| Age|SibSp|Parch|Ticket|Fare|Cabin|Embarked|\n",
      "+-----------+--------+------+--------------------+------+----+-----+-----+------+----+-----+--------+\n",
      "|        246|       0|     1|Minahan, Dr. Will...|  male|44.0|    2|    0| 19928|90.0|  C78|       Q|\n",
      "|        413|       1|     1|Minahan, Miss. Da...|female|33.0|    1|    0| 19928|90.0|  C78|       Q|\n",
      "+-----------+--------+------+--------------------+------+----+-----+-----+------+----+-----+--------+\n",
      "\n"
     ]
    }
   ],
   "source": [
    "# AND -> &\n",
    "titanic_sdf.filter(\n",
    "    (F.col('Embarked') == 'Q') & (F.col('Pclass') == 1)\n",
    ").show()"
   ]
  },
  {
   "cell_type": "code",
   "execution_count": 56,
   "id": "73ac4512",
   "metadata": {},
   "outputs": [
    {
     "name": "stdout",
     "output_type": "stream",
     "text": [
      "+-----------+--------+------+--------------------+------+----+-----+-----+--------+--------+-----------+--------+\n",
      "|PassengerId|Survived|Pclass|                Name|   Sex| Age|SibSp|Parch|  Ticket|    Fare|      Cabin|Embarked|\n",
      "+-----------+--------+------+--------------------+------+----+-----+-----+--------+--------+-----------+--------+\n",
      "|          2|       1|     1|Cumings, Mrs. Joh...|female|38.0|    1|    0|PC 17599| 71.2833|        C85|       C|\n",
      "|          4|       1|     1|Futrelle, Mrs. Ja...|female|35.0|    1|    0|  113803|    53.1|       C123|       S|\n",
      "|          6|       0|     3|    Moran, Mr. James|  male|null|    0|    0|  330877|  8.4583|       null|       Q|\n",
      "|          7|       0|     1|McCarthy, Mr. Tim...|  male|54.0|    0|    0|   17463| 51.8625|        E46|       S|\n",
      "|         12|       1|     1|Bonnell, Miss. El...|female|58.0|    0|    0|  113783|   26.55|       C103|       S|\n",
      "|         17|       0|     3|Rice, Master. Eugene|  male| 2.0|    4|    1|  382652|  29.125|       null|       Q|\n",
      "|         23|       1|     3|\"McGowan, Miss. A...|female|15.0|    0|    0|  330923|  8.0292|       null|       Q|\n",
      "|         24|       1|     1|Sloper, Mr. Willi...|  male|28.0|    0|    0|  113788|    35.5|         A6|       S|\n",
      "|         28|       0|     1|Fortune, Mr. Char...|  male|19.0|    3|    2|   19950|   263.0|C23 C25 C27|       S|\n",
      "|         29|       1|     3|\"O'Dwyer, Miss. E...|female|null|    0|    0|  330959|  7.8792|       null|       Q|\n",
      "|         31|       0|     1|Uruchurtu, Don. M...|  male|40.0|    0|    0|PC 17601| 27.7208|       null|       C|\n",
      "|         32|       1|     1|Spencer, Mrs. Wil...|female|null|    1|    0|PC 17569|146.5208|        B78|       C|\n",
      "|         33|       1|     3|Glynn, Miss. Mary...|female|null|    0|    0|  335677|    7.75|       null|       Q|\n",
      "|         35|       0|     1|Meyer, Mr. Edgar ...|  male|28.0|    1|    0|PC 17604| 82.1708|       null|       C|\n",
      "|         36|       0|     1|Holverson, Mr. Al...|  male|42.0|    1|    0|  113789|    52.0|       null|       S|\n",
      "|         45|       1|     3|Devaney, Miss. Ma...|female|19.0|    0|    0|  330958|  7.8792|       null|       Q|\n",
      "|         47|       0|     3|   Lennon, Mr. Denis|  male|null|    1|    0|  370371|    15.5|       null|       Q|\n",
      "|         48|       1|     3|O'Driscoll, Miss....|female|null|    0|    0|   14311|    7.75|       null|       Q|\n",
      "|         53|       1|     1|Harper, Mrs. Henr...|female|49.0|    1|    0|PC 17572| 76.7292|        D33|       C|\n",
      "|         55|       0|     1|Ostby, Mr. Engelh...|  male|65.0|    0|    1|  113509| 61.9792|        B30|       C|\n",
      "+-----------+--------+------+--------------------+------+----+-----+-----+--------+--------+-----------+--------+\n",
      "only showing top 20 rows\n",
      "\n"
     ]
    }
   ],
   "source": [
    "# OR -> |\n",
    "titanic_sdf.filter(\n",
    "    (F.col('Embarked') == 'Q') | (F.col('Pclass') == 1)\n",
    ").show()"
   ]
  },
  {
   "cell_type": "code",
   "execution_count": 57,
   "id": "2464affb",
   "metadata": {},
   "outputs": [
    {
     "name": "stdout",
     "output_type": "stream",
     "text": [
      "+-----------+--------+------+--------------------+------+----+-----+-----+----------------+-------+-----+--------+\n",
      "|PassengerId|Survived|Pclass|                Name|   Sex| Age|SibSp|Parch|          Ticket|   Fare|Cabin|Embarked|\n",
      "+-----------+--------+------+--------------------+------+----+-----+-----+----------------+-------+-----+--------+\n",
      "|          3|       1|     3|Heikkinen, Miss. ...|female|26.0|    0|    0|STON/O2. 3101282|  7.925| null|       S|\n",
      "|         11|       1|     3|Sandstrom, Miss. ...|female| 4.0|    1|    1|         PP 9549|   16.7|   G6|       S|\n",
      "|         12|       1|     1|Bonnell, Miss. El...|female|58.0|    0|    0|          113783|  26.55| C103|       S|\n",
      "|         15|       0|     3|Vestrom, Miss. Hu...|female|14.0|    0|    0|          350406| 7.8542| null|       S|\n",
      "|         23|       1|     3|\"McGowan, Miss. A...|female|15.0|    0|    0|          330923| 8.0292| null|       Q|\n",
      "|         25|       0|     3|Palsson, Miss. To...|female| 8.0|    3|    1|          349909| 21.075| null|       S|\n",
      "|         29|       1|     3|\"O'Dwyer, Miss. E...|female|null|    0|    0|          330959| 7.8792| null|       Q|\n",
      "|         33|       1|     3|Glynn, Miss. Mary...|female|null|    0|    0|          335677|   7.75| null|       Q|\n",
      "|         39|       0|     3|Vander Planke, Mi...|female|18.0|    2|    0|          345764|   18.0| null|       S|\n",
      "|         40|       1|     3|Nicola-Yarred, Mi...|female|14.0|    1|    0|            2651|11.2417| null|       C|\n",
      "|         44|       1|     2|Laroche, Miss. Si...|female| 3.0|    1|    2|   SC/Paris 2123|41.5792| null|       C|\n",
      "|         45|       1|     3|Devaney, Miss. Ma...|female|19.0|    0|    0|          330958| 7.8792| null|       Q|\n",
      "|         48|       1|     3|O'Driscoll, Miss....|female|null|    0|    0|           14311|   7.75| null|       Q|\n",
      "|         57|       1|     2|   Rugg, Miss. Emily|female|21.0|    0|    0|      C.A. 31026|   10.5| null|       S|\n",
      "|         59|       1|     2|West, Miss. Const...|female| 5.0|    1|    2|      C.A. 34651|  27.75| null|       S|\n",
      "|         62|       1|     1| Icard, Miss. Amelie|female|38.0|    0|    0|          113572|   80.0|  B28|    null|\n",
      "|         69|       1|     3|Andersson, Miss. ...|female|17.0|    4|    2|         3101281|  7.925| null|       S|\n",
      "|         72|       0|     3|Goodwin, Miss. Li...|female|16.0|    5|    2|         CA 2144|   46.9| null|       S|\n",
      "|         80|       1|     3|Dowdell, Miss. El...|female|30.0|    0|    0|          364516| 12.475| null|       S|\n",
      "|         83|       1|     3|McDermott, Miss. ...|female|null|    0|    0|          330932| 7.7875| null|       Q|\n",
      "+-----------+--------+------+--------------------+------+----+-----+-----+----------------+-------+-----+--------+\n",
      "only showing top 20 rows\n",
      "\n"
     ]
    }
   ],
   "source": [
    "# LIKE\n",
    "titanic_sdf.filter(\n",
    "    F.col('Name').like('%Miss%')\n",
    ").show()"
   ]
  },
  {
   "cell_type": "code",
   "execution_count": 61,
   "id": "3cb02063",
   "metadata": {},
   "outputs": [
    {
     "name": "stdout",
     "output_type": "stream",
     "text": [
      "+-----------+--------+------+--------------------+------+----+-----+-----+----------------+-------+-----+--------+\n",
      "|PassengerId|Survived|Pclass|                Name|   Sex| Age|SibSp|Parch|          Ticket|   Fare|Cabin|Embarked|\n",
      "+-----------+--------+------+--------------------+------+----+-----+-----+----------------+-------+-----+--------+\n",
      "|          3|       1|     3|Heikkinen, Miss. ...|female|26.0|    0|    0|STON/O2. 3101282|  7.925| null|       S|\n",
      "|         11|       1|     3|Sandstrom, Miss. ...|female| 4.0|    1|    1|         PP 9549|   16.7|   G6|       S|\n",
      "|         12|       1|     1|Bonnell, Miss. El...|female|58.0|    0|    0|          113783|  26.55| C103|       S|\n",
      "|         15|       0|     3|Vestrom, Miss. Hu...|female|14.0|    0|    0|          350406| 7.8542| null|       S|\n",
      "|         23|       1|     3|\"McGowan, Miss. A...|female|15.0|    0|    0|          330923| 8.0292| null|       Q|\n",
      "|         25|       0|     3|Palsson, Miss. To...|female| 8.0|    3|    1|          349909| 21.075| null|       S|\n",
      "|         29|       1|     3|\"O'Dwyer, Miss. E...|female|null|    0|    0|          330959| 7.8792| null|       Q|\n",
      "|         33|       1|     3|Glynn, Miss. Mary...|female|null|    0|    0|          335677|   7.75| null|       Q|\n",
      "|         39|       0|     3|Vander Planke, Mi...|female|18.0|    2|    0|          345764|   18.0| null|       S|\n",
      "|         40|       1|     3|Nicola-Yarred, Mi...|female|14.0|    1|    0|            2651|11.2417| null|       C|\n",
      "|         44|       1|     2|Laroche, Miss. Si...|female| 3.0|    1|    2|   SC/Paris 2123|41.5792| null|       C|\n",
      "|         45|       1|     3|Devaney, Miss. Ma...|female|19.0|    0|    0|          330958| 7.8792| null|       Q|\n",
      "|         48|       1|     3|O'Driscoll, Miss....|female|null|    0|    0|           14311|   7.75| null|       Q|\n",
      "|         57|       1|     2|   Rugg, Miss. Emily|female|21.0|    0|    0|      C.A. 31026|   10.5| null|       S|\n",
      "|         59|       1|     2|West, Miss. Const...|female| 5.0|    1|    2|      C.A. 34651|  27.75| null|       S|\n",
      "|         62|       1|     1| Icard, Miss. Amelie|female|38.0|    0|    0|          113572|   80.0|  B28|    null|\n",
      "|         69|       1|     3|Andersson, Miss. ...|female|17.0|    4|    2|         3101281|  7.925| null|       S|\n",
      "|         72|       0|     3|Goodwin, Miss. Li...|female|16.0|    5|    2|         CA 2144|   46.9| null|       S|\n",
      "|         80|       1|     3|Dowdell, Miss. El...|female|30.0|    0|    0|          364516| 12.475| null|       S|\n",
      "|         83|       1|     3|McDermott, Miss. ...|female|null|    0|    0|          330932| 7.7875| null|       Q|\n",
      "+-----------+--------+------+--------------------+------+----+-----+-----+----------------+-------+-----+--------+\n",
      "only showing top 20 rows\n",
      "\n"
     ]
    }
   ],
   "source": [
    "# SQL 조건문 작성 하듯이 사용 가능 - 추천 안함\n",
    "titanic_sdf.filter(\n",
    "    \"Name like '%Miss%'\"\n",
    ").show()"
   ]
  },
  {
   "cell_type": "markdown",
   "id": "2002bca1",
   "metadata": {},
   "source": [
    "```SQL\n",
    "SELECT upper(Name)\n",
    "FROM titanic_sdf\n",
    "WHERE lower(Name) like 'h%'\n",
    "```"
   ]
  },
  {
   "cell_type": "code",
   "execution_count": 70,
   "id": "62a24928",
   "metadata": {},
   "outputs": [
    {
     "name": "stdout",
     "output_type": "stream",
     "text": [
      "+--------------------+\n",
      "|                NAME|\n",
      "+--------------------+\n",
      "|HEIKKINEN, MISS. ...|\n",
      "|HEWLETT, MRS. (MA...|\n",
      "|HOLVERSON, MR. AL...|\n",
      "|HARPER, MRS. HENR...|\n",
      "|HARRIS, MR. HENRY...|\n",
      "|HOOD, MR. AMBROSE JR|\n",
      "|HICKMAN, MR. STAN...|\n",
      "|HAKKARAINEN, MRS....|\n",
      "|  HALE, MR. REGINALD|\n",
      "|HONKANEN, MISS. E...|\n",
      "|  HARRIS, MR. WALTER|\n",
      "|HOYT, MR. FREDERI...|\n",
      "|HARRIS, MRS. HENR...|\n",
      "|HARKNETT, MISS. A...|\n",
      "|   HOLD, MR. STEPHEN|\n",
      "|HUNT, MR. GEORGE ...|\n",
      "|HAMALAINEN, MRS. ...|\n",
      "|HARRISON, MR. WIL...|\n",
      "|  HENRY, MISS. DELIA|\n",
      "|HOSONO, MR. MASABUMI|\n",
      "+--------------------+\n",
      "only showing top 20 rows\n",
      "\n"
     ]
    }
   ],
   "source": [
    "# 소문자 h로 시작하는 이름 조회 -> 대문자로 출력\n",
    "\n",
    "titanic_sdf.filter(\n",
    "    F.lower(F.col('Name')).like('h%')\n",
    ").select(\n",
    "    F.upper(F.col('Name')).alias('NAME')\n",
    ").show()"
   ]
  },
  {
   "cell_type": "code",
   "execution_count": 71,
   "id": "032d489b",
   "metadata": {},
   "outputs": [],
   "source": [
    "spark.stop()"
   ]
  },
  {
   "cell_type": "code",
   "execution_count": null,
   "id": "1c4008a9",
   "metadata": {},
   "outputs": [],
   "source": []
  }
 ],
 "metadata": {
  "kernelspec": {
   "display_name": "Python 3 (ipykernel)",
   "language": "python",
   "name": "python3"
  },
  "language_info": {
   "codemirror_mode": {
    "name": "ipython",
    "version": 3
   },
   "file_extension": ".py",
   "mimetype": "text/x-python",
   "name": "python",
   "nbconvert_exporter": "python",
   "pygments_lexer": "ipython3",
   "version": "3.8.18"
  }
 },
 "nbformat": 4,
 "nbformat_minor": 5
}
