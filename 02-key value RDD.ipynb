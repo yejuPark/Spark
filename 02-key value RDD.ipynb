{
 "cells": [
  {
   "cell_type": "code",
   "execution_count": 2,
   "id": "50268d34",
   "metadata": {},
   "outputs": [
    {
     "name": "stderr",
     "output_type": "stream",
     "text": [
      "Using Spark's default log4j profile: org/apache/spark/log4j-defaults.properties\n",
      "Setting default log level to \"WARN\".\n",
      "To adjust logging level use sc.setLogLevel(newLevel). For SparkR, use setLogLevel(newLevel).\n",
      "23/11/15 10:44:42 WARN NativeCodeLoader: Unable to load native-hadoop library for your platform... using builtin-java classes where applicable\n"
     ]
    },
    {
     "data": {
      "text/html": [
       "\n",
       "        <div>\n",
       "            <p><b>SparkContext</b></p>\n",
       "\n",
       "            <p><a href=\"http://0.0.0.0:4040\">Spark UI</a></p>\n",
       "\n",
       "            <dl>\n",
       "              <dt>Version</dt>\n",
       "                <dd><code>v3.2.4</code></dd>\n",
       "              <dt>Master</dt>\n",
       "                <dd><code>local</code></dd>\n",
       "              <dt>AppName</dt>\n",
       "                <dd><code>restaurant-review-average</code></dd>\n",
       "            </dl>\n",
       "        </div>\n",
       "        "
      ],
      "text/plain": [
       "<SparkContext master=local appName=restaurant-review-average>"
      ]
     },
     "execution_count": 2,
     "metadata": {},
     "output_type": "execute_result"
    }
   ],
   "source": [
    "from pyspark import SparkConf, SparkContext\n",
    "\n",
    "conf = SparkConf().setMaster(\"local\").setAppName(\"restaurant-review-average\")\n",
    "sc = SparkContext(conf=conf)\n",
    "sc"
   ]
  },
  {
   "cell_type": "code",
   "execution_count": 3,
   "id": "158cf555",
   "metadata": {},
   "outputs": [],
   "source": [
    "filepath = \"/home/ubuntu/working/spark-examples/data/restaurant_reviews.csv\""
   ]
  },
  {
   "cell_type": "code",
   "execution_count": 4,
   "id": "f65761fe",
   "metadata": {},
   "outputs": [
    {
     "name": "stderr",
     "output_type": "stream",
     "text": [
      "                                                                                \r"
     ]
    },
    {
     "data": {
      "text/plain": [
       "['id,item,cateogry,reviews,',\n",
       " '0,짜장면,중식,125,',\n",
       " '1,짬뽕,중식,235,',\n",
       " '2,김밥,분식,32,',\n",
       " '3,떡볶이,분식,534,',\n",
       " '4,라멘,일식,223,',\n",
       " '5,돈가스,일식,52,',\n",
       " '6,우동,일식,12,',\n",
       " '7,쌀국수,아시안,312,',\n",
       " '8,햄버거,패스트푸드,12,',\n",
       " '9,치킨,패스트푸드,23']"
      ]
     },
     "execution_count": 4,
     "metadata": {},
     "output_type": "execute_result"
    }
   ],
   "source": [
    "lines = sc.textFile(f\"file:///{filepath}\")\n",
    "lines.collect()"
   ]
  },
  {
   "cell_type": "code",
   "execution_count": 5,
   "id": "475567b2",
   "metadata": {},
   "outputs": [
    {
     "name": "stderr",
     "output_type": "stream",
     "text": [
      "                                                                                \r"
     ]
    },
    {
     "data": {
      "text/plain": [
       "'id,item,cateogry,reviews,'"
      ]
     },
     "execution_count": 5,
     "metadata": {},
     "output_type": "execute_result"
    }
   ],
   "source": [
    "# header 제거\n",
    "header = lines.first()\n",
    "header"
   ]
  },
  {
   "cell_type": "code",
   "execution_count": 6,
   "id": "1ad3ff9b",
   "metadata": {},
   "outputs": [
    {
     "data": {
      "text/plain": [
       "PythonRDD[3] at RDD at PythonRDD.scala:53"
      ]
     },
     "execution_count": 6,
     "metadata": {},
     "output_type": "execute_result"
    }
   ],
   "source": [
    "rows = lines.filter(lambda row : row != header)\n",
    "rows"
   ]
  },
  {
   "cell_type": "code",
   "execution_count": 7,
   "id": "97483cd7",
   "metadata": {},
   "outputs": [
    {
     "data": {
      "text/plain": [
       "['0,짜장면,중식,125,',\n",
       " '1,짬뽕,중식,235,',\n",
       " '2,김밥,분식,32,',\n",
       " '3,떡볶이,분식,534,',\n",
       " '4,라멘,일식,223,',\n",
       " '5,돈가스,일식,52,',\n",
       " '6,우동,일식,12,',\n",
       " '7,쌀국수,아시안,312,',\n",
       " '8,햄버거,패스트푸드,12,',\n",
       " '9,치킨,패스트푸드,23']"
      ]
     },
     "execution_count": 7,
     "metadata": {},
     "output_type": "execute_result"
    }
   ],
   "source": [
    "rows.collect()"
   ]
  },
  {
   "cell_type": "code",
   "execution_count": 8,
   "id": "606f357a",
   "metadata": {},
   "outputs": [],
   "source": [
    "# 각 행을 파싱하기위한 Task(함수)\n",
    "def parse(row):\n",
    "    \n",
    "    fields = row.split(\",\")\n",
    "    \n",
    "    # 카테고리 가져오기\n",
    "    category = fields[2]\n",
    "    \n",
    "    # 리뷰 개수 가져오기\n",
    "    review_count = fields[3]\n",
    "    review_count = int(review_count)\n",
    "    \n",
    "    return category, review_count"
   ]
  },
  {
   "cell_type": "code",
   "execution_count": 9,
   "id": "f3fe60d6",
   "metadata": {},
   "outputs": [
    {
     "data": {
      "text/plain": [
       "('중식', 125)"
      ]
     },
     "execution_count": 9,
     "metadata": {},
     "output_type": "execute_result"
    }
   ],
   "source": [
    "# 테스트\n",
    "parse('0,짜장면,중식,125')"
   ]
  },
  {
   "cell_type": "code",
   "execution_count": 10,
   "id": "f254e7a2",
   "metadata": {},
   "outputs": [
    {
     "data": {
      "text/plain": [
       "PythonRDD[4] at RDD at PythonRDD.scala:53"
      ]
     },
     "execution_count": 10,
     "metadata": {},
     "output_type": "execute_result"
    }
   ],
   "source": [
    "category_reviews = rows.map(parse)\n",
    "category_reviews"
   ]
  },
  {
   "cell_type": "code",
   "execution_count": 11,
   "id": "b9ac4683",
   "metadata": {},
   "outputs": [
    {
     "data": {
      "text/plain": [
       "[('중식', 125),\n",
       " ('중식', 235),\n",
       " ('분식', 32),\n",
       " ('분식', 534),\n",
       " ('일식', 223),\n",
       " ('일식', 52),\n",
       " ('일식', 12),\n",
       " ('아시안', 312),\n",
       " ('패스트푸드', 12),\n",
       " ('패스트푸드', 23)]"
      ]
     },
     "execution_count": 11,
     "metadata": {},
     "output_type": "execute_result"
    }
   ],
   "source": [
    "category_reviews.collect()"
   ]
  },
  {
   "cell_type": "code",
   "execution_count": 12,
   "id": "60d8d8a4",
   "metadata": {},
   "outputs": [
    {
     "data": {
      "text/plain": [
       "[('중식', (125, 1)),\n",
       " ('중식', (235, 1)),\n",
       " ('분식', (32, 1)),\n",
       " ('분식', (534, 1)),\n",
       " ('일식', (223, 1)),\n",
       " ('일식', (52, 1)),\n",
       " ('일식', (12, 1)),\n",
       " ('아시안', (312, 1)),\n",
       " ('패스트푸드', (12, 1)),\n",
       " ('패스트푸드', (23, 1))]"
      ]
     },
     "execution_count": 12,
     "metadata": {},
     "output_type": "execute_result"
    }
   ],
   "source": [
    "# Key는 변경하지 않고, value만 변경하기 -> mapValues\n",
    "# - 각 카테고리 별 리뷰 개수와 종류 개수\n",
    "\n",
    "category_reviews_count = category_reviews.mapValues(lambda review_count : (review_count, 1))\n",
    "category_reviews_count.collect()"
   ]
  },
  {
   "cell_type": "code",
   "execution_count": 13,
   "id": "f9d5e528",
   "metadata": {},
   "outputs": [
    {
     "name": "stderr",
     "output_type": "stream",
     "text": [
      "                                                                                \r"
     ]
    },
    {
     "data": {
      "text/plain": [
       "[('중식', (360, 2)),\n",
       " ('분식', (566, 2)),\n",
       " ('일식', (287, 3)),\n",
       " ('아시안', (312, 1)),\n",
       " ('패스트푸드', (35, 2))]"
      ]
     },
     "execution_count": 13,
     "metadata": {},
     "output_type": "execute_result"
    }
   ],
   "source": [
    "reduce = category_reviews_count.reduceByKey(lambda x, y : (x[0] + y[0], x[1] + y[1]))\n",
    "reduce.collect()"
   ]
  },
  {
   "cell_type": "code",
   "execution_count": 15,
   "id": "c37d5ef4",
   "metadata": {},
   "outputs": [
    {
     "data": {
      "text/plain": [
       "[('중식', 180.0),\n",
       " ('분식', 283.0),\n",
       " ('일식', 95.66666666666667),\n",
       " ('아시안', 312.0),\n",
       " ('패스트푸드', 17.5)]"
      ]
     },
     "execution_count": 15,
     "metadata": {},
     "output_type": "execute_result"
    }
   ],
   "source": [
    "average = reduce.mapValues(lambda x : x[0] / x[1])\n",
    "average.collect()"
   ]
  },
  {
   "cell_type": "code",
   "execution_count": 16,
   "id": "ae7666f3",
   "metadata": {},
   "outputs": [],
   "source": [
    "sc.stop()"
   ]
  },
  {
   "cell_type": "code",
   "execution_count": null,
   "id": "b4ab80a5",
   "metadata": {},
   "outputs": [],
   "source": []
  }
 ],
 "metadata": {
  "kernelspec": {
   "display_name": "Python 3 (ipykernel)",
   "language": "python",
   "name": "python3"
  },
  "language_info": {
   "codemirror_mode": {
    "name": "ipython",
    "version": 3
   },
   "file_extension": ".py",
   "mimetype": "text/x-python",
   "name": "python",
   "nbconvert_exporter": "python",
   "pygments_lexer": "ipython3",
   "version": "3.8.18"
  }
 },
 "nbformat": 4,
 "nbformat_minor": 5
}
