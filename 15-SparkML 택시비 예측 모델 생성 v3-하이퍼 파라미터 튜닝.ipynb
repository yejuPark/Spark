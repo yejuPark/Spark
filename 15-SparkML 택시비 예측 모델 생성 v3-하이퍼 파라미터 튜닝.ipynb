{
 "cells": [
  {
   "cell_type": "code",
   "execution_count": 1,
   "id": "e0fe1ec4",
   "metadata": {},
   "outputs": [
    {
     "name": "stderr",
     "output_type": "stream",
     "text": [
      "Using Spark's default log4j profile: org/apache/spark/log4j-defaults.properties\n",
      "Setting default log level to \"WARN\".\n",
      "To adjust logging level use sc.setLogLevel(newLevel). For SparkR, use setLogLevel(newLevel).\n",
      "23/11/20 15:09:37 WARN NativeCodeLoader: Unable to load native-hadoop library for your platform... using builtin-java classes where applicable\n"
     ]
    },
    {
     "data": {
      "text/html": [
       "\n",
       "            <div>\n",
       "                <p><b>SparkSession - in-memory</b></p>\n",
       "                \n",
       "        <div>\n",
       "            <p><b>SparkContext</b></p>\n",
       "\n",
       "            <p><a href=\"http://0.0.0.0:4040\">Spark UI</a></p>\n",
       "\n",
       "            <dl>\n",
       "              <dt>Version</dt>\n",
       "                <dd><code>v3.2.4</code></dd>\n",
       "              <dt>Master</dt>\n",
       "                <dd><code>local[*]</code></dd>\n",
       "              <dt>AppName</dt>\n",
       "                <dd><code>taxi-fare-prediciton</code></dd>\n",
       "            </dl>\n",
       "        </div>\n",
       "        \n",
       "            </div>\n",
       "        "
      ],
      "text/plain": [
       "<pyspark.sql.session.SparkSession at 0x7f8ba9ae8040>"
      ]
     },
     "execution_count": 1,
     "metadata": {},
     "output_type": "execute_result"
    }
   ],
   "source": [
    "from pyspark.sql import SparkSession\n",
    "\n",
    "MAX_MEMORY=\"5g\"\n",
    "spark = SparkSession.builder.appName(\"taxi-fare-prediciton\")\\\n",
    "                .config(\"spark.executor.memory\", MAX_MEMORY)\\\n",
    "                .config(\"spark.driver.memory\", MAX_MEMORY)\\\n",
    "                .getOrCreate()\n",
    "\n",
    "spark"
   ]
  },
  {
   "cell_type": "code",
   "execution_count": 2,
   "id": "7f86bfb0",
   "metadata": {},
   "outputs": [
    {
     "name": "stderr",
     "output_type": "stream",
     "text": [
      "                                                                                \r"
     ]
    }
   ],
   "source": [
    "# 분산 저장 되어서 파티션으로 분리된 파일 불러오기\n",
    "save_dir=\"/home/ubuntu/working/spark-examples/data/ml-data\"\n",
    "\n",
    "train_sdf = spark.read.parquet(f\"{save_dir}/train/\")\n",
    "test_sdf  = spark.read.parquet(f\"{save_dir}/test/\")"
   ]
  },
  {
   "cell_type": "code",
   "execution_count": 3,
   "id": "39752f46",
   "metadata": {},
   "outputs": [
    {
     "name": "stdout",
     "output_type": "stream",
     "text": [
      "root\n",
      " |-- passenger_count: integer (nullable = true)\n",
      " |-- pickup_location_id: integer (nullable = true)\n",
      " |-- dropoff_location_id: integer (nullable = true)\n",
      " |-- trip_distance: double (nullable = true)\n",
      " |-- pickup_time: integer (nullable = true)\n",
      " |-- day_of_week: string (nullable = true)\n",
      " |-- total_amount: double (nullable = true)\n",
      "\n"
     ]
    }
   ],
   "source": [
    "train_sdf.printSchema()"
   ]
  },
  {
   "cell_type": "code",
   "execution_count": 4,
   "id": "630cca20",
   "metadata": {},
   "outputs": [
    {
     "name": "stdout",
     "output_type": "stream",
     "text": [
      "root\n",
      " |-- passenger_count: integer (nullable = true)\n",
      " |-- pickup_location_id: integer (nullable = true)\n",
      " |-- dropoff_location_id: integer (nullable = true)\n",
      " |-- trip_distance: double (nullable = true)\n",
      " |-- pickup_time: integer (nullable = true)\n",
      " |-- day_of_week: string (nullable = true)\n",
      " |-- total_amount: double (nullable = true)\n",
      "\n"
     ]
    }
   ],
   "source": [
    "test_sdf.printSchema()"
   ]
  },
  {
   "cell_type": "code",
   "execution_count": 5,
   "id": "9d07616f",
   "metadata": {},
   "outputs": [
    {
     "data": {
      "text/plain": [
       "[StringIndexer_5446f2dd1d34,\n",
       " OneHotEncoder_e2141c7c09a3,\n",
       " StringIndexer_30672cf80e70,\n",
       " OneHotEncoder_786772f8ab56,\n",
       " StringIndexer_b6f5808cb92c,\n",
       " OneHotEncoder_a26f22202d84,\n",
       " VectorAssembler_560ef722adab,\n",
       " StandardScaler_a33419773627,\n",
       " VectorAssembler_7d579148977a,\n",
       " StandardScaler_ca69433ff5e9,\n",
       " VectorAssembler_250401d0acc9,\n",
       " StandardScaler_c207d04c2473,\n",
       " VectorAssembler_6ca43f8a2a22]"
      ]
     },
     "execution_count": 5,
     "metadata": {},
     "output_type": "execute_result"
    }
   ],
   "source": [
    "from pyspark.ml.feature import OneHotEncoder, StringIndexer\n",
    "from pyspark.ml.feature import VectorAssembler, StandardScaler\n",
    "\n",
    "stages = []\n",
    "\n",
    "cat_features = [\n",
    "    \"pickup_location_id\",\n",
    "    \"dropoff_location_id\",\n",
    "    \"day_of_week\"\n",
    "]\n",
    "\n",
    "for c in cat_features:\n",
    "    cat_indexer = StringIndexer(inputCol=c, outputCol=c+\"_idx\").setHandleInvalid(\"keep\")\n",
    "    onehot_encoder = OneHotEncoder(inputCols=[cat_indexer.getOutputCol()],\n",
    "                                   outputCols=[c+\"_onehot\"])\n",
    "    \n",
    "    stages += [cat_indexer, onehot_encoder]\n",
    "\n",
    "num_features = [\n",
    "    \"passenger_count\",\n",
    "    \"trip_distance\",\n",
    "    \"pickup_time\"\n",
    "]\n",
    "\n",
    "for n in num_features:\n",
    "    num_assembler = VectorAssembler(inputCols=[n], outputCol=n+\"_vector\")\n",
    "    num_scaler = StandardScaler(inputCol=num_assembler.getOutputCol(), outputCol=n+\"_scaled\")\n",
    "    \n",
    "    stages += [num_assembler, num_scaler]\n",
    "\n",
    "assembler_inputs = [c + \"_onehot\" for c in cat_features] + [n + \"_scaled\" for n in num_features]\n",
    "assembler = VectorAssembler(inputCols=assembler_inputs, outputCol=\"feature_vector\")\n",
    "stages += [assembler]\n",
    "\n",
    "stages"
   ]
  },
  {
   "cell_type": "markdown",
   "id": "f33e6e07",
   "metadata": {},
   "source": [
    "# 하이퍼 파라미터 튜닝\n",
    "GridSearch + Cross Validation을 수행해 최적의 하이퍼 파라미터를 얻어내기"
   ]
  },
  {
   "cell_type": "code",
   "execution_count": 6,
   "id": "56b65dcc",
   "metadata": {},
   "outputs": [
    {
     "data": {
      "text/plain": [
       "[StringIndexer_5446f2dd1d34,\n",
       " OneHotEncoder_e2141c7c09a3,\n",
       " StringIndexer_30672cf80e70,\n",
       " OneHotEncoder_786772f8ab56,\n",
       " StringIndexer_b6f5808cb92c,\n",
       " OneHotEncoder_a26f22202d84,\n",
       " VectorAssembler_560ef722adab,\n",
       " StandardScaler_a33419773627,\n",
       " VectorAssembler_7d579148977a,\n",
       " StandardScaler_ca69433ff5e9,\n",
       " VectorAssembler_250401d0acc9,\n",
       " StandardScaler_c207d04c2473,\n",
       " VectorAssembler_6ca43f8a2a22,\n",
       " LinearRegression_247161db9377]"
      ]
     },
     "execution_count": 6,
     "metadata": {},
     "output_type": "execute_result"
    }
   ],
   "source": [
    "# 모델까지를 파이프라인에 넣고, 모델이 추가된 파이프라인을 그리드 서치에 사용\n",
    "from pyspark.ml.regression import LinearRegression # 튜닝할 모델\n",
    "\n",
    "# 모델 생성\n",
    "lr = LinearRegression(\n",
    "    maxIter=30,\n",
    "    solver='normal',\n",
    "    labelCol='total_amount',\n",
    "    featuresCol='feature_vector'\n",
    ")\n",
    "\n",
    "# LinearRegression 모델까지가 하나의 파이프라인\n",
    "cv_stages = stages + [lr]\n",
    "cv_stages"
   ]
  },
  {
   "cell_type": "markdown",
   "id": "e9f7f5f1",
   "metadata": {},
   "source": [
    "## 파이프라인 생성"
   ]
  },
  {
   "cell_type": "code",
   "execution_count": 7,
   "id": "432dc50c",
   "metadata": {},
   "outputs": [],
   "source": [
    "from pyspark.ml import Pipeline\n",
    "\n",
    "cv_pipeline = Pipeline(stages=cv_stages)"
   ]
  },
  {
   "cell_type": "markdown",
   "id": "66ce48ee",
   "metadata": {},
   "source": [
    "# GridSearch 및 Cross Validation 설정"
   ]
  },
  {
   "cell_type": "code",
   "execution_count": 9,
   "id": "d486be42",
   "metadata": {},
   "outputs": [],
   "source": [
    "from pyspark.ml.tuning import CrossValidator, ParamGridBuilder\n",
    "from pyspark.ml.evaluation import RegressionEvaluator\n",
    "\n",
    "# GridSearch를 위한 하이퍼 파라미터 정의\n",
    "param_grid = (\n",
    "    ParamGridBuilder()\n",
    "    .addGrid(lr.elasticNetParam, [0.1, 0.2, 0.3, 0.4, 0.5])\n",
    "    .addGrid(lr.regParam, [0.01, 0.02, 0.03, 0.04, 0.05])\n",
    "    .build()\n",
    ")"
   ]
  },
  {
   "cell_type": "code",
   "execution_count": 10,
   "id": "0b6520ac",
   "metadata": {},
   "outputs": [],
   "source": [
    "# CrossValidator\n",
    "\n",
    "cross_val = CrossValidator(\n",
    "    estimator=cv_pipeline, # estimator : 추정기. 파이프라인 자체가 마지막에 예측을 함(Linear Regression)\n",
    "    estimatorParamMaps=param_grid, # GridSearch 수행할 파라미터 들어있는 ParamGridBuilder\n",
    "    evaluator=RegressionEvaluator(labelCol='total_amount'), # 성능 평가 기준\n",
    "    numFolds=5 # 폴드의 개수\n",
    ")"
   ]
  },
  {
   "cell_type": "code",
   "execution_count": 11,
   "id": "e716c3b2",
   "metadata": {},
   "outputs": [
    {
     "name": "stdout",
     "output_type": "stream",
     "text": [
      "root\n",
      " |-- passenger_count: integer (nullable = true)\n",
      " |-- pickup_location_id: integer (nullable = true)\n",
      " |-- dropoff_location_id: integer (nullable = true)\n",
      " |-- trip_distance: double (nullable = true)\n",
      " |-- pickup_time: integer (nullable = true)\n",
      " |-- day_of_week: string (nullable = true)\n",
      " |-- total_amount: double (nullable = true)\n",
      "\n"
     ]
    }
   ],
   "source": [
    "# 임의의 데이터 세트를 생성. 전체로 다 하면 시간이 너무 많이 소요\n",
    "\n",
    "# 전체 훈련 데이터 중 1%만 사용\n",
    "toy_df = train_sdf.sample(False, 0.01, seed=1)\n",
    "toy_df.printSchema()"
   ]
  },
  {
   "cell_type": "code",
   "execution_count": 12,
   "id": "ba08e89b",
   "metadata": {},
   "outputs": [
    {
     "name": "stderr",
     "output_type": "stream",
     "text": [
      "23/11/20 15:23:36 WARN InstanceBuilder$NativeBLAS: Failed to load implementation from:dev.ludovic.netlib.blas.JNIBLAS\n",
      "23/11/20 15:23:36 WARN InstanceBuilder$NativeBLAS: Failed to load implementation from:dev.ludovic.netlib.blas.ForeignLinkerBLAS\n",
      "23/11/20 15:23:36 WARN BLAS: Failed to load implementation from: com.github.fommil.netlib.NativeSystemBLAS\n",
      "23/11/20 15:23:36 WARN BLAS: Failed to load implementation from: com.github.fommil.netlib.NativeRefBLAS\n",
      "                                                                                \r"
     ]
    }
   ],
   "source": [
    "cv_model = cross_val.fit(toy_df)"
   ]
  },
  {
   "cell_type": "markdown",
   "id": "3db59a2c",
   "metadata": {},
   "source": [
    "GridSearch의 결과에서 가장 성능이 좋았던 모델을 가지고 오거나, 하이퍼 파라미터 추출"
   ]
  },
  {
   "cell_type": "code",
   "execution_count": 13,
   "id": "0efef5c7",
   "metadata": {},
   "outputs": [],
   "source": [
    "# 성능이 가장 좋았던 모델. 파이프라인의 마지막이 모델임\n",
    "best_model = cv_model.bestModel.stages[-1]\n",
    "\n",
    "# 모델로부터 최적의 파라미터 추출\n",
    "alpha = best_model._java_obj.getElasticNetParam()\n",
    "reg_param = best_model._java_obj.getRegParam()"
   ]
  },
  {
   "cell_type": "code",
   "execution_count": 14,
   "id": "598ba0c5",
   "metadata": {},
   "outputs": [
    {
     "data": {
      "text/plain": [
       "(0.5, 0.03)"
      ]
     },
     "execution_count": 14,
     "metadata": {},
     "output_type": "execute_result"
    }
   ],
   "source": [
    "alpha, reg_param"
   ]
  },
  {
   "cell_type": "markdown",
   "id": "f3fa990b",
   "metadata": {},
   "source": [
    "# 모델 재훈련\n",
    "- 최적의 성능을 냈던 파라미터를 이용 "
   ]
  },
  {
   "cell_type": "code",
   "execution_count": 15,
   "id": "2989db62",
   "metadata": {},
   "outputs": [
    {
     "name": "stderr",
     "output_type": "stream",
     "text": [
      "                                                                                \r"
     ]
    }
   ],
   "source": [
    "# 데이터 변환 파이프라인을 따로 정의\n",
    "pipeline = Pipeline(stages=stages)\n",
    "\n",
    "fitted_transformer = pipeline.fit(train_sdf)"
   ]
  },
  {
   "cell_type": "code",
   "execution_count": 16,
   "id": "55bcb4cb",
   "metadata": {},
   "outputs": [
    {
     "name": "stdout",
     "output_type": "stream",
     "text": [
      "root\n",
      " |-- passenger_count: integer (nullable = true)\n",
      " |-- pickup_location_id: integer (nullable = true)\n",
      " |-- dropoff_location_id: integer (nullable = true)\n",
      " |-- trip_distance: double (nullable = true)\n",
      " |-- pickup_time: integer (nullable = true)\n",
      " |-- day_of_week: string (nullable = true)\n",
      " |-- total_amount: double (nullable = true)\n",
      " |-- pickup_location_id_idx: double (nullable = false)\n",
      " |-- pickup_location_id_onehot: vector (nullable = true)\n",
      " |-- dropoff_location_id_idx: double (nullable = false)\n",
      " |-- dropoff_location_id_onehot: vector (nullable = true)\n",
      " |-- day_of_week_idx: double (nullable = false)\n",
      " |-- day_of_week_onehot: vector (nullable = true)\n",
      " |-- passenger_count_vector: vector (nullable = true)\n",
      " |-- passenger_count_scaled: vector (nullable = true)\n",
      " |-- trip_distance_vector: vector (nullable = true)\n",
      " |-- trip_distance_scaled: vector (nullable = true)\n",
      " |-- pickup_time_vector: vector (nullable = true)\n",
      " |-- pickup_time_scaled: vector (nullable = true)\n",
      " |-- feature_vector: vector (nullable = true)\n",
      "\n"
     ]
    }
   ],
   "source": [
    "vec_train_sdf = fitted_transformer.transform(train_sdf)\n",
    "vec_train_sdf.printSchema()"
   ]
  },
  {
   "cell_type": "code",
   "execution_count": 17,
   "id": "9e6ec7a9",
   "metadata": {},
   "outputs": [],
   "source": [
    "lr = LinearRegression(\n",
    "    maxIter=50,\n",
    "    solver='normal',\n",
    "    labelCol='total_amount',\n",
    "    featuresCol='feature_vector',\n",
    "    \n",
    "    # GridSearch를 통해 얻어낸 하이퍼 파라미터를 직접 설정\n",
    "    elasticNetParam=alpha,\n",
    "    regParam=reg_param\n",
    ")"
   ]
  },
  {
   "cell_type": "code",
   "execution_count": 18,
   "id": "d6209445",
   "metadata": {},
   "outputs": [
    {
     "name": "stderr",
     "output_type": "stream",
     "text": [
      "                                                                                \r"
     ]
    }
   ],
   "source": [
    "lr_model = lr.fit(vec_train_sdf)"
   ]
  },
  {
   "cell_type": "code",
   "execution_count": 21,
   "id": "4dd15366",
   "metadata": {},
   "outputs": [
    {
     "data": {
      "text/plain": [
       "DataFrame[passenger_count: int, pickup_location_id: int, dropoff_location_id: int, trip_distance: double, pickup_time: int, day_of_week: string, total_amount: double, pickup_location_id_idx: double, pickup_location_id_onehot: vector, dropoff_location_id_idx: double, dropoff_location_id_onehot: vector, day_of_week_idx: double, day_of_week_onehot: vector, passenger_count_vector: vector, passenger_count_scaled: vector, trip_distance_vector: vector, trip_distance_scaled: vector, pickup_time_vector: vector, pickup_time_scaled: vector, feature_vector: vector, prediction: double]"
      ]
     },
     "execution_count": 21,
     "metadata": {},
     "output_type": "execute_result"
    }
   ],
   "source": [
    "vec_test_sdf = fitted_transformer.transform(test_sdf)\n",
    "\n",
    "predictions = lr_model.transform(vec_test_sdf)\n",
    "predictions.cache()"
   ]
  },
  {
   "cell_type": "code",
   "execution_count": 22,
   "id": "75d37579",
   "metadata": {},
   "outputs": [
    {
     "data": {
      "text/plain": [
       "3.280212302257174"
      ]
     },
     "execution_count": 22,
     "metadata": {},
     "output_type": "execute_result"
    }
   ],
   "source": [
    "lr_model.summary.rootMeanSquaredError"
   ]
  },
  {
   "cell_type": "code",
   "execution_count": 23,
   "id": "0379084a",
   "metadata": {},
   "outputs": [
    {
     "data": {
      "text/plain": [
       "0.7929713383050931"
      ]
     },
     "execution_count": 23,
     "metadata": {},
     "output_type": "execute_result"
    }
   ],
   "source": [
    "lr_model.summary.r2"
   ]
  },
  {
   "cell_type": "markdown",
   "id": "f7d67010",
   "metadata": {},
   "source": [
    "# 완성 모델 저장하기"
   ]
  },
  {
   "cell_type": "code",
   "execution_count": 25,
   "id": "b20e5796",
   "metadata": {},
   "outputs": [],
   "source": [
    "model_dir = \"/home/ubuntu/working/spark-examples/data/ml-data/model/\"\n",
    "lr_model.save(model_dir)"
   ]
  },
  {
   "cell_type": "markdown",
   "id": "4f6cc0a7",
   "metadata": {},
   "source": [
    "# 모델 로딩\n",
    "- 저장된 모델 불러오기\n",
    "- 저장한 모델 클래스를 반드시 불러와야 함."
   ]
  },
  {
   "cell_type": "code",
   "execution_count": 26,
   "id": "bd4a9649",
   "metadata": {},
   "outputs": [],
   "source": [
    "from pyspark.ml.regression import LinearRegressionModel\n",
    "\n",
    "lr_model_load = LinearRegressionModel().load(model_dir)"
   ]
  },
  {
   "cell_type": "code",
   "execution_count": 27,
   "id": "098b5bd1",
   "metadata": {},
   "outputs": [
    {
     "name": "stdout",
     "output_type": "stream",
     "text": [
      "+---------------+------------------+-------------------+-------------+-----------+-----------+------------+----------------------+-------------------------+-----------------------+--------------------------+---------------+------------------+----------------------+----------------------+--------------------+--------------------+------------------+--------------------+--------------------+------------------+\n",
      "|passenger_count|pickup_location_id|dropoff_location_id|trip_distance|pickup_time|day_of_week|total_amount|pickup_location_id_idx|pickup_location_id_onehot|dropoff_location_id_idx|dropoff_location_id_onehot|day_of_week_idx|day_of_week_onehot|passenger_count_vector|passenger_count_scaled|trip_distance_vector|trip_distance_scaled|pickup_time_vector|  pickup_time_scaled|      feature_vector|        prediction|\n",
      "+---------------+------------------+-------------------+-------------+-----------+-----------+------------+----------------------+-------------------------+-----------------------+--------------------------+---------------+------------------+----------------------+----------------------+--------------------+--------------------+------------------+--------------------+--------------------+------------------+\n",
      "|              0|                 4|                 37|          6.5|         22|   Saturday|       34.75|                  62.0|         (262,[62],[1.0])|                   83.0|          (260,[83],[1.0])|            4.0|     (7,[4],[1.0])|                 [0.0]|                 [0.0]|               [6.5]|[3.6777208252543883]|            [22.0]|  [4.33901578412461]|(532,[62,345,526,...|31.564541827558024|\n",
      "|              0|                 4|                113|          1.0|         19|    Tuesday|        13.5|                  62.0|         (262,[62],[1.0])|                   32.0|          (260,[32],[1.0])|            3.0|     (7,[3],[1.0])|                 [0.0]|                 [0.0]|               [1.0]|[0.5658032038852905]|            [19.0]|[3.7473318135621634]|(532,[62,294,525,...|11.957294246395023|\n",
      "|              0|                 4|                137|          1.9|         12|     Sunday|        11.8|                  62.0|         (262,[62],[1.0])|                   25.0|          (260,[25],[1.0])|            6.0|     (7,[6],[1.0])|                 [0.0]|                 [0.0]|               [1.9]|[1.0750260873820519]|            [12.0]|[2.3667358822497873]|(532,[62,287,528,...|13.881585135661165|\n",
      "|              0|                 4|                158|          1.9|         13|   Saturday|        15.3|                  62.0|         (262,[62],[1.0])|                   38.0|          (260,[38],[1.0])|            4.0|     (7,[4],[1.0])|                 [0.0]|                 [0.0]|               [1.9]|[1.0750260873820519]|            [13.0]|[2.5639638724372693]|(532,[62,300,526,...| 14.65952802335853|\n",
      "|              0|                 4|                179|          6.6|          0|     Sunday|        29.8|                  62.0|         (262,[62],[1.0])|                   75.0|          (260,[75],[1.0])|            6.0|     (7,[6],[1.0])|                 [0.0]|                 [0.0]|               [6.6]| [3.734301145642917]|             [0.0]|               [0.0]|(532,[62,337,528,...|29.312617578149347|\n",
      "+---------------+------------------+-------------------+-------------+-----------+-----------+------------+----------------------+-------------------------+-----------------------+--------------------------+---------------+------------------+----------------------+----------------------+--------------------+--------------------+------------------+--------------------+--------------------+------------------+\n",
      "only showing top 5 rows\n",
      "\n"
     ]
    }
   ],
   "source": [
    "lr_model_load.transform(vec_test_sdf).show(5)"
   ]
  },
  {
   "cell_type": "code",
   "execution_count": 28,
   "id": "f7fc0fe6",
   "metadata": {},
   "outputs": [],
   "source": [
    "spark.stop()"
   ]
  },
  {
   "cell_type": "code",
   "execution_count": null,
   "id": "29e89818",
   "metadata": {},
   "outputs": [],
   "source": []
  }
 ],
 "metadata": {
  "kernelspec": {
   "display_name": "Python 3 (ipykernel)",
   "language": "python",
   "name": "python3"
  },
  "language_info": {
   "codemirror_mode": {
    "name": "ipython",
    "version": 3
   },
   "file_extension": ".py",
   "mimetype": "text/x-python",
   "name": "python",
   "nbconvert_exporter": "python",
   "pygments_lexer": "ipython3",
   "version": "3.8.18"
  }
 },
 "nbformat": 4,
 "nbformat_minor": 5
}
