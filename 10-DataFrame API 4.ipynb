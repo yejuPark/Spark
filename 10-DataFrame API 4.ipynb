{
 "cells": [
  {
   "cell_type": "code",
   "execution_count": 1,
   "id": "a3a0428f",
   "metadata": {},
   "outputs": [
    {
     "name": "stderr",
     "output_type": "stream",
     "text": [
      "Using Spark's default log4j profile: org/apache/spark/log4j-defaults.properties\n",
      "Setting default log level to \"WARN\".\n",
      "To adjust logging level use sc.setLogLevel(newLevel). For SparkR, use setLogLevel(newLevel).\n",
      "23/11/17 09:02:49 WARN NativeCodeLoader: Unable to load native-hadoop library for your platform... using builtin-java classes where applicable\n"
     ]
    },
    {
     "data": {
      "text/html": [
       "\n",
       "            <div>\n",
       "                <p><b>SparkSession - in-memory</b></p>\n",
       "                \n",
       "        <div>\n",
       "            <p><b>SparkContext</b></p>\n",
       "\n",
       "            <p><a href=\"http://0.0.0.0:4040\">Spark UI</a></p>\n",
       "\n",
       "            <dl>\n",
       "              <dt>Version</dt>\n",
       "                <dd><code>v3.2.4</code></dd>\n",
       "              <dt>Master</dt>\n",
       "                <dd><code>local</code></dd>\n",
       "              <dt>AppName</dt>\n",
       "                <dd><code>spark-dataframe</code></dd>\n",
       "            </dl>\n",
       "        </div>\n",
       "        \n",
       "            </div>\n",
       "        "
      ],
      "text/plain": [
       "<pyspark.sql.session.SparkSession at 0x7f4d08b6fc70>"
      ]
     },
     "execution_count": 1,
     "metadata": {},
     "output_type": "execute_result"
    }
   ],
   "source": [
    "from pyspark.sql import SparkSession\n",
    "spark = SparkSession.builder.master(\"local\").appName(\"spark-dataframe\").getOrCreate()\n",
    "spark"
   ]
  },
  {
   "cell_type": "code",
   "execution_count": 2,
   "id": "07b498f4",
   "metadata": {},
   "outputs": [
    {
     "name": "stderr",
     "output_type": "stream",
     "text": [
      "                                                                                \r"
     ]
    },
    {
     "data": {
      "text/plain": [
       "[('PassengerId', 'int'),\n",
       " ('Survived', 'int'),\n",
       " ('Pclass', 'int'),\n",
       " ('Name', 'string'),\n",
       " ('Sex', 'string'),\n",
       " ('Age', 'double'),\n",
       " ('SibSp', 'int'),\n",
       " ('Parch', 'int'),\n",
       " ('Ticket', 'string'),\n",
       " ('Fare', 'double'),\n",
       " ('Cabin', 'string'),\n",
       " ('Embarked', 'string')]"
      ]
     },
     "execution_count": 2,
     "metadata": {},
     "output_type": "execute_result"
    }
   ],
   "source": [
    "filepath = \"/home/ubuntu/working/spark-examples/data/titanic_train.csv\"\n",
    "\n",
    "titanic_sdf = spark.read.csv(filepath, inferSchema=True, header=True)\n",
    "titanic_sdf.dtypes"
   ]
  },
  {
   "cell_type": "code",
   "execution_count": 3,
   "id": "a9c354dd",
   "metadata": {},
   "outputs": [
    {
     "data": {
      "text/html": [
       "<div>\n",
       "<style scoped>\n",
       "    .dataframe tbody tr th:only-of-type {\n",
       "        vertical-align: middle;\n",
       "    }\n",
       "\n",
       "    .dataframe tbody tr th {\n",
       "        vertical-align: top;\n",
       "    }\n",
       "\n",
       "    .dataframe thead th {\n",
       "        text-align: right;\n",
       "    }\n",
       "</style>\n",
       "<table border=\"1\" class=\"dataframe\">\n",
       "  <thead>\n",
       "    <tr style=\"text-align: right;\">\n",
       "      <th></th>\n",
       "      <th>PassengerId</th>\n",
       "      <th>Survived</th>\n",
       "      <th>Pclass</th>\n",
       "      <th>Name</th>\n",
       "      <th>Sex</th>\n",
       "      <th>Age</th>\n",
       "      <th>SibSp</th>\n",
       "      <th>Parch</th>\n",
       "      <th>Ticket</th>\n",
       "      <th>Fare</th>\n",
       "      <th>Cabin</th>\n",
       "      <th>Embarked</th>\n",
       "    </tr>\n",
       "  </thead>\n",
       "  <tbody>\n",
       "    <tr>\n",
       "      <th>0</th>\n",
       "      <td>1</td>\n",
       "      <td>0</td>\n",
       "      <td>3</td>\n",
       "      <td>Braund, Mr. Owen Harris</td>\n",
       "      <td>male</td>\n",
       "      <td>22.0</td>\n",
       "      <td>1</td>\n",
       "      <td>0</td>\n",
       "      <td>A/5 21171</td>\n",
       "      <td>7.2500</td>\n",
       "      <td>None</td>\n",
       "      <td>S</td>\n",
       "    </tr>\n",
       "    <tr>\n",
       "      <th>1</th>\n",
       "      <td>2</td>\n",
       "      <td>1</td>\n",
       "      <td>1</td>\n",
       "      <td>Cumings, Mrs. John Bradley (Florence Briggs Th...</td>\n",
       "      <td>female</td>\n",
       "      <td>38.0</td>\n",
       "      <td>1</td>\n",
       "      <td>0</td>\n",
       "      <td>PC 17599</td>\n",
       "      <td>71.2833</td>\n",
       "      <td>C85</td>\n",
       "      <td>C</td>\n",
       "    </tr>\n",
       "    <tr>\n",
       "      <th>2</th>\n",
       "      <td>3</td>\n",
       "      <td>1</td>\n",
       "      <td>3</td>\n",
       "      <td>Heikkinen, Miss. Laina</td>\n",
       "      <td>female</td>\n",
       "      <td>26.0</td>\n",
       "      <td>0</td>\n",
       "      <td>0</td>\n",
       "      <td>STON/O2. 3101282</td>\n",
       "      <td>7.9250</td>\n",
       "      <td>None</td>\n",
       "      <td>S</td>\n",
       "    </tr>\n",
       "    <tr>\n",
       "      <th>3</th>\n",
       "      <td>4</td>\n",
       "      <td>1</td>\n",
       "      <td>1</td>\n",
       "      <td>Futrelle, Mrs. Jacques Heath (Lily May Peel)</td>\n",
       "      <td>female</td>\n",
       "      <td>35.0</td>\n",
       "      <td>1</td>\n",
       "      <td>0</td>\n",
       "      <td>113803</td>\n",
       "      <td>53.1000</td>\n",
       "      <td>C123</td>\n",
       "      <td>S</td>\n",
       "    </tr>\n",
       "    <tr>\n",
       "      <th>4</th>\n",
       "      <td>5</td>\n",
       "      <td>0</td>\n",
       "      <td>3</td>\n",
       "      <td>Allen, Mr. William Henry</td>\n",
       "      <td>male</td>\n",
       "      <td>35.0</td>\n",
       "      <td>0</td>\n",
       "      <td>0</td>\n",
       "      <td>373450</td>\n",
       "      <td>8.0500</td>\n",
       "      <td>None</td>\n",
       "      <td>S</td>\n",
       "    </tr>\n",
       "  </tbody>\n",
       "</table>\n",
       "</div>"
      ],
      "text/plain": [
       "   PassengerId  Survived  Pclass  \\\n",
       "0            1         0       3   \n",
       "1            2         1       1   \n",
       "2            3         1       3   \n",
       "3            4         1       1   \n",
       "4            5         0       3   \n",
       "\n",
       "                                                Name     Sex   Age  SibSp  \\\n",
       "0                            Braund, Mr. Owen Harris    male  22.0      1   \n",
       "1  Cumings, Mrs. John Bradley (Florence Briggs Th...  female  38.0      1   \n",
       "2                             Heikkinen, Miss. Laina  female  26.0      0   \n",
       "3       Futrelle, Mrs. Jacques Heath (Lily May Peel)  female  35.0      1   \n",
       "4                           Allen, Mr. William Henry    male  35.0      0   \n",
       "\n",
       "   Parch            Ticket     Fare Cabin Embarked  \n",
       "0      0         A/5 21171   7.2500  None        S  \n",
       "1      0          PC 17599  71.2833   C85        C  \n",
       "2      0  STON/O2. 3101282   7.9250  None        S  \n",
       "3      0            113803  53.1000  C123        S  \n",
       "4      0            373450   8.0500  None        S  "
      ]
     },
     "execution_count": 3,
     "metadata": {},
     "output_type": "execute_result"
    }
   ],
   "source": [
    "titanic_pdf = titanic_sdf.toPandas()\n",
    "titanic_pdf.head()"
   ]
  },
  {
   "cell_type": "markdown",
   "id": "bbad2110",
   "metadata": {},
   "source": [
    "# Spark DataFrame의 컬럼, 로우(레코드) 삭제\n",
    "- pandas의 dataframe은 `drop` method 사용해 행과 열 모두 삭제\n",
    "- spark의 dataframe에도 `drop` method 사용해 컬럼만 삭제 가능\n",
    "    - 여러 개의 컬럼 삭제 할 때 리스트 사용 불가\n",
    "- spark에서 data(row) 삭제가 원칙적으로는 불가능 \n",
    "    - immutable(불변성) \n",
    "    - 사실상 `drop` = `select` 즉, 선택의 유무\n",
    "    - 데이터 삭제가 없는 대신 `filter`를 이용해 필요한 것만 추출"
   ]
  },
  {
   "cell_type": "code",
   "execution_count": 4,
   "id": "7fd2e863",
   "metadata": {},
   "outputs": [
    {
     "name": "stdout",
     "output_type": "stream",
     "text": [
      "<class 'pandas.core.frame.DataFrame'>\n",
      "RangeIndex: 891 entries, 0 to 890\n",
      "Data columns (total 11 columns):\n",
      " #   Column       Non-Null Count  Dtype  \n",
      "---  ------       --------------  -----  \n",
      " 0   PassengerId  891 non-null    int32  \n",
      " 1   Survived     891 non-null    int32  \n",
      " 2   Pclass       891 non-null    int32  \n",
      " 3   Sex          891 non-null    object \n",
      " 4   Age          714 non-null    float64\n",
      " 5   SibSp        891 non-null    int32  \n",
      " 6   Parch        891 non-null    int32  \n",
      " 7   Ticket       891 non-null    object \n",
      " 8   Fare         891 non-null    float64\n",
      " 9   Cabin        204 non-null    object \n",
      " 10  Embarked     889 non-null    object \n",
      "dtypes: float64(2), int32(5), object(4)\n",
      "memory usage: 59.3+ KB\n"
     ]
    }
   ],
   "source": [
    "titanic_pdf_drop = titanic_pdf.drop('Name', axis=1)\n",
    "titanic_pdf_drop.info()"
   ]
  },
  {
   "cell_type": "code",
   "execution_count": 5,
   "id": "c29f5f4c",
   "metadata": {},
   "outputs": [
    {
     "name": "stdout",
     "output_type": "stream",
     "text": [
      "root\n",
      " |-- PassengerId: integer (nullable = true)\n",
      " |-- Survived: integer (nullable = true)\n",
      " |-- Pclass: integer (nullable = true)\n",
      " |-- Sex: string (nullable = true)\n",
      " |-- Age: double (nullable = true)\n",
      " |-- SibSp: integer (nullable = true)\n",
      " |-- Parch: integer (nullable = true)\n",
      " |-- Ticket: string (nullable = true)\n",
      " |-- Fare: double (nullable = true)\n",
      " |-- Cabin: string (nullable = true)\n",
      " |-- Embarked: string (nullable = true)\n",
      "\n"
     ]
    }
   ],
   "source": [
    "import pyspark.sql.functions as F\n",
    "\n",
    "titanic_sdf_drop = titanic_sdf.drop(F.col('Name'))\n",
    "titanic_sdf_drop.printSchema()"
   ]
  },
  {
   "cell_type": "code",
   "execution_count": 8,
   "id": "bdebf72e",
   "metadata": {},
   "outputs": [
    {
     "name": "stdout",
     "output_type": "stream",
     "text": [
      "+-----------+--------+------+--------------------+------+----+-----+-----+----------------+------+-----+--------+\n",
      "|PassengerId|Survived|Pclass|                Name|   Sex| Age|SibSp|Parch|          Ticket|  Fare|Cabin|Embarked|\n",
      "+-----------+--------+------+--------------------+------+----+-----+-----+----------------+------+-----+--------+\n",
      "|          1|       0|     3|Braund, Mr. Owen ...|  male|22.0|    1|    0|       A/5 21171|  7.25| null|       S|\n",
      "|          3|       1|     3|Heikkinen, Miss. ...|female|26.0|    0|    0|STON/O2. 3101282| 7.925| null|       S|\n",
      "|          5|       0|     3|Allen, Mr. Willia...|  male|35.0|    0|    0|          373450|  8.05| null|       S|\n",
      "|          6|       0|     3|    Moran, Mr. James|  male|null|    0|    0|          330877|8.4583| null|       Q|\n",
      "|          8|       0|     3|Palsson, Master. ...|  male| 2.0|    3|    1|          349909|21.075| null|       S|\n",
      "+-----------+--------+------+--------------------+------+----+-----+-----+----------------+------+-----+--------+\n",
      "only showing top 5 rows\n",
      "\n"
     ]
    }
   ],
   "source": [
    "# Pclass = 1인 row 제거 (sdf)\n",
    "\n",
    "titanic_sdf_pclass_drop = titanic_sdf.filter(F.col('Pclass')!=1)\n",
    "titanic_sdf_pclass_drop.show(5)"
   ]
  },
  {
   "cell_type": "markdown",
   "id": "38589eb0",
   "metadata": {},
   "source": [
    "# Spark DataFrame의 dropna\n",
    "- 레코드에 하나라도 Null(spark) 또는 None(numpy) 값이 있으면 삭제한 결과의 Dataframe 반환"
   ]
  },
  {
   "cell_type": "code",
   "execution_count": 9,
   "id": "82b37ea6",
   "metadata": {},
   "outputs": [
    {
     "name": "stdout",
     "output_type": "stream",
     "text": [
      "Dropna 이전의 행의 개수 :  891\n",
      "Dropna 이후의 행의 개수 :  183\n"
     ]
    }
   ],
   "source": [
    "print('Dropna 이전의 행의 개수 : ', titanic_sdf.count())\n",
    "\n",
    "titanic_sdf_dropna_1 = titanic_sdf.dropna()\n",
    "print('Dropna 이후의 행의 개수 : ', titanic_sdf_dropna_1.count())"
   ]
  },
  {
   "cell_type": "markdown",
   "id": "c06ce052",
   "metadata": {},
   "source": [
    "`dropna`를 쿼리로 표현 시\n",
    "```sql\n",
    "    select *\n",
    "    from titanic_sdf\n",
    "    where Name is not null\n",
    "      and age is not null\n",
    "      and Embarked is not null\n",
    "      ...\n",
    "```"
   ]
  },
  {
   "cell_type": "code",
   "execution_count": 10,
   "id": "fd3bc051",
   "metadata": {},
   "outputs": [
    {
     "data": {
      "text/plain": [
       "712"
      ]
     },
     "execution_count": 10,
     "metadata": {},
     "output_type": "execute_result"
    }
   ],
   "source": [
    "# 특정 컬럼을 지정해 null 삭제\n",
    "\n",
    "titanic_sdf_dropna_2 = titanic_sdf.dropna(subset=['Age', 'Embarked'])\n",
    "titanic_sdf_dropna_2.count()"
   ]
  },
  {
   "cell_type": "markdown",
   "id": "ec9fd2df",
   "metadata": {},
   "source": [
    "`.dropna(subset=['Age', 'Embarked'])` 를 쿼리로 표현시\n",
    "\n",
    "```sql\n",
    "    select *\n",
    "    from titanic_sdf\n",
    "    where age is not null\n",
    "      and Embarked is not null\n",
    "```"
   ]
  },
  {
   "cell_type": "code",
   "execution_count": 11,
   "id": "2e0770b5",
   "metadata": {},
   "outputs": [
    {
     "data": {
      "text/plain": [
       "712"
      ]
     },
     "execution_count": 11,
     "metadata": {},
     "output_type": "execute_result"
    }
   ],
   "source": [
    "# filter로 null 제거\n",
    "titanic_sdf.filter(\n",
    "    F.col('Age').isNotNull() & F.col('Embarked').isNotNull()\n",
    ").count()"
   ]
  },
  {
   "cell_type": "markdown",
   "id": "446d15c9",
   "metadata": {},
   "source": [
    "# Pandas와 Spark에서의 None, Nan, Null\n",
    "- None : class 객체\n",
    "- Nan : pandas에서 숫자가 없을 때. sdf->pdf로 변환시 Nan은 유지\n",
    "- Null : Spark의 본질은 Java"
   ]
  },
  {
   "cell_type": "code",
   "execution_count": 12,
   "id": "af381a37",
   "metadata": {},
   "outputs": [
    {
     "name": "stdout",
     "output_type": "stream",
     "text": [
      "<class 'NoneType'>\n"
     ]
    }
   ],
   "source": [
    "a = None\n",
    "print(type(a))"
   ]
  },
  {
   "cell_type": "code",
   "execution_count": 13,
   "id": "9e9e2f8a",
   "metadata": {},
   "outputs": [
    {
     "name": "stdout",
     "output_type": "stream",
     "text": [
      "+----+-----+\n",
      "| Age|Cabin|\n",
      "+----+-----+\n",
      "|22.0| null|\n",
      "|38.0|  C85|\n",
      "|26.0| null|\n",
      "|35.0| C123|\n",
      "|35.0| null|\n",
      "|null| null|\n",
      "|54.0|  E46|\n",
      "| 2.0| null|\n",
      "|27.0| null|\n",
      "|14.0| null|\n",
      "+----+-----+\n",
      "only showing top 10 rows\n",
      "\n"
     ]
    }
   ],
   "source": [
    "titanic_sdf.select('Age', 'Cabin').show(10)"
   ]
  },
  {
   "cell_type": "code",
   "execution_count": 14,
   "id": "0a6c6f87",
   "metadata": {},
   "outputs": [
    {
     "data": {
      "text/html": [
       "<div>\n",
       "<style scoped>\n",
       "    .dataframe tbody tr th:only-of-type {\n",
       "        vertical-align: middle;\n",
       "    }\n",
       "\n",
       "    .dataframe tbody tr th {\n",
       "        vertical-align: top;\n",
       "    }\n",
       "\n",
       "    .dataframe thead th {\n",
       "        text-align: right;\n",
       "    }\n",
       "</style>\n",
       "<table border=\"1\" class=\"dataframe\">\n",
       "  <thead>\n",
       "    <tr style=\"text-align: right;\">\n",
       "      <th></th>\n",
       "      <th>Age</th>\n",
       "      <th>Cabin</th>\n",
       "    </tr>\n",
       "  </thead>\n",
       "  <tbody>\n",
       "    <tr>\n",
       "      <th>0</th>\n",
       "      <td>22.0</td>\n",
       "      <td>None</td>\n",
       "    </tr>\n",
       "    <tr>\n",
       "      <th>1</th>\n",
       "      <td>38.0</td>\n",
       "      <td>C85</td>\n",
       "    </tr>\n",
       "    <tr>\n",
       "      <th>2</th>\n",
       "      <td>26.0</td>\n",
       "      <td>None</td>\n",
       "    </tr>\n",
       "    <tr>\n",
       "      <th>3</th>\n",
       "      <td>35.0</td>\n",
       "      <td>C123</td>\n",
       "    </tr>\n",
       "    <tr>\n",
       "      <th>4</th>\n",
       "      <td>35.0</td>\n",
       "      <td>None</td>\n",
       "    </tr>\n",
       "    <tr>\n",
       "      <th>5</th>\n",
       "      <td>NaN</td>\n",
       "      <td>None</td>\n",
       "    </tr>\n",
       "    <tr>\n",
       "      <th>6</th>\n",
       "      <td>54.0</td>\n",
       "      <td>E46</td>\n",
       "    </tr>\n",
       "    <tr>\n",
       "      <th>7</th>\n",
       "      <td>2.0</td>\n",
       "      <td>None</td>\n",
       "    </tr>\n",
       "    <tr>\n",
       "      <th>8</th>\n",
       "      <td>27.0</td>\n",
       "      <td>None</td>\n",
       "    </tr>\n",
       "    <tr>\n",
       "      <th>9</th>\n",
       "      <td>14.0</td>\n",
       "      <td>None</td>\n",
       "    </tr>\n",
       "  </tbody>\n",
       "</table>\n",
       "</div>"
      ],
      "text/plain": [
       "    Age Cabin\n",
       "0  22.0  None\n",
       "1  38.0   C85\n",
       "2  26.0  None\n",
       "3  35.0  C123\n",
       "4  35.0  None\n",
       "5   NaN  None\n",
       "6  54.0   E46\n",
       "7   2.0  None\n",
       "8  27.0  None\n",
       "9  14.0  None"
      ]
     },
     "execution_count": 14,
     "metadata": {},
     "output_type": "execute_result"
    }
   ],
   "source": [
    "titanic_pdf[['Age', 'Cabin']].head(10)"
   ]
  },
  {
   "cell_type": "code",
   "execution_count": 15,
   "id": "8b725f0e",
   "metadata": {},
   "outputs": [
    {
     "name": "stdout",
     "output_type": "stream",
     "text": [
      "+----+-----+\n",
      "| Age|Cabin|\n",
      "+----+-----+\n",
      "|22.0| null|\n",
      "|38.0|  C85|\n",
      "|26.0| null|\n",
      "|35.0| C123|\n",
      "|35.0| null|\n",
      "| NaN| null|\n",
      "|54.0|  E46|\n",
      "| 2.0| null|\n",
      "|27.0| null|\n",
      "|14.0| null|\n",
      "+----+-----+\n",
      "only showing top 10 rows\n",
      "\n"
     ]
    },
    {
     "name": "stderr",
     "output_type": "stream",
     "text": [
      "\r",
      "[Stage 19:>                                                         (0 + 1) / 1]\r",
      "\r",
      "                                                                                \r"
     ]
    }
   ],
   "source": [
    "titanic_sdf_from_pdf = spark.createDataFrame(titanic_pdf)\n",
    "titanic_sdf_from_pdf.select('Age', 'Cabin').show(10)"
   ]
  },
  {
   "cell_type": "markdown",
   "id": "6247f9a4",
   "metadata": {},
   "source": [
    "NaN값 검색"
   ]
  },
  {
   "cell_type": "code",
   "execution_count": 16,
   "id": "ba868639",
   "metadata": {},
   "outputs": [
    {
     "name": "stdout",
     "output_type": "stream",
     "text": [
      "+--------------------+----+\n",
      "|                Name| Age|\n",
      "+--------------------+----+\n",
      "|    Moran, Mr. James|null|\n",
      "|Williams, Mr. Cha...|null|\n",
      "|Masselmani, Mrs. ...|null|\n",
      "|Emir, Mr. Farred ...|null|\n",
      "|\"O'Dwyer, Miss. E...|null|\n",
      "| Todoroff, Mr. Lalio|null|\n",
      "|Spencer, Mrs. Wil...|null|\n",
      "|Glynn, Miss. Mary...|null|\n",
      "|    Mamee, Mr. Hanna|null|\n",
      "| Kraeff, Mr. Theodor|null|\n",
      "+--------------------+----+\n",
      "only showing top 10 rows\n",
      "\n"
     ]
    }
   ],
   "source": [
    "titanic_sdf.filter(F.col('Age').isNull()).select('Name', 'Age').show(10)"
   ]
  },
  {
   "cell_type": "code",
   "execution_count": 17,
   "id": "f17e3af5",
   "metadata": {},
   "outputs": [
    {
     "name": "stdout",
     "output_type": "stream",
     "text": [
      "+----+---+\n",
      "|Name|Age|\n",
      "+----+---+\n",
      "+----+---+\n",
      "\n"
     ]
    }
   ],
   "source": [
    "titanic_sdf_from_pdf.filter(F.col('Age').isNull()).select('Name','Age').show(10)"
   ]
  },
  {
   "cell_type": "code",
   "execution_count": 18,
   "id": "d71ea518",
   "metadata": {},
   "outputs": [
    {
     "name": "stdout",
     "output_type": "stream",
     "text": [
      "+--------------------+---+\n",
      "|                Name|Age|\n",
      "+--------------------+---+\n",
      "|    Moran, Mr. James|NaN|\n",
      "|Williams, Mr. Cha...|NaN|\n",
      "|Masselmani, Mrs. ...|NaN|\n",
      "|Emir, Mr. Farred ...|NaN|\n",
      "|\"O'Dwyer, Miss. E...|NaN|\n",
      "| Todoroff, Mr. Lalio|NaN|\n",
      "|Spencer, Mrs. Wil...|NaN|\n",
      "|Glynn, Miss. Mary...|NaN|\n",
      "|    Mamee, Mr. Hanna|NaN|\n",
      "| Kraeff, Mr. Theodor|NaN|\n",
      "+--------------------+---+\n",
      "only showing top 10 rows\n",
      "\n"
     ]
    }
   ],
   "source": [
    "titanic_sdf_from_pdf.filter(F.isnan(F.col('Age'))).select('Name','Age').show(10)"
   ]
  },
  {
   "cell_type": "markdown",
   "id": "1f7b222c",
   "metadata": {},
   "source": [
    "# Null 컬럼명과 Null 개수 찾기"
   ]
  },
  {
   "cell_type": "code",
   "execution_count": 20,
   "id": "c3b1f9bd",
   "metadata": {},
   "outputs": [
    {
     "data": {
      "text/plain": [
       "[Column<'(PassengerId IS NULL)'>,\n",
       " Column<'(Survived IS NULL)'>,\n",
       " Column<'(Pclass IS NULL)'>,\n",
       " Column<'(Name IS NULL)'>,\n",
       " Column<'(Sex IS NULL)'>,\n",
       " Column<'(Age IS NULL)'>,\n",
       " Column<'(SibSp IS NULL)'>,\n",
       " Column<'(Parch IS NULL)'>,\n",
       " Column<'(Ticket IS NULL)'>,\n",
       " Column<'(Fare IS NULL)'>,\n",
       " Column<'(Cabin IS NULL)'>,\n",
       " Column<'(Embarked IS NULL)'>]"
      ]
     },
     "execution_count": 20,
     "metadata": {},
     "output_type": "execute_result"
    }
   ],
   "source": [
    "null_columns = [F.col(column_name).isNull() for column_name in titanic_sdf.columns]\n",
    "null_columns"
   ]
  },
  {
   "cell_type": "code",
   "execution_count": 21,
   "id": "32639e48",
   "metadata": {},
   "outputs": [
    {
     "name": "stdout",
     "output_type": "stream",
     "text": [
      "+---------------------+------------------+----------------+--------------+-------------+-------------+---------------+---------------+----------------+--------------+---------------+------------------+\n",
      "|(PassengerId IS NULL)|(Survived IS NULL)|(Pclass IS NULL)|(Name IS NULL)|(Sex IS NULL)|(Age IS NULL)|(SibSp IS NULL)|(Parch IS NULL)|(Ticket IS NULL)|(Fare IS NULL)|(Cabin IS NULL)|(Embarked IS NULL)|\n",
      "+---------------------+------------------+----------------+--------------+-------------+-------------+---------------+---------------+----------------+--------------+---------------+------------------+\n",
      "|                false|             false|           false|         false|        false|        false|          false|          false|           false|         false|           true|             false|\n",
      "|                false|             false|           false|         false|        false|        false|          false|          false|           false|         false|          false|             false|\n",
      "|                false|             false|           false|         false|        false|        false|          false|          false|           false|         false|           true|             false|\n",
      "|                false|             false|           false|         false|        false|        false|          false|          false|           false|         false|          false|             false|\n",
      "|                false|             false|           false|         false|        false|        false|          false|          false|           false|         false|           true|             false|\n",
      "|                false|             false|           false|         false|        false|         true|          false|          false|           false|         false|           true|             false|\n",
      "|                false|             false|           false|         false|        false|        false|          false|          false|           false|         false|          false|             false|\n",
      "|                false|             false|           false|         false|        false|        false|          false|          false|           false|         false|           true|             false|\n",
      "|                false|             false|           false|         false|        false|        false|          false|          false|           false|         false|           true|             false|\n",
      "|                false|             false|           false|         false|        false|        false|          false|          false|           false|         false|           true|             false|\n",
      "+---------------------+------------------+----------------+--------------+-------------+-------------+---------------+---------------+----------------+--------------+---------------+------------------+\n",
      "only showing top 10 rows\n",
      "\n"
     ]
    }
   ],
   "source": [
    "titanic_sdf.select(null_columns).show(10)"
   ]
  },
  {
   "cell_type": "code",
   "execution_count": 22,
   "id": "57289dde",
   "metadata": {},
   "outputs": [
    {
     "data": {
      "text/plain": [
       "PassengerId      0\n",
       "Survived         0\n",
       "Pclass           0\n",
       "Name             0\n",
       "Sex              0\n",
       "Age            177\n",
       "SibSp            0\n",
       "Parch            0\n",
       "Ticket           0\n",
       "Fare             0\n",
       "Cabin          687\n",
       "Embarked         2\n",
       "dtype: int64"
      ]
     },
     "execution_count": 22,
     "metadata": {},
     "output_type": "execute_result"
    }
   ],
   "source": [
    "# pandas에서 누락값 개수 확인\n",
    "\n",
    "titanic_pdf.isna().sum()"
   ]
  },
  {
   "cell_type": "code",
   "execution_count": 27,
   "id": "1c2e1306",
   "metadata": {},
   "outputs": [
    {
     "data": {
      "text/plain": [
       "[Column<'count(CASE WHEN (PassengerId IS NULL) THEN PassengerId END) AS PassengerId'>,\n",
       " Column<'count(CASE WHEN (Survived IS NULL) THEN Survived END) AS Survived'>,\n",
       " Column<'count(CASE WHEN (Pclass IS NULL) THEN Pclass END) AS Pclass'>,\n",
       " Column<'count(CASE WHEN (Name IS NULL) THEN Name END) AS Name'>,\n",
       " Column<'count(CASE WHEN (Sex IS NULL) THEN Sex END) AS Sex'>,\n",
       " Column<'count(CASE WHEN (Age IS NULL) THEN Age END) AS Age'>,\n",
       " Column<'count(CASE WHEN (SibSp IS NULL) THEN SibSp END) AS SibSp'>,\n",
       " Column<'count(CASE WHEN (Parch IS NULL) THEN Parch END) AS Parch'>,\n",
       " Column<'count(CASE WHEN (Ticket IS NULL) THEN Ticket END) AS Ticket'>,\n",
       " Column<'count(CASE WHEN (Fare IS NULL) THEN Fare END) AS Fare'>,\n",
       " Column<'count(CASE WHEN (Cabin IS NULL) THEN Cabin END) AS Cabin'>,\n",
       " Column<'count(CASE WHEN (Embarked IS NULL) THEN Embarked END) AS Embarked'>]"
      ]
     },
     "execution_count": 27,
     "metadata": {},
     "output_type": "execute_result"
    }
   ],
   "source": [
    "null_count_condition = [F.count(F.when(F.col(c).isNull(), c)).alias(c) for c in titanic_sdf.columns]\n",
    "null_count_condition"
   ]
  },
  {
   "cell_type": "code",
   "execution_count": 28,
   "id": "b7994244",
   "metadata": {},
   "outputs": [
    {
     "name": "stdout",
     "output_type": "stream",
     "text": [
      "+-----------+--------+------+----+---+---+-----+-----+------+----+-----+--------+\n",
      "|PassengerId|Survived|Pclass|Name|Sex|Age|SibSp|Parch|Ticket|Fare|Cabin|Embarked|\n",
      "+-----------+--------+------+----+---+---+-----+-----+------+----+-----+--------+\n",
      "|          0|       0|     0|   0|  0|177|    0|    0|     0|   0|  687|       2|\n",
      "+-----------+--------+------+----+---+---+-----+-----+------+----+-----+--------+\n",
      "\n"
     ]
    }
   ],
   "source": [
    "titanic_sdf.select(null_count_condition).show()"
   ]
  },
  {
   "cell_type": "markdown",
   "id": "4ff336f6",
   "metadata": {},
   "source": [
    "# null 값 처리하기"
   ]
  },
  {
   "cell_type": "code",
   "execution_count": 29,
   "id": "09a2c030",
   "metadata": {},
   "outputs": [
    {
     "name": "stdout",
     "output_type": "stream",
     "text": [
      "<class 'pandas.core.frame.DataFrame'>\n",
      "RangeIndex: 891 entries, 0 to 890\n",
      "Data columns (total 12 columns):\n",
      " #   Column       Non-Null Count  Dtype  \n",
      "---  ------       --------------  -----  \n",
      " 0   PassengerId  891 non-null    int32  \n",
      " 1   Survived     891 non-null    int32  \n",
      " 2   Pclass       891 non-null    int32  \n",
      " 3   Name         891 non-null    object \n",
      " 4   Sex          891 non-null    object \n",
      " 5   Age          891 non-null    float64\n",
      " 6   SibSp        891 non-null    int32  \n",
      " 7   Parch        891 non-null    int32  \n",
      " 8   Ticket       891 non-null    object \n",
      " 9   Fare         891 non-null    float64\n",
      " 10  Cabin        204 non-null    object \n",
      " 11  Embarked     889 non-null    object \n",
      "dtypes: float64(2), int32(5), object(5)\n",
      "memory usage: 66.3+ KB\n"
     ]
    }
   ],
   "source": [
    "# pandas df에서 age 컬럼의 null 값을 age의 평균으로 채우기\n",
    "titanic_pdf['Age'] = titanic_pdf['Age'].fillna(titanic_pdf['Age'].mean())\n",
    "titanic_pdf.info()"
   ]
  },
  {
   "cell_type": "code",
   "execution_count": 30,
   "id": "63284f2e",
   "metadata": {},
   "outputs": [
    {
     "data": {
      "text/plain": [
       "29.69911764705882"
      ]
     },
     "execution_count": 30,
     "metadata": {},
     "output_type": "execute_result"
    }
   ],
   "source": [
    "# 스칼라 값으로 NaN 값 채웠음\n",
    "titanic_pdf['Age'].mean()"
   ]
  },
  {
   "cell_type": "code",
   "execution_count": 33,
   "id": "b8ff5ad5",
   "metadata": {},
   "outputs": [
    {
     "name": "stdout",
     "output_type": "stream",
     "text": [
      "+-----+-----+\n",
      "|  Age|Cabin|\n",
      "+-----+-----+\n",
      "| 22.0| null|\n",
      "| 38.0|  C85|\n",
      "| 26.0| null|\n",
      "| 35.0| C123|\n",
      "| 35.0| null|\n",
      "|999.0| null|\n",
      "| 54.0|  E46|\n",
      "|  2.0| null|\n",
      "| 27.0| null|\n",
      "| 14.0| null|\n",
      "+-----+-----+\n",
      "only showing top 10 rows\n",
      "\n",
      "+----+-----+\n",
      "| Age|Cabin|\n",
      "+----+-----+\n",
      "|22.0|   NA|\n",
      "|38.0|  C85|\n",
      "|26.0|   NA|\n",
      "|35.0| C123|\n",
      "|35.0|   NA|\n",
      "|null|   NA|\n",
      "|54.0|  E46|\n",
      "| 2.0|   NA|\n",
      "|27.0|   NA|\n",
      "|14.0|   NA|\n",
      "+----+-----+\n",
      "only showing top 10 rows\n",
      "\n"
     ]
    }
   ],
   "source": [
    "# spark df에서 결측치 채우기\n",
    "\n",
    "titanic_sdf.fillna(value=999).select('Age', 'Cabin').show(10)\n",
    "titanic_sdf.fillna(value='NA').select('Age', 'Cabin').show(10)"
   ]
  },
  {
   "cell_type": "code",
   "execution_count": 34,
   "id": "1a699a46",
   "metadata": {},
   "outputs": [
    {
     "name": "stdout",
     "output_type": "stream",
     "text": [
      "+-----------------+\n",
      "|         avg(Age)|\n",
      "+-----------------+\n",
      "|29.69911764705882|\n",
      "+-----------------+\n",
      "\n"
     ]
    }
   ],
   "source": [
    "# Age에 대한 결측치를 Age의 평균으로 처리\n",
    "\n",
    "mean_age = titanic_sdf.select(F.avg(F.col('Age')))\n",
    "mean_age.show()"
   ]
  },
  {
   "cell_type": "code",
   "execution_count": 35,
   "id": "99fa1dd3",
   "metadata": {},
   "outputs": [
    {
     "data": {
      "text/plain": [
       "pyspark.sql.dataframe.DataFrame"
      ]
     },
     "execution_count": 35,
     "metadata": {},
     "output_type": "execute_result"
    }
   ],
   "source": [
    "type(mean_age) # 벡터 타입 데이터"
   ]
  },
  {
   "cell_type": "code",
   "execution_count": 36,
   "id": "0e0e13ee",
   "metadata": {},
   "outputs": [
    {
     "data": {
      "text/plain": [
       "[Row(avg(Age)=29.69911764705882)]"
      ]
     },
     "execution_count": 36,
     "metadata": {},
     "output_type": "execute_result"
    }
   ],
   "source": [
    "# value에는 스칼라 타입 데이터만 가능\n",
    "# - dataframe을 벗어나야 함 -> RDD\n",
    "\n",
    "# Dataframe을 RDD 조회 결과로 확인\n",
    "\n",
    "mean_avg_row = mean_age.collect()\n",
    "mean_avg_row"
   ]
  },
  {
   "cell_type": "code",
   "execution_count": 37,
   "id": "9ce92246",
   "metadata": {},
   "outputs": [
    {
     "data": {
      "text/plain": [
       "29.69911764705882"
      ]
     },
     "execution_count": 37,
     "metadata": {},
     "output_type": "execute_result"
    }
   ],
   "source": [
    "row = mean_avg_row[0] # 첫번째 로우 가져오기\n",
    "mean_age_value = row[0] # 첫번째 컬럼 가져오기\n",
    "mean_age_value"
   ]
  },
  {
   "cell_type": "code",
   "execution_count": 38,
   "id": "043fbf78",
   "metadata": {},
   "outputs": [
    {
     "name": "stdout",
     "output_type": "stream",
     "text": [
      "+-----------------+\n",
      "|              Age|\n",
      "+-----------------+\n",
      "|             22.0|\n",
      "|             38.0|\n",
      "|             26.0|\n",
      "|             35.0|\n",
      "|             35.0|\n",
      "|29.69911764705882|\n",
      "|             54.0|\n",
      "|              2.0|\n",
      "|             27.0|\n",
      "|             14.0|\n",
      "|              4.0|\n",
      "|             58.0|\n",
      "|             20.0|\n",
      "|             39.0|\n",
      "|             14.0|\n",
      "|             55.0|\n",
      "|              2.0|\n",
      "|29.69911764705882|\n",
      "|             31.0|\n",
      "|29.69911764705882|\n",
      "+-----------------+\n",
      "only showing top 20 rows\n",
      "\n"
     ]
    }
   ],
   "source": [
    "titanic_sdf.fillna(value=mean_age_value, subset=['Age']).select('Age').show()"
   ]
  },
  {
   "cell_type": "code",
   "execution_count": 39,
   "id": "502a0b39",
   "metadata": {},
   "outputs": [],
   "source": [
    "spark.stop()"
   ]
  },
  {
   "cell_type": "code",
   "execution_count": null,
   "id": "28f4706f",
   "metadata": {},
   "outputs": [],
   "source": []
  }
 ],
 "metadata": {
  "kernelspec": {
   "display_name": "Python 3 (ipykernel)",
   "language": "python",
   "name": "python3"
  },
  "language_info": {
   "codemirror_mode": {
    "name": "ipython",
    "version": 3
   },
   "file_extension": ".py",
   "mimetype": "text/x-python",
   "name": "python",
   "nbconvert_exporter": "python",
   "pygments_lexer": "ipython3",
   "version": "3.8.18"
  }
 },
 "nbformat": 4,
 "nbformat_minor": 5
}
