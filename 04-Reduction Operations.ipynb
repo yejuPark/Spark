{
 "cells": [
  {
   "cell_type": "code",
   "execution_count": 1,
   "id": "98dfab00",
   "metadata": {},
   "outputs": [
    {
     "name": "stderr",
     "output_type": "stream",
     "text": [
      "Using Spark's default log4j profile: org/apache/spark/log4j-defaults.properties\n",
      "Setting default log level to \"WARN\".\n",
      "To adjust logging level use sc.setLogLevel(newLevel). For SparkR, use setLogLevel(newLevel).\n",
      "23/11/15 15:25:31 WARN NativeCodeLoader: Unable to load native-hadoop library for your platform... using builtin-java classes where applicable\n"
     ]
    }
   ],
   "source": [
    "from pyspark import SparkConf, SparkContext\n",
    "\n",
    "conf = SparkConf().setMaster(\"local\").setAppName(\"reduction-op\")\n",
    "sc = SparkContext(conf=conf)"
   ]
  },
  {
   "cell_type": "markdown",
   "id": "1789a5fe",
   "metadata": {},
   "source": [
    "# Reduce\n",
    "- `RDD.reduce(<task>)`\n",
    "- 사용자가 지정하는 task를 받아 여러 개의 값을 하나로 줄이기"
   ]
  },
  {
   "cell_type": "code",
   "execution_count": 2,
   "id": "c5d3a2e7",
   "metadata": {},
   "outputs": [],
   "source": [
    "from operator import add"
   ]
  },
  {
   "cell_type": "code",
   "execution_count": 3,
   "id": "a2b71b9f",
   "metadata": {},
   "outputs": [
    {
     "name": "stderr",
     "output_type": "stream",
     "text": [
      "                                                                                \r"
     ]
    },
    {
     "data": {
      "text/plain": [
       "15"
      ]
     },
     "execution_count": 3,
     "metadata": {},
     "output_type": "execute_result"
    }
   ],
   "source": [
    "sample_rdd = sc.parallelize([1, 2, 3, 4, 5]).reduce(add) # add : lambda x, y : x + y\n",
    "sample_rdd"
   ]
  },
  {
   "cell_type": "markdown",
   "id": "d9ce6b5f",
   "metadata": {},
   "source": [
    "## 파티션에 따라 결과물 달라짐\n",
    "- 분산된 파티션들의 연산과 합치는 부분을 나눠서 생각하기"
   ]
  },
  {
   "cell_type": "markdown",
   "id": "16df1349",
   "metadata": {},
   "source": [
    "```python\n",
    "lambda x, y : (x*2)+y\n",
    "```"
   ]
  },
  {
   "cell_type": "code",
   "execution_count": 4,
   "id": "0ff850a9",
   "metadata": {},
   "outputs": [
    {
     "data": {
      "text/plain": [
       "26"
      ]
     },
     "execution_count": 4,
     "metadata": {},
     "output_type": "execute_result"
    }
   ],
   "source": [
    "# 파티션이 1개인 경우\n",
    "sc.parallelize([1, 2, 3, 4]).reduce(lambda x, y : (x*2)+y)"
   ]
  },
  {
   "cell_type": "code",
   "execution_count": 5,
   "id": "87eaa150",
   "metadata": {},
   "outputs": [
    {
     "data": {
      "text/plain": [
       "18"
      ]
     },
     "execution_count": 5,
     "metadata": {},
     "output_type": "execute_result"
    }
   ],
   "source": [
    "# 파티션이 2개\n",
    "sc.parallelize([1, 2, 3, 4], 2).reduce(lambda x, y : (x*2)+y)"
   ]
  },
  {
   "cell_type": "code",
   "execution_count": 6,
   "id": "d6d7920a",
   "metadata": {},
   "outputs": [
    {
     "data": {
      "text/plain": [
       "18"
      ]
     },
     "execution_count": 6,
     "metadata": {},
     "output_type": "execute_result"
    }
   ],
   "source": [
    "# 파티션이 3개\n",
    "sc.parallelize([1, 2, 3, 4], 3).reduce(lambda x, y : (x*2)+y)"
   ]
  },
  {
   "cell_type": "code",
   "execution_count": 7,
   "id": "8bc3dfb4",
   "metadata": {},
   "outputs": [
    {
     "data": {
      "text/plain": [
       "26"
      ]
     },
     "execution_count": 7,
     "metadata": {},
     "output_type": "execute_result"
    }
   ],
   "source": [
    "# 파티션이 4개\n",
    "sc.parallelize([1, 2, 3, 4], 4).reduce(lambda x, y : (x*2)+y)"
   ]
  },
  {
   "cell_type": "markdown",
   "id": "3a96ee09",
   "metadata": {},
   "source": [
    "# Fold\n",
    "- `RDD.fold(zeroValue, <task>)`\n",
    "- `reduce`와 유사하나, 시작값을 zeroValue에 넣어놓고 reduce"
   ]
  },
  {
   "cell_type": "code",
   "execution_count": 8,
   "id": "65e4f41b",
   "metadata": {},
   "outputs": [],
   "source": [
    "rdd = sc.parallelize([2, 3, 4], 4)"
   ]
  },
  {
   "cell_type": "code",
   "execution_count": 9,
   "id": "9401bf3c",
   "metadata": {},
   "outputs": [
    {
     "name": "stdout",
     "output_type": "stream",
     "text": [
      "24\n",
      "24\n"
     ]
    }
   ],
   "source": [
    "print(rdd.reduce(lambda x, y : (x*y))) # (2*3)*4\n",
    "print(rdd.fold(1, lambda x, y : (x*y)))"
   ]
  },
  {
   "cell_type": "code",
   "execution_count": 10,
   "id": "00c1b5eb",
   "metadata": {},
   "outputs": [
    {
     "name": "stdout",
     "output_type": "stream",
     "text": [
      "9\n"
     ]
    }
   ],
   "source": [
    "print(rdd.reduce(lambda x, y : x+y))"
   ]
  },
  {
   "cell_type": "code",
   "execution_count": 11,
   "id": "6ef4b067",
   "metadata": {},
   "outputs": [
    {
     "name": "stdout",
     "output_type": "stream",
     "text": [
      "14\n"
     ]
    }
   ],
   "source": [
    "print(rdd.fold(1, lambda x, y : x+y))"
   ]
  },
  {
   "cell_type": "markdown",
   "id": "63320e79",
   "metadata": {},
   "source": [
    "# Aggregate (Action)\n",
    "- `RDD.aggregate(zeroValue, seq0p, comb0p)`\n",
    "    - `zeroValue` : 각 파티션에서 누적할 시작값\n",
    "    - `seq0p` : 타입 변경 함수. 파티션 내부에서 사용할 task\n",
    "    - `comb0p` : 합치는 함수. 파티션끼리 사용할 task"
   ]
  },
  {
   "cell_type": "code",
   "execution_count": 12,
   "id": "08c288f8",
   "metadata": {},
   "outputs": [],
   "source": [
    "rdd = sc.parallelize([1, 2, 3, 4], 2)"
   ]
  },
  {
   "cell_type": "code",
   "execution_count": 13,
   "id": "f234cfc3",
   "metadata": {},
   "outputs": [],
   "source": [
    "seq0p = (lambda x, y : (x[0]+y, x[1]+1)) # 파티션 내 연산\n",
    "comb0p = (lambda x, y : (x[0]+y[0], x[1]+y[1])) # 파티션의 모든 결과를 최종 연산"
   ]
  },
  {
   "cell_type": "code",
   "execution_count": 14,
   "id": "295472bc",
   "metadata": {},
   "outputs": [
    {
     "data": {
      "text/plain": [
       "(10, 4)"
      ]
     },
     "execution_count": 14,
     "metadata": {},
     "output_type": "execute_result"
    }
   ],
   "source": [
    "rdd.aggregate((0, 0), seq0p, comb0p)"
   ]
  },
  {
   "cell_type": "code",
   "execution_count": 15,
   "id": "56bf82f4",
   "metadata": {},
   "outputs": [],
   "source": [
    "sc.stop()"
   ]
  },
  {
   "cell_type": "code",
   "execution_count": null,
   "id": "0791f546",
   "metadata": {},
   "outputs": [],
   "source": []
  }
 ],
 "metadata": {
  "kernelspec": {
   "display_name": "Python 3 (ipykernel)",
   "language": "python",
   "name": "python3"
  },
  "language_info": {
   "codemirror_mode": {
    "name": "ipython",
    "version": 3
   },
   "file_extension": ".py",
   "mimetype": "text/x-python",
   "name": "python",
   "nbconvert_exporter": "python",
   "pygments_lexer": "ipython3",
   "version": "3.8.18"
  }
 },
 "nbformat": 4,
 "nbformat_minor": 5
}
