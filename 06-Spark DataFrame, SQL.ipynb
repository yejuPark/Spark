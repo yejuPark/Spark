{
 "cells": [
  {
   "cell_type": "code",
   "execution_count": 2,
   "id": "4091672c",
   "metadata": {},
   "outputs": [
    {
     "name": "stderr",
     "output_type": "stream",
     "text": [
      "Using Spark's default log4j profile: org/apache/spark/log4j-defaults.properties\n",
      "Setting default log level to \"WARN\".\n",
      "To adjust logging level use sc.setLogLevel(newLevel). For SparkR, use setLogLevel(newLevel).\n",
      "23/11/16 10:18:49 WARN NativeCodeLoader: Unable to load native-hadoop library for your platform... using builtin-java classes where applicable\n"
     ]
    },
    {
     "data": {
      "text/html": [
       "\n",
       "        <div>\n",
       "            <p><b>SparkContext</b></p>\n",
       "\n",
       "            <p><a href=\"http://0.0.0.0:4040\">Spark UI</a></p>\n",
       "\n",
       "            <dl>\n",
       "              <dt>Version</dt>\n",
       "                <dd><code>v3.2.4</code></dd>\n",
       "              <dt>Master</dt>\n",
       "                <dd><code>local</code></dd>\n",
       "              <dt>AppName</dt>\n",
       "                <dd><code>spark_sql_basic</code></dd>\n",
       "            </dl>\n",
       "        </div>\n",
       "        "
      ],
      "text/plain": [
       "<SparkContext master=local appName=spark_sql_basic>"
      ]
     },
     "execution_count": 2,
     "metadata": {},
     "output_type": "execute_result"
    }
   ],
   "source": [
    "from pyspark import SparkConf, SparkContext\n",
    "conf = SparkConf().setMaster(\"local\").setAppName(\"spark_sql_basic\")\n",
    "sc = SparkContext(conf=conf)\n",
    "sc"
   ]
  },
  {
   "cell_type": "code",
   "execution_count": 2,
   "id": "d46ca7d4",
   "metadata": {},
   "outputs": [],
   "source": [
    "movies_rdd = sc.parallelize([\n",
    "    (1, (\"어벤져스\", \"마블\")),\n",
    "    (2, (\"슈퍼맨\", \"DC\")),\n",
    "    (3, (\"배트맨\", \"DC\")),\n",
    "    (4, (\"겨울왕국\", \"디즈니\")),\n",
    "    (5, (\"아이언맨\", \"마블\"))\n",
    "])\n",
    "\n",
    "attendances_rdd = sc.parallelize([\n",
    "    (1, (13934592, \"KR\")),\n",
    "    (2, (2182227,\"KR\")),\n",
    "    (3, (4226242, \"KR\")),\n",
    "    (4, (10303058, \"KR\")),\n",
    "    (5, (4300365, \"KR\"))\n",
    "])"
   ]
  },
  {
   "cell_type": "code",
   "execution_count": 3,
   "id": "4487f043",
   "metadata": {},
   "outputs": [
    {
     "name": "stderr",
     "output_type": "stream",
     "text": [
      "                                                                                \r"
     ]
    },
    {
     "data": {
      "text/plain": [
       "[(1, (('어벤져스', '마블'), (13934592, 'KR')))]"
      ]
     },
     "execution_count": 3,
     "metadata": {},
     "output_type": "execute_result"
    }
   ],
   "source": [
    "# 마블 영화 중 관객 수 500만 이상 영화 가져오기\n",
    "# - Filter 후 join\n",
    "\n",
    "filtered_movies = movies_rdd.filter(lambda x : x[1][1] == '마블')\n",
    "filtered_attendances = attendances_rdd.filter(lambda x : x[1][0] >= 5000000)\n",
    "\n",
    "filtered_movies.join(filtered_attendances).collect()"
   ]
  },
  {
   "cell_type": "code",
   "execution_count": 4,
   "id": "ec844eed",
   "metadata": {},
   "outputs": [],
   "source": [
    "sc.stop()"
   ]
  },
  {
   "cell_type": "markdown",
   "id": "dbaac4c8",
   "metadata": {},
   "source": [
    "# 1. SparkSession 생성\n",
    "- `SparkContext`에 해당\n",
    "- 새로운 스파크 어플리케이션 생성"
   ]
  },
  {
   "cell_type": "code",
   "execution_count": 3,
   "id": "496b46b2",
   "metadata": {},
   "outputs": [
    {
     "data": {
      "text/html": [
       "\n",
       "            <div>\n",
       "                <p><b>SparkSession - in-memory</b></p>\n",
       "                \n",
       "        <div>\n",
       "            <p><b>SparkContext</b></p>\n",
       "\n",
       "            <p><a href=\"http://0.0.0.0:4040\">Spark UI</a></p>\n",
       "\n",
       "            <dl>\n",
       "              <dt>Version</dt>\n",
       "                <dd><code>v3.2.4</code></dd>\n",
       "              <dt>Master</dt>\n",
       "                <dd><code>local</code></dd>\n",
       "              <dt>AppName</dt>\n",
       "                <dd><code>spark_sql_basic</code></dd>\n",
       "            </dl>\n",
       "        </div>\n",
       "        \n",
       "            </div>\n",
       "        "
      ],
      "text/plain": [
       "<pyspark.sql.session.SparkSession at 0x7ff49c109820>"
      ]
     },
     "execution_count": 3,
     "metadata": {},
     "output_type": "execute_result"
    }
   ],
   "source": [
    "from pyspark.sql import SparkSession\n",
    "\n",
    "spark = SparkSession.builder.master(\"local\").appName(\"spark-sql\").getOrCreate()\n",
    "spark"
   ]
  },
  {
   "cell_type": "code",
   "execution_count": 4,
   "id": "37efa002",
   "metadata": {},
   "outputs": [],
   "source": [
    "movies = [\n",
    "    (1, \"어벤져스\", \"마블\", 2012, 4, 26),\n",
    "    (2, \"슈퍼맨\", \"DC\", 2013, 6, 13),\n",
    "    (3, \"배트맨\", \"DC\", 2008, 8, 6),\n",
    "    (4, \"겨울왕국\", \"디즈니\", 2014, 1, 16),\n",
    "    (5, \"아이언맨\", \"마블\", 2008, 4, 30)\n",
    "]"
   ]
  },
  {
   "cell_type": "code",
   "execution_count": 5,
   "id": "aa30d86b",
   "metadata": {},
   "outputs": [],
   "source": [
    "movie_schema = [\"id\", \"name\", \"company\", \"year\", \"month\", \"day\"]"
   ]
  },
  {
   "cell_type": "markdown",
   "id": "cba03831",
   "metadata": {},
   "source": [
    "# 2. 데이터 프레임 생성"
   ]
  },
  {
   "cell_type": "code",
   "execution_count": 6,
   "id": "7d9e3d12",
   "metadata": {},
   "outputs": [
    {
     "data": {
      "text/plain": [
       "DataFrame[id: bigint, name: string, company: string, year: bigint, month: bigint, day: bigint]"
      ]
     },
     "execution_count": 6,
     "metadata": {},
     "output_type": "execute_result"
    }
   ],
   "source": [
    "movie_sdf = spark.createDataFrame(data=movies, schema=movie_schema)\n",
    "movie_sdf"
   ]
  },
  {
   "cell_type": "code",
   "execution_count": 7,
   "id": "1725017c",
   "metadata": {},
   "outputs": [
    {
     "data": {
      "text/plain": [
       "[('id', 'bigint'),\n",
       " ('name', 'string'),\n",
       " ('company', 'string'),\n",
       " ('year', 'bigint'),\n",
       " ('month', 'bigint'),\n",
       " ('day', 'bigint')]"
      ]
     },
     "execution_count": 7,
     "metadata": {},
     "output_type": "execute_result"
    }
   ],
   "source": [
    "# 스키마 정보 확인\n",
    "movie_sdf.dtypes"
   ]
  },
  {
   "cell_type": "code",
   "execution_count": 8,
   "id": "94f1401b",
   "metadata": {},
   "outputs": [
    {
     "name": "stderr",
     "output_type": "stream",
     "text": [
      "[Stage 0:>                                                          (0 + 1) / 1]\r"
     ]
    },
    {
     "name": "stdout",
     "output_type": "stream",
     "text": [
      "+---+--------+-------+----+-----+---+\n",
      "| id|    name|company|year|month|day|\n",
      "+---+--------+-------+----+-----+---+\n",
      "|  1|어벤져스|   마블|2012|    4| 26|\n",
      "|  2|  슈퍼맨|     DC|2013|    6| 13|\n",
      "|  3|  배트맨|     DC|2008|    8|  6|\n",
      "|  4|겨울왕국| 디즈니|2014|    1| 16|\n",
      "|  5|아이언맨|   마블|2008|    4| 30|\n",
      "+---+--------+-------+----+-----+---+\n",
      "\n"
     ]
    },
    {
     "name": "stderr",
     "output_type": "stream",
     "text": [
      "                                                                                \r"
     ]
    }
   ],
   "source": [
    "movie_sdf.show()"
   ]
  },
  {
   "cell_type": "markdown",
   "id": "288c58df",
   "metadata": {},
   "source": [
    "# 3. Spark SQL 사용하기\n",
    "- `createOrReplaceTempView` 함수 이용해 DataFrame에 SQL을 사용할 수 있는 View 만들기"
   ]
  },
  {
   "cell_type": "code",
   "execution_count": 9,
   "id": "93957dd2",
   "metadata": {},
   "outputs": [],
   "source": [
    "movie_sdf.createOrReplaceTempView(\"movies\")"
   ]
  },
  {
   "cell_type": "code",
   "execution_count": 10,
   "id": "3209c3bc",
   "metadata": {},
   "outputs": [
    {
     "name": "stdout",
     "output_type": "stream",
     "text": [
      "+--------+\n",
      "|    name|\n",
      "+--------+\n",
      "|어벤져스|\n",
      "|  슈퍼맨|\n",
      "|  배트맨|\n",
      "|겨울왕국|\n",
      "|아이언맨|\n",
      "+--------+\n",
      "\n"
     ]
    }
   ],
   "source": [
    "query = \"\"\"\n",
    "    SELECT name\n",
    "    FROM movies\n",
    "\"\"\"\n",
    "\n",
    "# 쿼리 실행\n",
    "spark.sql(query).show()"
   ]
  },
  {
   "cell_type": "code",
   "execution_count": 11,
   "id": "36ef7110",
   "metadata": {},
   "outputs": [
    {
     "name": "stdout",
     "output_type": "stream",
     "text": [
      "+--------+----+\n",
      "|    name|year|\n",
      "+--------+----+\n",
      "|어벤져스|2012|\n",
      "|  슈퍼맨|2013|\n",
      "|  배트맨|2008|\n",
      "|겨울왕국|2014|\n",
      "|아이언맨|2008|\n",
      "+--------+----+\n",
      "\n"
     ]
    }
   ],
   "source": [
    "# 영화 이름, 개봉 연도\n",
    "query = \"\"\"\n",
    "    SELECT name, year\n",
    "    FROM movies\n",
    "\"\"\"\n",
    "spark.sql(query).show()"
   ]
  },
  {
   "cell_type": "code",
   "execution_count": 12,
   "id": "f7aa2eb9",
   "metadata": {},
   "outputs": [
    {
     "name": "stdout",
     "output_type": "stream",
     "text": [
      "+---+--------+-------+----+-----+---+\n",
      "| id|    name|company|year|month|day|\n",
      "+---+--------+-------+----+-----+---+\n",
      "|  1|어벤져스|   마블|2012|    4| 26|\n",
      "|  2|  슈퍼맨|     DC|2013|    6| 13|\n",
      "|  4|겨울왕국| 디즈니|2014|    1| 16|\n",
      "+---+--------+-------+----+-----+---+\n",
      "\n"
     ]
    }
   ],
   "source": [
    "# 2010년도 이후 개봉한 영화의 모든 정보\n",
    "query = \"\"\"\n",
    "    SELECT *\n",
    "    FROM movies\n",
    "    WHERE year > 2010\n",
    "\"\"\"\n",
    "spark.sql(query).show()"
   ]
  },
  {
   "cell_type": "code",
   "execution_count": 13,
   "id": "c6a3ec1a",
   "metadata": {},
   "outputs": [
    {
     "name": "stdout",
     "output_type": "stream",
     "text": [
      "+---+--------+-------+----+-----+---+\n",
      "| id|    name|company|year|month|day|\n",
      "+---+--------+-------+----+-----+---+\n",
      "|  1|어벤져스|   마블|2012|    4| 26|\n",
      "+---+--------+-------+----+-----+---+\n",
      "\n"
     ]
    }
   ],
   "source": [
    "# 2010년 이후 개봉한 마블 영화의 모든 정보\n",
    "query = \"\"\"\n",
    "    SELECT *\n",
    "    FROM movies\n",
    "    WHERE year > 2010\n",
    "    AND company == '마블'\n",
    "\"\"\"\n",
    "spark.sql(query).show()"
   ]
  },
  {
   "cell_type": "code",
   "execution_count": 14,
   "id": "f6f7ae74",
   "metadata": {},
   "outputs": [
    {
     "name": "stdout",
     "output_type": "stream",
     "text": [
      "+---+--------+-------+----+-----+---+\n",
      "| id|    name|company|year|month|day|\n",
      "+---+--------+-------+----+-----+---+\n",
      "|  2|  슈퍼맨|     DC|2013|    6| 13|\n",
      "|  3|  배트맨|     DC|2008|    8|  6|\n",
      "|  5|아이언맨|   마블|2008|    4| 30|\n",
      "+---+--------+-------+----+-----+---+\n",
      "\n"
     ]
    }
   ],
   "source": [
    "# ~맨으로 끝나는 영화의 모든 정보\n",
    "query = \"\"\"\n",
    "    SELECT *\n",
    "    FROM movies\n",
    "    WHERE name like '%맨'\n",
    "\"\"\"\n",
    "spark.sql(query).show()"
   ]
  },
  {
   "cell_type": "code",
   "execution_count": 15,
   "id": "f5fee672",
   "metadata": {},
   "outputs": [
    {
     "name": "stdout",
     "output_type": "stream",
     "text": [
      "+---+--------+-------+----+-----+---+\n",
      "| id|    name|company|year|month|day|\n",
      "+---+--------+-------+----+-----+---+\n",
      "|  1|어벤져스|   마블|2012|    4| 26|\n",
      "+---+--------+-------+----+-----+---+\n",
      "\n"
     ]
    }
   ],
   "source": [
    "# id가 3번인 영화보다 늦게 개봉한 마블영화의 모든 정보 (연도만 고려)\n",
    "query = \"\"\"\n",
    "    SELECT *\n",
    "    FROM movies\n",
    "    WHERE company == '마블'\n",
    "    AND year > (SELECT year FROM movies WHERE id=3)\n",
    "\"\"\"\n",
    "spark.sql(query).show()"
   ]
  },
  {
   "cell_type": "markdown",
   "id": "a17cda74",
   "metadata": {},
   "source": [
    "## JOIN 구현"
   ]
  },
  {
   "cell_type": "code",
   "execution_count": 16,
   "id": "c3bc2f1a",
   "metadata": {},
   "outputs": [],
   "source": [
    "attendances = [\n",
    "    (1, 13934592., \"KR\"),\n",
    "    (2, 2182227.,\"KR\"),\n",
    "    (3, 4226242., \"KR\"),\n",
    "    (4, 10303058., \"KR\"),\n",
    "    (5, 4300365., \"KR\")\n",
    "]"
   ]
  },
  {
   "cell_type": "code",
   "execution_count": 17,
   "id": "4a64fd12",
   "metadata": {},
   "outputs": [],
   "source": [
    "# 자료형 타입 불러오기\n",
    "from pyspark.sql.types import StringType, FloatType, IntegerType\n",
    "\n",
    "# 구조 생성 타입 불러오기 (필수)\n",
    "from pyspark.sql.types import StructField, StructType"
   ]
  },
  {
   "cell_type": "code",
   "execution_count": 18,
   "id": "bdd21c42",
   "metadata": {},
   "outputs": [],
   "source": [
    "att_schema = StructType([\n",
    "    StructField(\"id\", IntegerType(), True),\n",
    "    StructField(\"attendance\", FloatType(), True),\n",
    "    StructField(\"country\", StringType(), True)\n",
    "])"
   ]
  },
  {
   "cell_type": "code",
   "execution_count": 19,
   "id": "181a1250",
   "metadata": {},
   "outputs": [
    {
     "data": {
      "text/plain": [
       "DataFrame[id: int, attendance: float, country: string]"
      ]
     },
     "execution_count": 19,
     "metadata": {},
     "output_type": "execute_result"
    }
   ],
   "source": [
    "att_df = spark.createDataFrame(data=attendances, schema=att_schema)\n",
    "att_df"
   ]
  },
  {
   "cell_type": "code",
   "execution_count": 20,
   "id": "df6af6b1",
   "metadata": {},
   "outputs": [],
   "source": [
    "att_df.createOrReplaceTempView(\"att\")"
   ]
  },
  {
   "cell_type": "code",
   "execution_count": 22,
   "id": "05d30cf3",
   "metadata": {},
   "outputs": [
    {
     "name": "stdout",
     "output_type": "stream",
     "text": [
      "+---+--------+-------+----+-----+---+---+-----------+-------+\n",
      "| id|    name|company|year|month|day| id| attendance|country|\n",
      "+---+--------+-------+----+-----+---+---+-----------+-------+\n",
      "|  1|어벤져스|   마블|2012|    4| 26|  1|1.3934592E7|     KR|\n",
      "|  2|  슈퍼맨|     DC|2013|    6| 13|  2|  2182227.0|     KR|\n",
      "|  3|  배트맨|     DC|2008|    8|  6|  3|  4226242.0|     KR|\n",
      "|  4|겨울왕국| 디즈니|2014|    1| 16|  4|1.0303058E7|     KR|\n",
      "|  5|아이언맨|   마블|2008|    4| 30|  5|  4300365.0|     KR|\n",
      "+---+--------+-------+----+-----+---+---+-----------+-------+\n",
      "\n"
     ]
    }
   ],
   "source": [
    "# movies, att id를 기준으로 JOIN\n",
    "\n",
    "query = \"\"\"\n",
    "    SELECT *\n",
    "    FROM movies\n",
    "    JOIN att ON movies.id = att.id\n",
    "    ORDER BY movies.id ASC\n",
    "\"\"\"\n",
    "spark.sql(query).show()"
   ]
  },
  {
   "cell_type": "code",
   "execution_count": 24,
   "id": "b4768273",
   "metadata": {},
   "outputs": [],
   "source": [
    "spark.stop()"
   ]
  },
  {
   "cell_type": "code",
   "execution_count": null,
   "id": "c48d515c",
   "metadata": {},
   "outputs": [],
   "source": []
  }
 ],
 "metadata": {
  "kernelspec": {
   "display_name": "Python 3 (ipykernel)",
   "language": "python",
   "name": "python3"
  },
  "language_info": {
   "codemirror_mode": {
    "name": "ipython",
    "version": 3
   },
   "file_extension": ".py",
   "mimetype": "text/x-python",
   "name": "python",
   "nbconvert_exporter": "python",
   "pygments_lexer": "ipython3",
   "version": "3.8.18"
  }
 },
 "nbformat": 4,
 "nbformat_minor": 5
}
