{
 "cells": [
  {
   "cell_type": "code",
   "execution_count": 1,
   "id": "03c15e0e",
   "metadata": {},
   "outputs": [
    {
     "name": "stderr",
     "output_type": "stream",
     "text": [
      "Using Spark's default log4j profile: org/apache/spark/log4j-defaults.properties\n",
      "Setting default log level to \"WARN\".\n",
      "To adjust logging level use sc.setLogLevel(newLevel). For SparkR, use setLogLevel(newLevel).\n",
      "23/11/15 11:14:21 WARN NativeCodeLoader: Unable to load native-hadoop library for your platform... using builtin-java classes where applicable\n"
     ]
    },
    {
     "data": {
      "text/html": [
       "\n",
       "        <div>\n",
       "            <p><b>SparkContext</b></p>\n",
       "\n",
       "            <p><a href=\"http://0.0.0.0:4040\">Spark UI</a></p>\n",
       "\n",
       "            <dl>\n",
       "              <dt>Version</dt>\n",
       "                <dd><code>v3.2.4</code></dd>\n",
       "              <dt>Master</dt>\n",
       "                <dd><code>local</code></dd>\n",
       "              <dt>AppName</dt>\n",
       "                <dd><code>transformations_actions</code></dd>\n",
       "            </dl>\n",
       "        </div>\n",
       "        "
      ],
      "text/plain": [
       "<SparkContext master=local appName=transformations_actions>"
      ]
     },
     "execution_count": 1,
     "metadata": {},
     "output_type": "execute_result"
    }
   ],
   "source": [
    "from pyspark import SparkConf, SparkContext\n",
    "\n",
    "conf = SparkConf().setMaster(\"local\").setAppName(\"transformations_actions\")\n",
    "sc = SparkContext(conf=conf)\n",
    "sc"
   ]
  },
  {
   "cell_type": "markdown",
   "id": "0c7f1392",
   "metadata": {},
   "source": [
    "# RDD 생성\n",
    "파이썬의 리스트를 이용해 RDD 생성 - `parallelize`"
   ]
  },
  {
   "cell_type": "code",
   "execution_count": 2,
   "id": "bd257be1",
   "metadata": {},
   "outputs": [
    {
     "name": "stderr",
     "output_type": "stream",
     "text": [
      "                                                                                \r"
     ]
    },
    {
     "data": {
      "text/plain": [
       "['짜장면',\n",
       " '짬뽕',\n",
       " '마라탕',\n",
       " '떡볶이',\n",
       " '쌀국수',\n",
       " '짬뽕',\n",
       " '짜장면',\n",
       " '짜장면',\n",
       " '짬뽕',\n",
       " '마라탕',\n",
       " '라면',\n",
       " '라면',\n",
       " '우동',\n",
       " '쌀국수']"
      ]
     },
     "execution_count": 2,
     "metadata": {},
     "output_type": "execute_result"
    }
   ],
   "source": [
    "foods = sc.parallelize([\n",
    "    \"짜장면\", \"짬뽕\", \"마라탕\",\n",
    "    \"떡볶이\", \"쌀국수\",\"짬뽕\",\n",
    "    \"짜장면\", \"짜장면\", \"짬뽕\",\n",
    "    \"마라탕\", \"라면\", \"라면\",\n",
    "    \"우동\", \"쌀국수\"\n",
    "])\n",
    "foods.collect()"
   ]
  },
  {
   "cell_type": "markdown",
   "id": "8fc5d532",
   "metadata": {},
   "source": [
    "# Actions\n",
    "- 미뤄왔던 Transformations 작업을 모두 실행하고, 그 결과를 반환하는 작업\n",
    "- RDD 생성이 아닌, 실제 데이터를 출력하는 역할"
   ]
  },
  {
   "cell_type": "code",
   "execution_count": 3,
   "id": "8faf128a",
   "metadata": {},
   "outputs": [
    {
     "name": "stderr",
     "output_type": "stream",
     "text": [
      "                                                                                \r"
     ]
    },
    {
     "data": {
      "text/plain": [
       "defaultdict(int,\n",
       "            {'짜장면': 3,\n",
       "             '짬뽕': 3,\n",
       "             '마라탕': 2,\n",
       "             '떡볶이': 1,\n",
       "             '쌀국수': 2,\n",
       "             '라면': 2,\n",
       "             '우동': 1})"
      ]
     },
     "execution_count": 3,
     "metadata": {},
     "output_type": "execute_result"
    }
   ],
   "source": [
    "# 각 원소 별 개수 세기\n",
    "foods.countByValue()"
   ]
  },
  {
   "cell_type": "code",
   "execution_count": 4,
   "id": "e082812c",
   "metadata": {},
   "outputs": [
    {
     "data": {
      "text/plain": [
       "['짜장면', '짬뽕', '마라탕', '떡볶이', '쌀국수']"
      ]
     },
     "execution_count": 4,
     "metadata": {},
     "output_type": "execute_result"
    }
   ],
   "source": [
    "# 상위 n개의 데이터 가져오기\n",
    "foods.take(5)"
   ]
  },
  {
   "cell_type": "code",
   "execution_count": 5,
   "id": "86ac0798",
   "metadata": {},
   "outputs": [
    {
     "data": {
      "text/plain": [
       "['짜장면',\n",
       " '짬뽕',\n",
       " '마라탕',\n",
       " '떡볶이',\n",
       " '쌀국수',\n",
       " '짬뽕',\n",
       " '짜장면',\n",
       " '짜장면',\n",
       " '짬뽕',\n",
       " '마라탕',\n",
       " '라면',\n",
       " '라면',\n",
       " '우동',\n",
       " '쌀국수']"
      ]
     },
     "execution_count": 5,
     "metadata": {},
     "output_type": "execute_result"
    }
   ],
   "source": [
    "# 전체 데이터 가져오기\n",
    "foods.collect()"
   ]
  },
  {
   "cell_type": "code",
   "execution_count": 6,
   "id": "b9a6704f",
   "metadata": {},
   "outputs": [
    {
     "data": {
      "text/plain": [
       "14"
      ]
     },
     "execution_count": 6,
     "metadata": {},
     "output_type": "execute_result"
    }
   ],
   "source": [
    "# RDD 크기 구하기\n",
    "foods.count()"
   ]
  },
  {
   "cell_type": "markdown",
   "id": "cf355976",
   "metadata": {},
   "source": [
    "# Narrow Transformations\n",
    "- 1:1 변환\n",
    "- 하나의 열을 조작할 때, 다른 열이나 파티션의 데이터를 사용하지 않음."
   ]
  },
  {
   "cell_type": "code",
   "execution_count": 8,
   "id": "47bde972",
   "metadata": {},
   "outputs": [
    {
     "data": {
      "text/plain": [
       "ParallelCollectionRDD[5] at readRDDFromFile at PythonRDD.scala:274"
      ]
     },
     "execution_count": 8,
     "metadata": {},
     "output_type": "execute_result"
    }
   ],
   "source": [
    "# map(<task>)\n",
    "# - RDD 내의 데이터를 하나씩 꺼내서 '<task>'가 적용된 새로운 RDD 생성\n",
    "simple_rdd = sc.parallelize([1, 2, 3])\n",
    "simple_rdd"
   ]
  },
  {
   "cell_type": "code",
   "execution_count": 9,
   "id": "96509684",
   "metadata": {},
   "outputs": [
    {
     "data": {
      "text/plain": [
       "PythonRDD[6] at RDD at PythonRDD.scala:53"
      ]
     },
     "execution_count": 9,
     "metadata": {},
     "output_type": "execute_result"
    }
   ],
   "source": [
    "# task 함수 정의할 때 \"반드시\" 리턴 있어야 함.\n",
    "# - print != return\n",
    "simple_rdd2 = simple_rdd.map(lambda x : x*2)\n",
    "simple_rdd2"
   ]
  },
  {
   "cell_type": "code",
   "execution_count": 10,
   "id": "d358fb42",
   "metadata": {},
   "outputs": [
    {
     "data": {
      "text/plain": [
       "[2, 4, 6]"
      ]
     },
     "execution_count": 10,
     "metadata": {},
     "output_type": "execute_result"
    }
   ],
   "source": [
    "simple_rdd2.collect()"
   ]
  },
  {
   "cell_type": "code",
   "execution_count": 11,
   "id": "e73364f2",
   "metadata": {},
   "outputs": [],
   "source": [
    "# flatMap(<task>)\n",
    "# - map 함수와 매우 흡사하나, 모든 결과가 1차원 형식\n",
    "movies = [\n",
    "    \"그린 북\",\n",
    "    \"매트릭스\",\n",
    "    \"토이 스토리\",\n",
    "    \"캐스트 어웨이\",\n",
    "    \"포드 V 페라리\",\n",
    "    \"보헤미안 랩소디\",\n",
    "    \"빽 투 더 퓨처\",\n",
    "    \"반지의 제왕\",\n",
    "    \"죽은 시인의 사회\"\n",
    "]"
   ]
  },
  {
   "cell_type": "code",
   "execution_count": 12,
   "id": "67a93a4b",
   "metadata": {},
   "outputs": [
    {
     "data": {
      "text/plain": [
       "['그린 북',\n",
       " '매트릭스',\n",
       " '토이 스토리',\n",
       " '캐스트 어웨이',\n",
       " '포드 V 페라리',\n",
       " '보헤미안 랩소디',\n",
       " '빽 투 더 퓨처',\n",
       " '반지의 제왕',\n",
       " '죽은 시인의 사회']"
      ]
     },
     "execution_count": 12,
     "metadata": {},
     "output_type": "execute_result"
    }
   ],
   "source": [
    "moviesRDD = sc.parallelize(movies)\n",
    "moviesRDD.collect()"
   ]
  },
  {
   "cell_type": "code",
   "execution_count": 13,
   "id": "5bb45b26",
   "metadata": {},
   "outputs": [
    {
     "data": {
      "text/plain": [
       "[['그린', '북'],\n",
       " ['매트릭스'],\n",
       " ['토이', '스토리'],\n",
       " ['캐스트', '어웨이'],\n",
       " ['포드', 'V', '페라리'],\n",
       " ['보헤미안', '랩소디'],\n",
       " ['빽', '투', '더', '퓨처'],\n",
       " ['반지의', '제왕'],\n",
       " ['죽은', '시인의', '사회']]"
      ]
     },
     "execution_count": 13,
     "metadata": {},
     "output_type": "execute_result"
    }
   ],
   "source": [
    "mapMovies = moviesRDD.map(lambda x : x.split())\n",
    "mapMovies.collect()"
   ]
  },
  {
   "cell_type": "code",
   "execution_count": 14,
   "id": "a3557c8f",
   "metadata": {},
   "outputs": [
    {
     "data": {
      "text/plain": [
       "['그린',\n",
       " '북',\n",
       " '매트릭스',\n",
       " '토이',\n",
       " '스토리',\n",
       " '캐스트',\n",
       " '어웨이',\n",
       " '포드',\n",
       " 'V',\n",
       " '페라리',\n",
       " '보헤미안',\n",
       " '랩소디',\n",
       " '빽',\n",
       " '투',\n",
       " '더',\n",
       " '퓨처',\n",
       " '반지의',\n",
       " '제왕',\n",
       " '죽은',\n",
       " '시인의',\n",
       " '사회']"
      ]
     },
     "execution_count": 14,
     "metadata": {},
     "output_type": "execute_result"
    }
   ],
   "source": [
    "flatMapMovies = moviesRDD.flatMap(lambda x : x.split())\n",
    "flatMapMovies.collect()"
   ]
  },
  {
   "cell_type": "code",
   "execution_count": 16,
   "id": "10009c2c",
   "metadata": {},
   "outputs": [
    {
     "data": {
      "text/plain": [
       "['그린',\n",
       " '북',\n",
       " '토이',\n",
       " '스토리',\n",
       " '캐스트',\n",
       " '어웨이',\n",
       " '포드',\n",
       " 'V',\n",
       " '페라리',\n",
       " '보헤미안',\n",
       " '랩소디',\n",
       " '빽',\n",
       " '투',\n",
       " '더',\n",
       " '퓨처',\n",
       " '반지의',\n",
       " '제왕',\n",
       " '죽은',\n",
       " '시인의',\n",
       " '사회']"
      ]
     },
     "execution_count": 16,
     "metadata": {},
     "output_type": "execute_result"
    }
   ],
   "source": [
    "# filter(<task>)\n",
    "# - 'task'의 결과가 True인 데이터만 추출\n",
    "filterMovies = flatMapMovies.filter(lambda x : x != '매트릭스')\n",
    "filterMovies.collect()"
   ]
  },
  {
   "cell_type": "markdown",
   "id": "a332dacf",
   "metadata": {},
   "source": [
    "# Wide Transformations\n",
    "- 데이터의 파티션 또는 노드가 바뀔 수 있는 변환\n",
    "- 셔플링이 일어날 수 있기 때문에 느림"
   ]
  },
  {
   "cell_type": "code",
   "execution_count": 17,
   "id": "ce6bf041",
   "metadata": {},
   "outputs": [
    {
     "data": {
      "text/plain": [
       "['짜장면',\n",
       " '짬뽕',\n",
       " '마라탕',\n",
       " '떡볶이',\n",
       " '쌀국수',\n",
       " '짬뽕',\n",
       " '짜장면',\n",
       " '짜장면',\n",
       " '짬뽕',\n",
       " '마라탕',\n",
       " '라면',\n",
       " '라면',\n",
       " '우동',\n",
       " '쌀국수',\n",
       " '짬뽕밥',\n",
       " '짬짜면',\n",
       " '볶음밥',\n",
       " '볶짬면']"
      ]
     },
     "execution_count": 17,
     "metadata": {},
     "output_type": "execute_result"
    }
   ],
   "source": [
    "foods = sc.parallelize([\n",
    "    \"짜장면\", \"짬뽕\", \"마라탕\",\n",
    "    \"떡볶이\", \"쌀국수\",\"짬뽕\",\n",
    "    \"짜장면\", \"짜장면\", \"짬뽕\",\n",
    "    \"마라탕\", \"라면\", \"라면\",\n",
    "    \"우동\", \"쌀국수\", \"짬뽕밥\", \"짬짜면\", \"볶음밥\", \"볶짬면\"\n",
    "])\n",
    "foods.collect()"
   ]
  },
  {
   "cell_type": "code",
   "execution_count": 18,
   "id": "ab03f283",
   "metadata": {},
   "outputs": [
    {
     "data": {
      "text/plain": [
       "PythonRDD[17] at RDD at PythonRDD.scala:53"
      ]
     },
     "execution_count": 18,
     "metadata": {},
     "output_type": "execute_result"
    }
   ],
   "source": [
    "# groupBy(<task>)\n",
    "# - task는 데이터 묶는 기준 설정\n",
    "\n",
    "# 그룹핑의 기준 : 각 원소의 첫 글자\n",
    "foodsGroup = foods.groupBy(lambda x : x[0])\n",
    "foodsGroup"
   ]
  },
  {
   "cell_type": "code",
   "execution_count": 19,
   "id": "e82dbe45",
   "metadata": {},
   "outputs": [
    {
     "data": {
      "text/plain": [
       "[('짜', <pyspark.resultiterable.ResultIterable at 0x7f1a6d3a3130>),\n",
       " ('짬', <pyspark.resultiterable.ResultIterable at 0x7f1a6caa15b0>),\n",
       " ('마', <pyspark.resultiterable.ResultIterable at 0x7f1a6caa1520>),\n",
       " ('떡', <pyspark.resultiterable.ResultIterable at 0x7f1a6caa1ee0>),\n",
       " ('쌀', <pyspark.resultiterable.ResultIterable at 0x7f1a6caa1fd0>),\n",
       " ('라', <pyspark.resultiterable.ResultIterable at 0x7f1a6caa14c0>),\n",
       " ('우', <pyspark.resultiterable.ResultIterable at 0x7f1a6caa1a30>),\n",
       " ('볶', <pyspark.resultiterable.ResultIterable at 0x7f1a6cab5730>)]"
      ]
     },
     "execution_count": 19,
     "metadata": {},
     "output_type": "execute_result"
    }
   ],
   "source": [
    "result = foodsGroup.collect()\n",
    "result"
   ]
  },
  {
   "cell_type": "code",
   "execution_count": 20,
   "id": "1a73c3ab",
   "metadata": {},
   "outputs": [
    {
     "name": "stdout",
     "output_type": "stream",
     "text": [
      "짜 ['짜장면', '짜장면', '짜장면']\n",
      "짬 ['짬뽕', '짬뽕', '짬뽕', '짬뽕밥', '짬짜면']\n",
      "마 ['마라탕', '마라탕']\n",
      "떡 ['떡볶이']\n",
      "쌀 ['쌀국수', '쌀국수']\n",
      "라 ['라면', '라면']\n",
      "우 ['우동']\n",
      "볶 ['볶음밥', '볶짬면']\n"
     ]
    }
   ],
   "source": [
    "for k, v in result:\n",
    "    print(k, list(v))"
   ]
  },
  {
   "cell_type": "code",
   "execution_count": 21,
   "id": "b2c57e65",
   "metadata": {},
   "outputs": [],
   "source": [
    "sc.stop()"
   ]
  },
  {
   "cell_type": "code",
   "execution_count": null,
   "id": "43d0ddfd",
   "metadata": {},
   "outputs": [],
   "source": []
  }
 ],
 "metadata": {
  "kernelspec": {
   "display_name": "Python 3 (ipykernel)",
   "language": "python",
   "name": "python3"
  },
  "language_info": {
   "codemirror_mode": {
    "name": "ipython",
    "version": 3
   },
   "file_extension": ".py",
   "mimetype": "text/x-python",
   "name": "python",
   "nbconvert_exporter": "python",
   "pygments_lexer": "ipython3",
   "version": "3.8.18"
  }
 },
 "nbformat": 4,
 "nbformat_minor": 5
}
